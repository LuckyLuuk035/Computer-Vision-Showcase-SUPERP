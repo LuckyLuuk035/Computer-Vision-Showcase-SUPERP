{
 "cells": [
  {
   "cell_type": "markdown",
   "id": "02e97a26-c3a9-4695-90eb-4eba369ea075",
   "metadata": {},
   "source": [
    "Bij het implementeren van over- en undersampling als technieken voor data-augmentatie, is het belangrijk om verschillende methoden te begrijpen en voorzichtig te werk te gaan om te zorgen dat de resulterende dataset een evenwichtige weergave biedt zonder overfitting te introduceren. Hier is hoe je deze technieken kunt aanpakken:\n",
    " "
   ]
  },
  {
   "cell_type": "markdown",
   "id": "7d3bd521-7590-493f-a56e-566fada7314c",
   "metadata": {},
   "source": [
    "### Oversampling\n",
    " "
   ]
  },
  {
   "cell_type": "markdown",
   "id": "ab827a3d-036b-4b4c-926c-161c95f3dbbc",
   "metadata": {},
   "source": [
    "Oversampling houdt in dat je meer voorbeelden toevoegt aan de minderheidscategorieën om een evenwichtiger dataset te creëren. Hier zijn enkele methoden:\n",
    " \n",
    "1. **Eenvoudige duplicatie**:\n",
    "   - Kopieer willekeurig bestaande voorbeelden van de minderheidscategorie totdat de categorieën in balans zijn.\n",
    "   - Voordeel: Eenvoudig en snel te implementeren.\n",
    "   - Nadeel: Kan leiden tot overfitting doordat hetzelfde voorbeeld meerdere keren wordt gezien.\n",
    " \n",
    "2. **SMOTE (Synthetic Minority Over-sampling Technique)**:\n",
    "   - Deze techniek genereert synthetische voorbeelden door de kenmerken van nabijgelegen voorbeelden van de minderheidscategorie te interpoleren.\n",
    "   - Voordeel: Creëert nieuwe, unieke voorbeelden waardoor overfitting wordt verminderd.\n",
    "   - Nadeel: Compliceert de dataset met gegenereerde data die misschien niet volledig representatief is.\n",
    " \n",
    "3. **ADASYN (Adaptive Synthetic Sampling)**:\n",
    "   - Vergelijkbaar met SMOTE, maar richt zich meer op de moeilijker te classificeren voorbeelden van de minderheidscategorie.\n",
    "   - Voordeel: Nadruk op uitdagendere gebieden kan de classifier robuuster maken.\n",
    "   - Nadeel: Kan leiden tot het genereren van ruis als het niet goed wordt toegepast.\n",
    " "
   ]
  },
  {
   "cell_type": "markdown",
   "id": "37b5aa75-0dcf-46c5-8bd1-af2201e79ee9",
   "metadata": {},
   "source": [
    "Het is verstandig oversampling of undersampling toe te passen voor je een eigen gemiddelde en standaardafwijking gaat berekenen aangezien de uitkomsten hiervan niet meer correct zijn voor de dataset nadat hier extra afbeeldingen aan zijn toegevoegd of bij weg zijn gehaald."
   ]
  },
  {
   "cell_type": "markdown",
   "id": "c7e1f560-abb9-4100-8152-255c4f3f7928",
   "metadata": {},
   "source": [
    "### Eenvoudige oversampling"
   ]
  },
  {
   "cell_type": "markdown",
   "id": "c6cd7ade-5d36-4722-9780-fac36e7d4df9",
   "metadata": {},
   "source": [
    "Hier kopiëren we willekeurig voorbeelden van de minderheidscategorie om de dataset in balans te brengen."
   ]
  },
  {
   "cell_type": "code",
   "execution_count": 6,
   "id": "51567155-fda9-434e-a563-a094b3972c41",
   "metadata": {},
   "outputs": [],
   "source": [
    "import os\n",
    "import shutil\n",
    "import numpy as np\n",
    "from sklearn.model_selection import train_test_split"
   ]
  },
  {
   "cell_type": "code",
   "execution_count": 7,
   "id": "bed1ee5e-cc61-40c9-8f26-ccbee385d05a",
   "metadata": {},
   "outputs": [],
   "source": [
    "# Stel de paden in voor de dataset\n",
    "base_dir = '..\\\\..\\\\Data\\\\'\n",
    "dataset_dir = base_dir + 'eigen_afbeeldingen_11_12'\n",
    "oversampled_dataset_dir = base_dir + 'oversampled_dataset'\n",
    "undersampled_dataset_dir = base_dir + 'undersampled_dataset'\n",
    "\n",
    "# Creëer directories als ze nog niet bestaan\n",
    "os.makedirs(oversampled_dataset_dir, exist_ok=True)\n",
    "os.makedirs(undersampled_dataset_dir, exist_ok=True)\n",
    "\n",
    "# Lijst van klassen (subdirectory-namen)\n",
    "classes = os.listdir(dataset_dir)"
   ]
  },
  {
   "cell_type": "code",
   "execution_count": 8,
   "id": "76389bdf-56d3-48e3-90a0-5ecd4c3a74e1",
   "metadata": {},
   "outputs": [
    {
     "data": {
      "text/plain": [
       "['Appel', 'Banaan', 'Kiwi', 'Peer', 'sinaasappel_mandarijn', 'Tomaat']"
      ]
     },
     "execution_count": 8,
     "metadata": {},
     "output_type": "execute_result"
    }
   ],
   "source": [
    "classes"
   ]
  },
  {
   "cell_type": "raw",
   "id": "3d60fa27-2b47-4a1e-9590-800ea78d94ac",
   "metadata": {},
   "source": [
    "Klasse 'Kiwi' heeft 1125 afbeeldingen.\n",
    "Klasse 'Banaan' heeft 922 afbeeldingen.\n",
    "Klasse 'sinaasappel_mandarijn' heeft 1344 afbeeldingen.\n",
    "Klasse 'Tomaat' heeft 980 afbeeldingen.\n",
    "Klasse 'Appel' heeft 1107 afbeeldingen.\n",
    "Klasse 'Peer' heeft 1032 afbeeldingen."
   ]
  },
  {
   "cell_type": "markdown",
   "id": "fdc8607e-ac49-4ffe-b252-4dd92ec50727",
   "metadata": {},
   "source": [
    "    Door data understanding weten we dat de class verdeling er zo uitziet - Voeg hier die tool toe"
   ]
  },
  {
   "cell_type": "markdown",
   "id": "40f31d6f-1683-4753-9f00-8876bff2e1a3",
   "metadata": {},
   "source": [
    "We hebben nu verschillende opties, we zouden de alles kunnen undersamplen naar de klasse van banaan, alles oversamplen naar sinaasappel_mandarijn of er tussening van appel. Aangezien dit proces wordt nu wordt voorgedaan kiezen we voor de laatste."
   ]
  },
  {
   "cell_type": "code",
   "execution_count": 11,
   "id": "2855d722-aa7d-40d3-8d54-c569cfc96ede",
   "metadata": {},
   "outputs": [],
   "source": [
    "# Verkrijg de lijst van bestanden per klasse\n",
    "files_banaan = os.listdir(os.path.join(dataset_dir, 'Banaan')) # Oversample\n",
    "files_sinaasappel_mandarijn = os.listdir(os.path.join(dataset_dir, 'sinaasappel_mandarijn')) # Undersample\n",
    "files_appel = os.listdir(os.path.join(dataset_dir, 'Appel')) # Target amount"
   ]
  },
  {
   "cell_type": "code",
   "execution_count": 12,
   "id": "82bb571e-fef3-407c-bdec-251990ea0fc4",
   "metadata": {},
   "outputs": [],
   "source": [
    "# Voorbeeld voor eenvoudige oversampling door dupliceren van class_1 image bestanden\n",
    "# Zorg ervoor dat class_1 in balans is met class_0 in terms of aantal samples\n",
    "def simple_oversample_images(source_dir, dest_dir, num_samples_needed):\n",
    "    source_files = os.listdir(source_dir)\n",
    "    os.makedirs(dest_dir, exist_ok=True)\n",
    "    \n",
    "    # Kopieer alle bestaande bestanden\n",
    "    for file in source_files:\n",
    "        shutil.copy(os.path.join(source_dir, file), os.path.join(dest_dir, file))\n",
    "        \n",
    "    # Dupliceren van willekeurige bestanden tot we genoeg hebben\n",
    "    additional_files = np.random.choice(source_files, num_samples_needed, replace=True)\n",
    "    for i, file in enumerate(additional_files):\n",
    "        new_file_name = f\"dup_{i}_{file}\"\n",
    "        shutil.copy(os.path.join(source_dir, file), os.path.join(dest_dir, new_file_name))"
   ]
  },
  {
   "cell_type": "code",
   "execution_count": 13,
   "id": "9f520f1c-9e5f-4d46-bb0b-0668021628e8",
   "metadata": {},
   "outputs": [],
   "source": [
    "# Oversample de minderheidscategorie\n",
    "num_samples_needed = len(files_appel) - len(files_banaan)\n",
    "simple_oversample_images(os.path.join(dataset_dir, 'Banaan'), os.path.join(oversampled_dataset_dir, 'Banaan'), num_samples_needed)"
   ]
  },
  {
   "cell_type": "code",
   "execution_count": 14,
   "id": "12dfda64-596b-4a6a-a2b6-7fbf9b116ed2",
   "metadata": {},
   "outputs": [
    {
     "data": {
      "text/plain": [
       "'..\\\\..\\\\Data\\\\oversampled_dataset\\\\Appel'"
      ]
     },
     "execution_count": 14,
     "metadata": {},
     "output_type": "execute_result"
    }
   ],
   "source": [
    "# Kopieer de meerderheidscategorie zonder verandering\n",
    "shutil.copytree(os.path.join(dataset_dir, 'Appel'), os.path.join(oversampled_dataset_dir, 'Appel'))"
   ]
  },
  {
   "cell_type": "markdown",
   "id": "8af4271a-f2e0-4148-b190-8323cdce6b3e",
   "metadata": {},
   "source": [
    "    Voeg hier weer de understanding tool toe"
   ]
  },
  {
   "cell_type": "markdown",
   "id": "ff4cac39-4303-47e4-bb13-2a90c3bbe23b",
   "metadata": {},
   "source": [
    "We maken de keuze voor een eenvoudige oversampling doordat bij het inladen van de data hier nog random aanpassingen op worden gedaan waardoor geen exact zelfde afbeeldingen zullen voorkomen."
   ]
  },
  {
   "cell_type": "markdown",
   "id": "9c2a8dee-e228-49b2-91e6-06ca1c324af9",
   "metadata": {},
   "source": [
    "### Undersampling\n",
    " "
   ]
  },
  {
   "cell_type": "markdown",
   "id": "ac67036b-a8c2-46e2-af84-1f39c7b67dbc",
   "metadata": {},
   "source": [
    "Undersampling reduceert het aantal voorbeelden in de meerderheidscategorie om balans te bereiken. Hier zijn enkele methoden:\n",
    " \n",
    "1. **Willekeurige ondersampling**:\n",
    "   - Verwijder willekeurig voorbeelden uit de meerderheidscategorie totdat er balans is.\n",
    "   - Voordeel: Gemakkelijk te implementeren en kan computationele belasting verminderen.\n",
    "   - Nadeel: Verlies van potentiële informatie en kan leiden tot underfitting.\n",
    " \n",
    "2. **Cluster-gebaseerde ondersampling**:\n",
    "   - Gebruik clustering (zoals k-means) om de meerderheidscategorie in clusters te verdelen en dan voorbeelden te selecteren die het best elk cluster representeren.\n",
    "   - Voordeel: Behoudt representativiteit binnen de meerderheidscategorie.\n",
    "   - Nadeel: Complexer en tijdsintensiever.\n",
    " \n",
    "3. **NearMiss**:\n",
    "   - Strategieën zoals NearMiss 1, 2, of 3 selecteren voorbeelden op basis van hun afstand tot minderheidsvoorbeelden.\n",
    "   - Voordeel: Helpt bij het leren van betere beslissingsgrenzen.\n",
    "   - Nadeel: Kan computationeel intensief zijn.\n",
    " "
   ]
  },
  {
   "cell_type": "markdown",
   "id": "609bdc6f-5eaf-442f-a66c-30f326df2e08",
   "metadata": {},
   "source": [
    "### Willekeurige ondersampling"
   ]
  },
  {
   "cell_type": "markdown",
   "id": "9d945030-3f5c-4a06-84d6-d15dbf8a4dd1",
   "metadata": {},
   "source": [
    "Hier verwijderen we willekeurig voorbeelden uit de meerderheidscategorie om de dataset in balans te brengen."
   ]
  },
  {
   "cell_type": "code",
   "execution_count": 21,
   "id": "1778153d-6b87-49ee-b269-2094704b0ae9",
   "metadata": {},
   "outputs": [],
   "source": [
    "# Voorbeeld voor willekeurige ondersampling door verwijderen van sinaasappel_mandarijn image bestanden\n",
    "def random_undersample_images(source_dir, dest_dir, num_samples_to_keep):\n",
    "    source_files = os.listdir(source_dir)\n",
    "    os.makedirs(dest_dir, exist_ok=True)\n",
    "    \n",
    "    # Selecteer willekeurig bestanden om te behouden\n",
    "    selected_files = np.random.choice(source_files, num_samples_to_keep, replace=False)\n",
    "    for file in selected_files:\n",
    "        shutil.copy(os.path.join(source_dir, file), os.path.join(dest_dir, file))"
   ]
  },
  {
   "cell_type": "code",
   "execution_count": 22,
   "id": "d0182e1b-cef0-47cc-aac7-c7df0123a73b",
   "metadata": {},
   "outputs": [
    {
     "data": {
      "text/plain": [
       "'..\\\\..\\\\Data\\\\undersampled_dataset\\\\Appel'"
      ]
     },
     "execution_count": 22,
     "metadata": {},
     "output_type": "execute_result"
    }
   ],
   "source": [
    "# Undersample de meerderheidscategorie\n",
    "random_undersample_images(os.path.join(dataset_dir, 'sinaasappel_mandarijn'), \n",
    "                          os.path.join(undersampled_dataset_dir, 'sinaasappel_mandarijn'), \n",
    "                          len(files_appel))\n",
    "\n",
    "# Kopieer de minderheidscategorie zonder verandering\n",
    "shutil.copytree(os.path.join(dataset_dir, 'Appel'), os.path.join(undersampled_dataset_dir, 'Appel'))"
   ]
  },
  {
   "cell_type": "markdown",
   "id": "3f1b1ac9-05c1-4cfe-a7f0-1f91a80dafbd",
   "metadata": {},
   "source": [
    "    Voeg hier weer de understanding tool toe"
   ]
  },
  {
   "cell_type": "markdown",
   "id": "acb8bcb0-7b74-4503-87f5-b7cab54fd48f",
   "metadata": {},
   "source": [
    "Zo kan je nu met bovenstaande code een dataset compleet gelijk maken."
   ]
  }
 ],
 "metadata": {
  "kernelspec": {
   "display_name": "Python 3 (ipykernel)",
   "language": "python",
   "name": "python3"
  },
  "language_info": {
   "codemirror_mode": {
    "name": "ipython",
    "version": 3
   },
   "file_extension": ".py",
   "mimetype": "text/x-python",
   "name": "python",
   "nbconvert_exporter": "python",
   "pygments_lexer": "ipython3",
   "version": "3.9.20"
  }
 },
 "nbformat": 4,
 "nbformat_minor": 5
}
