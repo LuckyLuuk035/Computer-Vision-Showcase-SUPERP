{
 "cells": [
  {
   "cell_type": "markdown",
   "id": "55965357-9ec8-4aaf-8a99-963cf68bf86d",
   "metadata": {},
   "source": [
    "# Webscraper\n",
    "Wanneer je extra data nodig hebt om je dataset te vergroten kan je overwegen een webscraper te gebruiken deze extra afbeeldingen te vinden. De Python code waaruit deze notebook is opgebouwd is te vinden in de folder 'webscraper' met daarin oudere versies, de benodigdheden voor het runnen van een webscraper, opnames van het proces, de resultaten van het scrapen en een excel-sheet voor de overwegingen voor het vervolg."
   ]
  },
  {
   "cell_type": "markdown",
   "id": "f671eddd-84bc-407f-b56a-d75855bd526c",
   "metadata": {},
   "source": [
    "**Note:** Voor de huidige versie wordt gebruik gemaakt van Firefox met de geckodriver (aangezien er geen driver beschikbaar was voor huidige chrome versie). Het is mogelijk chrome te gebruiken maar hiervoor moet je zelf nog `IMAGE_CLASS_NAME` achterhalen voor de afbeeldingen."
   ]
  },
  {
   "cell_type": "markdown",
   "id": "e6c54e75-a460-4134-8233-3da915a53a69",
   "metadata": {},
   "source": [
    "#### Global Variables"
   ]
  },
  {
   "cell_type": "code",
   "execution_count": null,
   "id": "811d6b8c-2ead-4d07-a2f6-026b881a556b",
   "metadata": {},
   "outputs": [],
   "source": [
    "PATH = \"E:\\\\Studie\\\\Stage\\\\webscraper\\\\geckodriver.exe\" # Path naar driver\n",
    "FIREFOX_BINARY_PATH = \"C:\\\\Program Files\\\\Mozilla Firefox\\\\firefox.exe\" # Path naar browser exe\n",
    "IMAGE_CLASS_NAME = \"sFlh5c.FyHeAf.iPVvYb\" # Classname for images"
   ]
  },
  {
   "cell_type": "markdown",
   "id": "b7beefcc-8dfd-493f-b1a3-f12451dc416e",
   "metadata": {},
   "source": [
    "#### Imports"
   ]
  },
  {
   "cell_type": "code",
   "execution_count": null,
   "id": "1eebd64b-e7eb-4bea-ae64-87c3c16de84e",
   "metadata": {},
   "outputs": [],
   "source": [
    "from selenium import webdriver\n",
    "from selenium.common import TimeoutException\n",
    "from selenium.webdriver.common.by import By\n",
    "from selenium.webdriver.firefox.service import Service\n",
    "from selenium.webdriver.firefox.options import Options\n",
    "from selenium.webdriver.common.action_chains import ActionChains\n",
    "from selenium.webdriver.support.ui import WebDriverWait\n",
    "from selenium.webdriver.support import expected_conditions as EC\n",
    "from PIL import Image, ImageTk\n",
    "import tkinter as tk\n",
    "import time\n",
    "import os"
   ]
  },
  {
   "cell_type": "markdown",
   "id": "fe9eebc5-6b2e-422e-937a-55f4bec5cef6",
   "metadata": {},
   "source": [
    "### Web-Scraper"
   ]
  },
  {
   "cell_type": "code",
   "execution_count": null,
   "id": "cd72b0da-d162-49f9-806d-c82f185cfd83",
   "metadata": {},
   "outputs": [],
   "source": [
    "class WebScraper:\n",
    "    def __init__(self):\n",
    "        self.wd = None\n",
    "        self.urls = None\n",
    "        self.offset_x = None\n",
    "        self.offset_y = None\n",
    "\n",
    "    def setup_scraper(self):\n",
    "        # Instellingen voor Firefox\n",
    "        options = Options()\n",
    "        options.binary_location = FIREFOX_BINARY_PATH\n",
    "        options.headless = False\n",
    "\n",
    "        # Maak een WebDriver aan zonder gebruik van webdriver_manager\n",
    "        service = Service(PATH)\n",
    "        self.wd = webdriver.Firefox(service=service, options=options)\n",
    "        self.urls = set()\n",
    "\n",
    "    def open_web(self, URL):\n",
    "        self.wd.get(URL)\n",
    "        # Wacht tot het element met het specifieke id beschikbaar is en klik erop\n",
    "        close_button = WebDriverWait(self.wd, 10).until(\n",
    "            EC.element_to_be_clickable((By.ID, \"W0wltc\"))\n",
    "        )\n",
    "        close_button.click()\n",
    "\n",
    "        # Klik op de tumbnail button als het element beschikbaar is\n",
    "        tumbnail_button = WebDriverWait(self.wd, 10).until(\n",
    "            EC.element_to_be_clickable((By.CSS_SELECTOR, \".H8Rx8c\"))\n",
    "        )\n",
    "        tumbnail_button.click()\n",
    "\n",
    "    def find_image_src(self, class_name, delay=0.2, timeout=10):\n",
    "        time.sleep(delay)\n",
    "        try:\n",
    "            # Gebruik WebDriverWait om te wachten totdat het element beschikbaar is\n",
    "            WebDriverWait(self.wd, timeout).until(\n",
    "                EC.presence_of_element_located((By.CLASS_NAME, class_name))\n",
    "            )\n",
    "\n",
    "            # Vind Afbeelding\n",
    "            image_elements = self.wd.find_elements(By.CLASS_NAME, class_name)\n",
    "            for image in image_elements:\n",
    "                src = image.get_attribute(\"src\")\n",
    "                if src and 'http' in src:\n",
    "                    self.urls.add(src)\n",
    "                    print(\"found image:\", src)\n",
    "\n",
    "        except TimeoutException:\n",
    "            print(\"Timeout: kon het element met class_name niet vinden binnen de opgegeven tijd.\")\n",
    "\n",
    "        except Exception as e:\n",
    "            print(\"Er is een fout opgetreden tijdens het vinden van de afbeelding:\\n\", e)\n",
    "\n",
    "\n",
    "    def go_next_image(self):\n",
    "        if not self.offset_x:\n",
    "            try:  # find button element\n",
    "                # Wacht tot de knop met het juiste aria-label klikbaar is en klik erop\n",
    "                next_button = WebDriverWait(self.wd, 10).until(\n",
    "                    # EC.element_to_be_clickable((By.XPATH, \"//button[@aria-label='Volgende afbeelding']\"))\n",
    "                    EC.element_to_be_clickable((By.XPATH, \"//button[@jsname='OCpkoe']\"))\n",
    "                )\n",
    "                # Verkrijg locaties en maten\n",
    "                location = next_button.location\n",
    "                size = next_button.size\n",
    "                print(\"Button locatie:\", location)\n",
    "                print(\"Button grootte:\", size)\n",
    "\n",
    "                # Bereken het middelpunt van het element\n",
    "                self.offset_x = location['x'] + size['width'] / 2\n",
    "                self.offset_y = location['y'] + size['height'] / 2\n",
    "                print(\"x offset:\", self.offset_x, \"| y offset:\", self.offset_y)\n",
    "\n",
    "            except Exception as e:\n",
    "                print(\"Error while finding button:\", e)\n",
    "                # print(self.offset_x, self.offset_y)\n",
    "        try:\n",
    "            # Simuleer klik op 'Volgende afbeelding'\n",
    "            actions = ActionChains(self.wd)\n",
    "            actions.move_by_offset(self.offset_x,\n",
    "                                   self.offset_y).click().perform()\n",
    "            # Move terug\n",
    "            actions.move_by_offset(self.offset_x * -1,\n",
    "                                   self.offset_y * -1).perform()\n",
    "        except Exception as e:\n",
    "            print(\"Error while CLICKING next button:\", e)\n",
    "\n",
    "    def get_images(self, max_len=1000):\n",
    "        counter = 0\n",
    "        c = 0\n",
    "        while len(self.urls) < max_len:\n",
    "            # Scroll to the top\n",
    "            self.wd.execute_script(\"window.scrollTo(0, 0)\")\n",
    "            time.sleep(0.15)\n",
    "\n",
    "            last_len = len(self.urls)\n",
    "\n",
    "            self.find_image_src(IMAGE_CLASS_NAME, delay=0.1)\n",
    "            try:\n",
    "                # Soms heeft het programma niet door dat er een nieuwe src is toegevoegd.\n",
    "                if last_len == len(self.urls):\n",
    "                    counter += 1\n",
    "                else:\n",
    "                    counter = 0\n",
    "                if counter == 20:\n",
    "                    break\n",
    "            except Exception as e:\n",
    "                print(e)\n",
    "            self.go_next_image()\n",
    "            c += 1\n",
    "        print(\"self.urls length:\", len(self.urls), \"| counter size:\", c)\n",
    "        return self.urls\n",
    "\n",
    "    def scrape_images(self, class_dict, amount):\n",
    "        for class_name, URL in class_dict.items():\n",
    "            self.setup_scraper()\n",
    "            self.open_web(URL)\n",
    "            time.sleep(3)\n",
    "\n",
    "            self.get_images(amount)\n",
    "\n",
    "            self.wd.execute_script(\"window.scrollTo(0, document.body.scrollHeight)\")\n",
    "\n",
    "            # Print gevonden URL's\n",
    "            print(\"Gevonden URL's:\", self.urls)\n",
    "\n",
    "            self.write_to_file(class_name)\n",
    "            time.sleep(1)\n",
    "            self.wd.quit()\n",
    "\n",
    "    def write_to_file(self, class_name):\n",
    "        # File path where the set will be saved\n",
    "        file_path = \"img_src_paths\\\\\" + class_name + '.txt'\n",
    "\n",
    "        # Open the file in write mode\n",
    "        with open(file_path, 'w') as file:\n",
    "            for link in self.urls:\n",
    "                file.write(link + '\\n')\n",
    "        print(f\"Set has been saved to {file_path}\")\n",
    "        return True"
   ]
  },
  {
   "cell_type": "markdown",
   "id": "6ac72a2a-17e6-444f-9df8-494b9ffe615b",
   "metadata": {},
   "source": [
    "#### User Input\n",
    "Maak een `class_dict` met de naam voor het bestand van het zoek resultaat met de bijhorende URL op google images. "
   ]
  },
  {
   "cell_type": "code",
   "execution_count": null,
   "id": "e92a9760-baeb-4184-b3e4-87c888090fa6",
   "metadata": {},
   "outputs": [],
   "source": [
    "# Voorbeeld class_dict\n",
    "class_dict = {\n",
    "    \"naam bestand\" : \"URL na uivoeren google image search\"\n",
    "}"
   ]
  },
  {
   "cell_type": "code",
   "execution_count": null,
   "id": "f532c962-e4ac-4968-9352-4aaa9e4ea4b7",
   "metadata": {},
   "outputs": [],
   "source": [
    "# 1 vd class_dicts gebruikt tijdens project\n",
    "DONT_USE = {\n",
    "    \"sinaasappel\" : \"https://www.google.com/search?sca_esv=4ebb9fe4becce684&q=sinaasappel&udm=2&fbs=AEQNm0A6bwEop21ehxKWq5cj-cHaxUZOSO72WoU7KkLyB7O1BOnPTqc2lmP5Jtiku-C_ETuS3sociDRHPGNCwJbzshSCdJ_BSgyAonffcmsoASpuek7ub0FxVwE7Kvt4wKYZeIpvWCW5rAj73VwqRL4osU_6y-G7MrjwXqWJ8pSRoOfeoy_deL-scUsp-Md6wGCilrYQJX4b&sa=X&ved=2ahUKEwihmfHEv5qKAxVhgv0HHccxJOcQtKgLegQIFxAB&biw=1229&bih=895\",\n",
    "    \"rode_appel\" : \"https://www.google.com/search?q=rode+appel&sca_esv=4ebb9fe4becce684&udm=2&biw=1229&bih=895&ei=wMhWZ5a2Je-D9u8P-J_foAs&ved=0ahUKEwiWlvTFv5qKAxXvgf0HHfjPF7QQ4dUDCBA&uact=5&oq=rode+appel&gs_lp=EgNpbWciCnJvZGUgYXBwZWwyBRAAGIAEMgUQABiABDIFEAAYgAQyBRAAGIAEMgUQABiABDIFEAAYgAQyBRAAGIAEMgUQABiABDIFEAAYgAQyBRAAGIAESMMUUL4GWOcQcAF4AJABAJgBT6ABywSqAQIxMLgBA8gBAPgBAZgCC6AChAXCAg0QABiABBixAxhDGIoFwgILEAAYgAQYsQMYgwHCAgYQABgHGB7CAgoQABiABBhDGIoFwgIOEAAYgAQYsQMYgwEYigXCAggQABiABBixA5gDAIgGAZIHAjExoAehMA&sclient=img\",\n",
    "    \"groene_appel\" : \"https://www.google.com/search?q=groene+appel&sca_esv=4ebb9fe4becce684&udm=2&biw=1229&bih=895&ei=_chWZ873Jca49u8PqM72kQo&oq=groene+appel&gs_lp=EgNpbWciDGdyb2VuZSBhcHBlbCoCCAAyChAAGIAEGEMYigUyBhAAGAcYHjIGEAAYBxgeMgYQABgHGB4yBRAAGIAEMgUQABiABDIFEAAYgAQyBRAAGIAEMgoQABiABBhDGIoFMgUQABiABEiCNFCTDliRInADeACQAQCYAawBoAGVBqoBAzMuNLgBAcgBAPgBAZgCCaACiQWYAwCIBgGSBwM2LjOgB5Ij&sclient=img\",\n",
    "    \"banaan\" : \"https://www.google.com/search?q=banaan&sca_esv=4ebb9fe4becce684&udm=2&biw=1229&bih=895&ei=H8lWZ5y7BqL97_UP6reP0AY&ved=0ahUKEwjcxvvyv5qKAxWi_rsIHerbA2oQ4dUDCBA&uact=5&oq=banaan&gs_lp=EgNpbWciBmJhbmFhbjINEAAYgAQYsQMYQxiKBTIKEAAYgAQYQxiKBTIFEAAYgAQyDhAAGIAEGLEDGIMBGIoFMgUQABiABDIFEAAYgAQyBRAAGIAEMgUQABiABDIFEAAYgAQyBRAAGIAESJ4WUKcGWKgMcAF4AJABAJgBQaAB1wKqAQE2uAEDyAEA-AEBmAIHoALyAsICBhAAGAcYHsICCBAAGIAEGLEDwgILEAAYgAQYsQMYgwGYAwCIBgGSBwE3oAfeHQ&sclient=img\",\n",
    "    \"peer\" : \"https://www.google.com/search?q=peer&sca_esv=4ebb9fe4becce684&udm=2&biw=1229&bih=895&ei=bslWZ_CCCbX-7_UP-frn0AM&ved=0ahUKEwjw8dOYwJqKAxU1_7sIHXn9GToQ4dUDCBA&uact=5&oq=peer&gs_lp=EgNpbWciBHBlZXIyDRAAGIAEGLEDGEMYigUyCxAAGIAEGLEDGIMBMgsQABiABBixAxiDATIIEAAYgAQYsQMyCBAAGIAEGLEDMgUQABiABDIFEAAYgAQyBRAAGIAEMggQABiABBixAzIFEAAYgARIqw9QnAtYhA5wAXgAkAEAmAGsAaABpwKqAQMyLjG4AQPIAQD4AQGYAgSgArcCwgIGEAAYBxgewgIKEAAYgAQYQxiKBcICDhAAGIAEGLEDGIMBGIoFmAMAiAYBkgcDMy4xoAfYDg&sclient=img\",\n",
    "    \"dried_plum\" : \"https://www.google.com/search?q=dried+plum&sca_esv=4ebb9fe4becce684&udm=2&biw=1229&bih=895&ei=_8lWZ4_tM7KU9u8P8ZytiQs&ved=0ahUKEwjP6JDewJqKAxUyiv0HHXFOK7EQ4dUDCBA&uact=5&oq=dried+plum&gs_lp=EgNpbWciCmRyaWVkIHBsdW0yBRAAGIAEMgUQABiABDIFEAAYgAQyBRAAGIAEMgUQABiABDIFEAAYgAQyBRAAGIAEMgUQABiABDIFEAAYgAQyBRAAGIAESI0_ULIKWPc3cAR4AJABAJgBtAGgAaIGqgEEMTIuMbgBA8gBAPgBAZgCEKACzQbCAg0QABiABBixAxhDGIoFwgIIEAAYgAQYsQPCAgYQABgHGB7CAgoQABiABBhDGIoFwgIOEAAYgAQYsQMYgwEYigXCAgsQABiABBixAxiDAcICBxAAGIAEGAqYAwCIBgGSBwQxNS4xoAe9OA&sclient=img\",\n",
    "    \"cherry_pruimtomaat\" : \"https://www.google.com/search?client=firefox-b-d&sca_esv=4ebb9fe4becce684&udm=2&q=cherry+pruimtomaat&spell=1&sa=X&ved=2ahUKEwimqtSxwZqKAxUC8LsIHf1YOJ8QBSgAegQIBxAB&biw=1229&bih=895&dpr=1\",\n",
    "    \"mandarijn\" : \"https://www.google.com/search?q=mandarijn&client=firefox-b-d&sca_esv=4ebb9fe4becce684&udm=2&biw=1229&bih=895&ei=scpWZ-aSGsf_7_UPnJbdqQo&ved=0ahUKEwimr-eywZqKAxXH_7sIHRxLN6UQ4dUDCBA&uact=5&oq=mandarijn&gs_lp=EgNpbWciCW1hbmRhcmlqbjIIEAAYgAQYsQMyBRAAGIAEMgUQABiABDIFEAAYgAQyBRAAGIAEMgUQABiABDIFEAAYgAQyBRAAGIAEMgUQABiABDIFEAAYgARI8oYCUKX3AVidgAJwA3gAkAEAmAFCoAHfA6oBATm4AQPIAQD4AQGYAgygAooEwgIEEAAYHsICCxAAGIAEGLEDGIMBwgIOEAAYgAQYsQMYgwEYigXCAgoQABiABBhDGIoFwgIQEAAYgAQYsQMYQxiDARiKBZgDAIgGAZIHAjEyoAfUKw&sclient=img\",\n",
    "    \"green_kiwi\" : \"https://www.google.com/search?q=green+kiwi&client=firefox-b-d&sca_esv=4ebb9fe4becce684&udm=2&biw=1229&bih=895&ei=18pWZ6e-OomA9u8Px_fG2QE&ved=0ahUKEwjnhZfFwZqKAxUJgP0HHce7MRsQ4dUDCBA&uact=5&oq=green+kiwi&gs_lp=EgNpbWciCmdyZWVuIGtpd2kyBRAAGIAEMgUQABiABDIFEAAYgAQyBRAAGIAEMgUQABiABDIFEAAYgAQyBRAAGIAEMgUQABiABDIFEAAYgAQyBRAAGIAESIstUL8EWK8ZcAR4AJABAJgBPqABlgWqAQIxM7gBA8gBAPgBAZgCEaAC6AXCAg0QABiABBixAxhDGIoFwgIGEAAYBxgewgIKEAAYgAQYQxiKBcICCxAAGIAEGLEDGIMBwgIOEAAYgAQYsQMYgwEYigXCAggQABiABBixA8ICBBAAGAPCAgoQABiABBixAxgKwgIHEAAYgAQYCpgDAIgGAZIHAjE3oAf1QA&sclient=img\"\n",
    "}"
   ]
  },
  {
   "cell_type": "markdown",
   "id": "64b461b6-b4ea-45f1-8c56-587d1e626013",
   "metadata": {},
   "source": [
    "Verander `num_imgs` naar de hoeveelheid afbeeldingen die je wilt. Dit is zonder het meerekenen van afbeeldingen met beschermde auteursrechten. Vaak wordt het maximum niet behaald aangezien er geen verdere afbeeldingen te vinden zijn."
   ]
  },
  {
   "cell_type": "code",
   "execution_count": null,
   "id": "2d7bffc4-27e7-4cac-995a-756bae0c6f90",
   "metadata": {},
   "outputs": [],
   "source": [
    "# Maximaal aantal afbeeldingen\n",
    "num_imgs = 1000"
   ]
  },
  {
   "cell_type": "code",
   "execution_count": null,
   "id": "66d4dc65-1966-42a0-8bc9-b8144085f7e0",
   "metadata": {},
   "outputs": [],
   "source": [
    "ws = WebScraper()\n",
    "ws.scrape_images(class_dict, num_imgs)"
   ]
  },
  {
   "cell_type": "markdown",
   "id": "66b6c48b-6e27-4c90-8bb9-a981d085c047",
   "metadata": {},
   "source": [
    "### Download Images\n",
    "Na het ophalen van alle source links naar de afbeeldingen bezoeken we deze links en slaan (als mogelijk) deze afbeeldingen op."
   ]
  },
  {
   "cell_type": "code",
   "execution_count": null,
   "id": "0647daef-3625-44ba-87d9-cdfd01ae26b5",
   "metadata": {},
   "outputs": [],
   "source": [
    "def download_images_from_files(input_dir, output_dir):\n",
    "    # Maak de output directory aan als die niet bestaat\n",
    "    if not os.path.exists(output_dir):\n",
    "        os.makedirs(output_dir)\n",
    "\n",
    "    # Doorloop alle tekstbestanden in de input directory\n",
    "    for file_name in os.listdir(input_dir):\n",
    "        if file_name.endswith('.txt'):\n",
    "            file_base_name = os.path.splitext(file_name)[0]\n",
    "            input_file_path = os.path.join(input_dir, file_name)\n",
    "\n",
    "            # Maak een subdirectory aan met de naam van het tekstbestand\n",
    "            subdir_path = os.path.join(output_dir, file_base_name)\n",
    "            if not os.path.exists(subdir_path):\n",
    "                os.makedirs(subdir_path)\n",
    "\n",
    "            # Lees de URLs en download de afbeeldingen\n",
    "            with open(input_file_path, 'r') as file:\n",
    "                urls = file.readlines()\n",
    "\n",
    "            for idx, url in enumerate(urls):\n",
    "                try:\n",
    "                    url = url.strip()\n",
    "                    response = requests.get(url, timeout=10)\n",
    "\n",
    "                    # Check of de HTTP-response een afbeelding bevat\n",
    "                    content_type = response.headers.get('Content-Type')\n",
    "                    if 'image' not in content_type:\n",
    "                        print(f\"URL does not point to an image: {url}\")\n",
    "                        continue\n",
    "\n",
    "                    image_content = response.content\n",
    "                    image_file = io.BytesIO(image_content)\n",
    "\n",
    "                    try:\n",
    "                        image = Image.open(image_file)\n",
    "                    except IOError:\n",
    "                        print(f\"Could not open image from {url}\")\n",
    "                        continue\n",
    "\n",
    "                    # Converteer RGBA naar RGB als de afbeelding een alfakanaal heeft\n",
    "                    if image.mode == 'RGBA':\n",
    "                        image = image.convert(\"RGB\")\n",
    "\n",
    "                    image_file_path = os.path.join(subdir_path, f\"{idx}.jpeg\")\n",
    "                    with open(image_file_path, \"wb\") as img_file:\n",
    "                        image.save(img_file, \"JPEG\")\n",
    "\n",
    "                    print(f\"Downloaded: {image_file_path}\")\n",
    "                except requests.RequestException as req_err:\n",
    "                    print(f\"Network error for {url} - {req_err}\")\n",
    "                except Exception as e:\n",
    "                    print(f\"General error occurred for {url} - {e}\")"
   ]
  },
  {
   "cell_type": "markdown",
   "id": "4db80c4b-dbd1-49df-9e70-b303fdbd57b5",
   "metadata": {},
   "source": [
    "#### User Input\n",
    "Bij het uitvoeren van de webscraper worden alle tekst bestanden automatisch in een folder \"img_src_paths\" geplaatst. Dubbel check dat de gewilde bestanden met juiste links in deze folder zitten. Verder geef een output folder naam waarin nieuwe folders worden gemaakt me afbeeldingen opbasis de txt-bestand namen."
   ]
  },
  {
   "cell_type": "code",
   "execution_count": null,
   "id": "bcc8b01b-cd64-4320-9d2f-7b0523d05819",
   "metadata": {},
   "outputs": [],
   "source": [
    "input_directory = \"img_src_paths\" # Path naar txt bestanden\n",
    "output_directory = \"images\" # Path naar bestemmings-folder"
   ]
  },
  {
   "cell_type": "code",
   "execution_count": null,
   "id": "a41f27f2-347b-4517-87c7-60f61190fe57",
   "metadata": {},
   "outputs": [],
   "source": [
    "download_images_from_files(input_directory, output_directory)"
   ]
  },
  {
   "cell_type": "markdown",
   "id": "637412b6-08de-4d07-bc8b-b5710409177a",
   "metadata": {},
   "source": [
    "### Image-Sorter\n",
    "Het gebruik van de `ImageSorter` class is optioneel, dit process kan ook handmatig gedaan worden maar voor het project is deze mogelijkheid wel gebruikt om de afbeeldingen te bekijken en soorteren."
   ]
  },
  {
   "cell_type": "code",
   "execution_count": null,
   "id": "f1fd5305-733d-4970-8868-a61550bd24ee",
   "metadata": {},
   "outputs": [],
   "source": [
    "class ImageSorter:\n",
    "    def __init__(self, image_dir):\n",
    "        self.image_dir = image_dir\n",
    "        self.image_paths = [os.path.join(image_dir, f) for f in os.listdir(image_dir)]\n",
    "        self.index = 0\n",
    "\n",
    "        self.root = tk.Tk()\n",
    "        self.root.title(\"Image Sorter\")\n",
    "\n",
    "        self.image_label = tk.Label(self.root)\n",
    "        self.image_label.pack()\n",
    "\n",
    "        self.failed_log_path = os.path.join(image_dir, 'failed_images.txt')\n",
    "\n",
    "        self.load_image()\n",
    "\n",
    "        self.root.bind(\"<Left>\", lambda e: self.move_to_folder('goed'))\n",
    "        self.root.bind(\"<Right>\", lambda e: self.move_to_folder('weggooien'))\n",
    "        self.root.bind(\"<Down>\", lambda e: self.move_to_folder('edits'))\n",
    "\n",
    "        self.root.mainloop()\n",
    "\n",
    "    def load_image(self):\n",
    "        try:\n",
    "            image_path = self.image_paths[self.index]\n",
    "            image = Image.open(image_path)\n",
    "            photo = ImageTk.PhotoImage(image)\n",
    "            self.image_label.config(image=photo)\n",
    "            self.image_label.photo = photo\n",
    "        except Exception as e:\n",
    "            print(f\"Error loading image {image_path}: {e}\")\n",
    "            with open(self.failed_log_path, 'a') as log_file:\n",
    "                log_file.write(f\"Failed to load {image_path}: {e}\\n\")\n",
    "            self.next_image()\n",
    "\n",
    "    def next_image(self):\n",
    "        self.index += 1\n",
    "        if self.index < len(self.image_paths):\n",
    "            self.load_image()\n",
    "        else:\n",
    "            self.root.quit()\n",
    "\n",
    "    def move_to_folder(self, folder_name):\n",
    "        target_folder = os.path.join(self.image_dir, folder_name)\n",
    "        if not os.path.exists(target_folder):\n",
    "            os.makedirs(target_folder)\n",
    "        try:\n",
    "            image_path = self.image_paths[self.index]\n",
    "            os.rename(image_path, os.path.join(target_folder, os.path.basename(image_path)))\n",
    "        except Exception as e:\n",
    "            print(f\"Error moving image {image_path}: {e}\")\n",
    "            with open(self.failed_log_path, 'a') as log_file:\n",
    "                log_file.write(f\"Failed to move {image_path}: {e}\\n\")\n",
    "        self.next_image()"
   ]
  },
  {
   "cell_type": "markdown",
   "id": "6e798fd3-a33f-4566-88d6-72235014b130",
   "metadata": {},
   "source": [
    "### Tot Slot\n",
    "Als alles goed is verlopen heb je nu extra afbeeldingen gevonden voor je computer vision project. Zo niet raad ik je aan onderstaande links te bekijken:\n"
   ]
  },
  {
   "cell_type": "markdown",
   "id": "5ffebe97-10f3-4d2c-ac5d-aa3323036afe",
   "metadata": {},
   "source": [
    "- [Medium - towardsdatascience: Image Scraping with Python](https://towardsdatascience.com/image-scraping-with-python-a96feda8af2d) \n",
    "- [Google-webscraper on Github](https://github.com/techwithtim/AI-Web-Scraper)\n",
    "- [Youtube Tutorial Image Webscraper](https://www.youtube.com/watch?v=NBuED2PivbY)"
   ]
  }
 ],
 "metadata": {
  "kernelspec": {
   "display_name": "Python 3 (ipykernel)",
   "language": "python",
   "name": "python3"
  },
  "language_info": {
   "codemirror_mode": {
    "name": "ipython",
    "version": 3
   },
   "file_extension": ".py",
   "mimetype": "text/x-python",
   "name": "python",
   "nbconvert_exporter": "python",
   "pygments_lexer": "ipython3",
   "version": "3.9.20"
  }
 },
 "nbformat": 4,
 "nbformat_minor": 5
}
