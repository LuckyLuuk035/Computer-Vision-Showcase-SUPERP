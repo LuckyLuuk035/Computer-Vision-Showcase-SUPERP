{
 "cells": [
  {
   "cell_type": "markdown",
   "id": "2a7acc52-22a7-4bb9-9d82-d37aa515ede0",
   "metadata": {},
   "source": [
    "## .pth to .onnx"
   ]
  },
  {
   "cell_type": "code",
   "execution_count": 1,
   "id": "500fa208-22db-456c-8dd0-54e5593219b2",
   "metadata": {},
   "outputs": [],
   "source": [
    "import torch\n",
    "from torchvision import models"
   ]
  },
  {
   "cell_type": "markdown",
   "id": "687afb10-565b-4acd-9c09-8aecccf8330f",
   "metadata": {},
   "source": [
    "#### Let Op!\n",
    "Deze stap is alleen nodig op het moment dat je een voorgetraind `.pth` (of `.pt`) bestand hebt die je wilt omzetten naar `.onnx` om in mendix te gebruiken."
   ]
  },
  {
   "cell_type": "code",
   "execution_count": 3,
   "id": "183a1487-6b9e-4243-9680-aa8cfb6e9227",
   "metadata": {},
   "outputs": [],
   "source": [
    "def convert_pth_to_onnx(model_pth_path, onnx_output_path, dummy_input, model, num_classes):\n",
    "    \"\"\"\n",
    "    Converteert een PyTorch resnet50 `state_dict` in een `.pth` bestand naar een ONNX modelbestand.\n",
    "\n",
    "    :param model_pth_path: Pad naar de PyTorch `.pth` bestand (state_dict).\n",
    "    :param onnx_output_path: Pad waar het ONNX-bestand moet worden opgeslagen.\n",
    "    :param dummy_input: Een voorbeeldinvoer die de verwachte invoer voor het model simuleert.\n",
    "                        Dit moet een torch.Tensor zijn met dezelfde vorm als de modelinvoer.\n",
    "    \"\"\"\n",
    "    # Controleer of CUDA beschikbaar is\n",
    "    device = torch.device('cuda' if torch.cuda.is_available() else 'cpu')\n",
    "\n",
    "    # Pas de volledig verbonden laag aan om te voldoen aan het aantal klassen\n",
    "    model.fc = torch.nn.Linear(model.fc.in_features, num_classes)\n",
    "    model = model.to(device)\n",
    "    \n",
    "    # Laad het state_dict in het model\n",
    "    state_dict = torch.load(model_pth_path, map_location=device)\n",
    "    model.load_state_dict(state_dict)\n",
    "    model.eval()  # Zet model in evaluatiemodus\n",
    "\n",
    "    # Zorg ervoor dat de dummy input ook naar hetzelfde apparaat verplaatst\n",
    "    dummy_input = dummy_input.to(device)\n",
    "\n",
    "    # Exporteer naar ONNX\n",
    "    torch.onnx.export(\n",
    "        model,                # Het getrainde model\n",
    "        dummy_input,          # Een dummy-invoer voor het model\n",
    "        onnx_output_path,     # Waar het ONNX-bestand moet worden opgeslagen\n",
    "        export_params=True,   # Exporteer ook de parameters van het model\n",
    "        opset_version=11,     # De versie van het ONNX-opset om te gebruiken\n",
    "        do_constant_folding=True,  # Optimaliseer constant-folding\n",
    "        input_names=['input'],    # Naam van de input in ONNX-grafiek\n",
    "        output_names=['output'],  # Naam van de output in ONNX-grafiek\n",
    "        dynamic_axes={'input': {0: 'batch_size'},    # Dynamische batchgrootte\n",
    "                      'output': {0: 'batch_size'}}\n",
    "    )\n",
    "\n",
    "    print(f\"Model succesvol geconverteerd en opgeslagen als {onnx_output_path}.\")"
   ]
  },
  {
   "cell_type": "markdown",
   "id": "7b731745-7f32-4cc5-bccd-826f0e40ea34",
   "metadata": {},
   "source": [
    "#### Vul onderstaande informatie in"
   ]
  },
  {
   "cell_type": "code",
   "execution_count": 5,
   "id": "4806d04b-1933-42e4-99b3-6189041890f4",
   "metadata": {},
   "outputs": [],
   "source": [
    "input_size = 224\n",
    "num_classes = 6\n",
    "model_pth_path = 'path\\\\naar\\\\jou\\\\model.pth'\n",
    "onnx_output_path = 'path\\\\naar\\\\jou\\\\model.onnx'"
   ]
  },
  {
   "cell_type": "code",
   "execution_count": null,
   "id": "b89dd8df-aaab-4bab-b64b-0615a8eec264",
   "metadata": {},
   "outputs": [],
   "source": [
    "dummy_input = torch.randn(1, 3, input_size, input_size)  # Afhankelijk van het model\n",
    "model = models.resnet50()\n",
    "\n",
    "convert_pth_to_onnx(model_pth_path, onnx_output_path, dummy_input, model, num_classes)"
   ]
  }
 ],
 "metadata": {
  "kernelspec": {
   "display_name": "Python 3 (ipykernel)",
   "language": "python",
   "name": "python3"
  },
  "language_info": {
   "codemirror_mode": {
    "name": "ipython",
    "version": 3
   },
   "file_extension": ".py",
   "mimetype": "text/x-python",
   "name": "python",
   "nbconvert_exporter": "python",
   "pygments_lexer": "ipython3",
   "version": "3.9.20"
  }
 },
 "nbformat": 4,
 "nbformat_minor": 5
}
