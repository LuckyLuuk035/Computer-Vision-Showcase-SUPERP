{
 "cells": [
  {
   "cell_type": "markdown",
   "id": "ff3353fa-4b24-402d-be29-609f75e8dba2",
   "metadata": {},
   "source": [
    "# Data Understanding\n",
    "In deze notebook gaan we een blik werpen op de waardes van de dataset, hoeveel afbeeldingen per klasse zijn er en welke resolutie / ratio?"
   ]
  },
  {
   "cell_type": "code",
   "execution_count": 2,
   "id": "9d3a750f-74dd-4db7-bec6-2278eaad9cbc",
   "metadata": {},
   "outputs": [],
   "source": [
    "import os\n",
    "import torch\n",
    "import torch.nn as nn\n",
    "import torch.optim as optim\n",
    "from torchvision.datasets import ImageFolder\n",
    "from torchvision import datasets, models, transforms\n",
    "from torchvision.models import resnet50, ResNet50_Weights\n",
    "from torch.utils.data import DataLoader, random_split\n",
    "\n",
    "from PIL import Image, ImageOps\n",
    "import matplotlib.pyplot as plt\n",
    "from IPython.display import FileLink, FileLinks\n",
    "\n",
    "from collections import defaultdict\n",
    "from fractions import Fraction\n",
    "\n",
    "import random\n",
    "import time"
   ]
  },
  {
   "cell_type": "markdown",
   "id": "7a18bec4-b5f1-4aae-a166-d863d13ebf4e",
   "metadata": {},
   "source": [
    "### Data Understanding"
   ]
  },
  {
   "cell_type": "code",
   "execution_count": 4,
   "id": "e5f52e65-ab38-4384-8979-e4cc1c4945a8",
   "metadata": {},
   "outputs": [],
   "source": [
    "def count_images_in_folders(dataset_path):\n",
    "    # Dictionary om het aantal afbeeldingen per klasse op te slaan\n",
    "    class_counts = {}\n",
    "\n",
    "    # Overloop alle mappen in de dataset\n",
    "    for class_name in os.listdir(dataset_path):\n",
    "        class_path = os.path.join(dataset_path, class_name)\n",
    "        \n",
    "        # Controleer of het een map is\n",
    "        if os.path.isdir(class_path):\n",
    "            # Tel het aantal afbeeldingsbestanden in de klassemap\n",
    "            num_images = len([name for name in os.listdir(class_path) if os.path.isfile(os.path.join(class_path, name))])\n",
    "\n",
    "            # Voeg het aantal toe aan de dictionary\n",
    "            class_counts[class_name] = num_images\n",
    "\n",
    "    return class_counts"
   ]
  },
  {
   "cell_type": "code",
   "execution_count": 5,
   "id": "fc4a02e5-75f5-4516-9cac-d51c7539fff4",
   "metadata": {},
   "outputs": [],
   "source": [
    "# Instellingen\n",
    "data_dir = '..\\\\images\\\\selfmade_data'\n",
    "class_counts = count_images_in_folders(data_dir)\n",
    "num_classes = len(class_counts)"
   ]
  },
  {
   "cell_type": "code",
   "execution_count": 6,
   "id": "7e49aa6b-fcf6-47b9-b733-f85ea26f5941",
   "metadata": {},
   "outputs": [
    {
     "name": "stdout",
     "output_type": "stream",
     "text": [
      "Klasse 'Kiwi' heeft 1125 afbeeldingen.\n",
      "Klasse 'Banaan' heeft 922 afbeeldingen.\n",
      "Klasse 'sinaasappel_mandarijn' heeft 1344 afbeeldingen.\n",
      "Klasse 'Tomaat' heeft 980 afbeeldingen.\n",
      "Klasse 'Appel' heeft 1107 afbeeldingen.\n",
      "Klasse 'Peer' heeft 1032 afbeeldingen.\n"
     ]
    }
   ],
   "source": [
    "# Print het aantal afbeeldingen per klasse\n",
    "for class_name, num_images in class_counts.items():\n",
    "    print(f\"Klasse '{class_name}' heeft {num_images} afbeeldingen.\")"
   ]
  },
  {
   "cell_type": "markdown",
   "id": "47eb34ea-0ecc-4b07-bbd4-44030cf55b94",
   "metadata": {},
   "source": [
    "In het geval dat de klasse verdeling te groot is probeer dit gelijk te stellen door over- undersampling (met andere data augementatie op de dubbele afbeeldingen). "
   ]
  },
  {
   "cell_type": "code",
   "execution_count": 8,
   "id": "35ccb706-a601-49ae-8bb0-c969491727d9",
   "metadata": {},
   "outputs": [],
   "source": [
    "def categorize_resolutions(dataset_path):\n",
    "    # Dictionary voor het opslaan van de aantallen in specifieke categorieën\n",
    "    resolution_categories = {\n",
    "        \"smaller_than_224\": 0,\n",
    "        \"exact_224\": 0,\n",
    "        \"exact_416\": 0,\n",
    "        \"larger_than_416\": 0,\n",
    "        \"between_224_and_415\": 0\n",
    "    }\n",
    "\n",
    "    # Loop door alle mappen in de dataset\n",
    "    for class_name in os.listdir(dataset_path):\n",
    "        class_path = os.path.join(dataset_path, class_name)\n",
    "\n",
    "        if os.path.isdir(class_path):\n",
    "            for filename in os.listdir(class_path):\n",
    "                file_path = os.path.join(class_path, filename)\n",
    "\n",
    "                if os.path.isfile(file_path) and filename.lower().endswith(('.png', '.jpg', '.jpeg', '.bmp', '.gif', '.tiff')):\n",
    "                    try:\n",
    "                        with Image.open(file_path) as img:\n",
    "                            width, height = img.size\n",
    "\n",
    "                            if width < 224 or height < 224:\n",
    "                                resolution_categories[\"smaller_than_224\"] += 1\n",
    "                            elif width == 224 and height == 224:\n",
    "                                resolution_categories[\"exact_224\"] += 1\n",
    "                            elif width == 416 and height == 416:\n",
    "                                resolution_categories[\"exact_416\"] += 1\n",
    "                            elif width > 416 or height > 416:\n",
    "                                resolution_categories[\"larger_than_416\"] += 1\n",
    "                            else:\n",
    "                                resolution_categories[\"between_224_and_415\"] += 1\n",
    "                    except Exception as e:\n",
    "                        print(f\"Fout bij het openen van {file_path}: {e}\")\n",
    "    \n",
    "    return resolution_categories"
   ]
  },
  {
   "cell_type": "code",
   "execution_count": 9,
   "id": "e3045e4b-9388-455a-bb73-e01548745ad3",
   "metadata": {
    "scrolled": true
   },
   "outputs": [],
   "source": [
    "resolution_categories = categorize_resolutions(data_dir)"
   ]
  },
  {
   "cell_type": "code",
   "execution_count": 10,
   "id": "7e684e41-ef82-4b11-9156-ea1cf1d4eed4",
   "metadata": {},
   "outputs": [
    {
     "name": "stdout",
     "output_type": "stream",
     "text": [
      "Resolutie categorie 'smaller_than_224': 0 afbeeldingen.\n",
      "Resolutie categorie 'exact_224': 0 afbeeldingen.\n",
      "Resolutie categorie 'exact_416': 0 afbeeldingen.\n",
      "Resolutie categorie 'larger_than_416': 6510 afbeeldingen.\n",
      "Resolutie categorie 'between_224_and_415': 0 afbeeldingen.\n"
     ]
    }
   ],
   "source": [
    "# Print de aantallen afbeeldingen per resolutiecategorie\n",
    "for category, count in resolution_categories.items():\n",
    "    print(f\"Resolutie categorie '{category}': {count} afbeeldingen.\")"
   ]
  },
  {
   "cell_type": "markdown",
   "id": "b5c8198c-989c-45eb-8e57-a87a78677d7e",
   "metadata": {},
   "source": [
    "    We kunnen hier twee keuzes maken, de standaard ResNet50 resolutie gebruiken (224x224) of een eigen resolutie (416x416) om meer details te behouden, dit is de resolutie van de webcam."
   ]
  },
  {
   "cell_type": "code",
   "execution_count": 12,
   "id": "cb9889c0-6f6c-440e-a922-100eecb7fafe",
   "metadata": {},
   "outputs": [],
   "source": [
    "def categorize_aspect_ratios(dataset_path):\n",
    "    # Definieer de aspect ratio categorieën\n",
    "    categories = {\n",
    "        \"almost_square\": 0,      # verhoudingen dichtbij 1:1\n",
    "        \"little_wide\": 0,        # verhouding tussen 1:1 en 16:9\n",
    "        \"wide\": 0,               # verhoudingen dichtbij 16:9\n",
    "        \"tall\": 0,               # verhoudingen meer richting portret (b.v. 9:16)\n",
    "        \"extremely_wide\": 0,     # verhoudingen veel breder dan 16:9\n",
    "        \"extremely_tall\": 0      # verhoudingen veel hoger dan 9:16\n",
    "    }\n",
    "\n",
    "    # Loop door alle mappen in de dataset\n",
    "    for class_name in os.listdir(dataset_path):\n",
    "        class_path = os.path.join(dataset_path, class_name)\n",
    "\n",
    "        if os.path.isdir(class_path):\n",
    "            for filename in os.listdir(class_path):\n",
    "                file_path = os.path.join(class_path, filename)\n",
    "\n",
    "                if os.path.isfile(file_path) and filename.lower().endswith(('.png', '.jpg', '.jpeg', '.bmp', '.gif', '.tiff')):\n",
    "                    try:\n",
    "                        with Image.open(file_path) as img:\n",
    "                            width, height = img.size\n",
    "                            ratio = float(width) / float(height)\n",
    "                            \n",
    "                            # Categoriseer de aspect ratio\n",
    "                            if 0.9 <= ratio <= 1.1:\n",
    "                                categories[\"almost_square\"] += 1\n",
    "                            elif 1.1 <= ratio < 1.4:\n",
    "                                categories[\"little_wide\"] += 1\n",
    "                            elif 1.4 <= ratio <= 2:\n",
    "                                categories[\"wide\"] += 1\n",
    "                            elif 0.5 <= ratio < 0.9:\n",
    "                                categories[\"tall\"] += 1\n",
    "                            elif ratio > 2:\n",
    "                                categories[\"extremely_wide\"] += 1\n",
    "                            elif ratio < 0.5:\n",
    "                                categories[\"extremely_tall\"] += 1\n",
    "                    except Exception as e:\n",
    "                        print(f\"Fout bij het openen van {file_path}: {e}\")\n",
    "    return categories"
   ]
  },
  {
   "cell_type": "code",
   "execution_count": 13,
   "id": "bbd64e07-54d5-436f-8ada-5428b962dc3f",
   "metadata": {},
   "outputs": [],
   "source": [
    "aspect_ratio_categories = categorize_aspect_ratios(data_dir)"
   ]
  },
  {
   "cell_type": "code",
   "execution_count": 14,
   "id": "d1474966-c877-4100-bb90-b5a8acd2cc8d",
   "metadata": {},
   "outputs": [
    {
     "name": "stdout",
     "output_type": "stream",
     "text": [
      "Categorie 'almost_square': 0 afbeeldingen.\n",
      "Categorie 'little_wide': 0 afbeeldingen.\n",
      "Categorie 'wide': 6510 afbeeldingen.\n",
      "Categorie 'tall': 0 afbeeldingen.\n",
      "Categorie 'extremely_wide': 0 afbeeldingen.\n",
      "Categorie 'extremely_tall': 0 afbeeldingen.\n"
     ]
    }
   ],
   "source": [
    "# Print het aantal afbeeldingen per aspect ratio categorie\n",
    "for category, count in aspect_ratio_categories.items():\n",
    "    print(f\"Categorie '{category}': {count} afbeeldingen.\")"
   ]
  },
  {
   "cell_type": "markdown",
   "id": "ab057126-52ca-4abc-9030-5bc9bc3cda93",
   "metadata": {},
   "source": [
    "    Hieruit is te baseren dat we de extreme gevallen weg kunnen halen en extra borders toevoegen om de resterende afbeeldingen voor we deze naar de juiste resolutie brengen. (In het huidige project werken we alleen met een 1:1 resolutie)"
   ]
  },
  {
   "cell_type": "markdown",
   "id": "73236e1c-7867-4ec6-9fb9-0acc4069dac6",
   "metadata": {},
   "source": [
    "#### Image Processing\n",
    "Vanuit hier kan je te werk gaan met het aanpassen van de dataset.\n",
    "Bekijk `Image Processing` voor de aanpassingen op de data zelf en `Under-Oversampling` voor het aanpassen van de klasse verdeling."
   ]
  },
  {
   "cell_type": "code",
   "execution_count": 17,
   "id": "dd9bf5a6-4e89-43d1-b19d-f68d708c4b79",
   "metadata": {},
   "outputs": [
    {
     "data": {
      "text/html": [
       "<a href='Image Processing.ipynb' target='_blank'>Image Processing.ipynb</a><br>"
      ],
      "text/plain": [
       "E:\\Studie\\Stage\\Computer-Vision-Showcase-SUPERP\\code\\Image Processing.ipynb"
      ]
     },
     "execution_count": 17,
     "metadata": {},
     "output_type": "execute_result"
    }
   ],
   "source": [
    "FileLink('Image Processing.ipynb')"
   ]
  },
  {
   "cell_type": "code",
   "execution_count": 18,
   "id": "b52be03c-e6a4-40c0-984a-3cfc212e3d9d",
   "metadata": {},
   "outputs": [
    {
     "data": {
      "text/html": [
       "<a href='over-under sampling.ipynb' target='_blank'>over-under sampling.ipynb</a><br>"
      ],
      "text/plain": [
       "E:\\Studie\\Stage\\Computer-Vision-Showcase-SUPERP\\code\\over-under sampling.ipynb"
      ]
     },
     "execution_count": 18,
     "metadata": {},
     "output_type": "execute_result"
    }
   ],
   "source": [
    "FileLink('over-under sampling.ipynb')"
   ]
  },
  {
   "cell_type": "markdown",
   "id": "a9b7aea9-eb56-4565-a6fa-81cec46bbe42",
   "metadata": {},
   "source": [
    "Normaal gesproken hoef je het model niet opnieuw in te laden als je dit al hebt gedaan door het trainen van het model maar op het moment dat je al het .pth bestand hebt en dit niet nog een keer wilt doen kan je op deze wijze het model inladen en gebruiken."
   ]
  }
 ],
 "metadata": {
  "kernelspec": {
   "display_name": "Python 3 (ipykernel)",
   "language": "python",
   "name": "python3"
  },
  "language_info": {
   "codemirror_mode": {
    "name": "ipython",
    "version": 3
   },
   "file_extension": ".py",
   "mimetype": "text/x-python",
   "name": "python",
   "nbconvert_exporter": "python",
   "pygments_lexer": "ipython3",
   "version": "3.9.20"
  }
 },
 "nbformat": 4,
 "nbformat_minor": 5
}
