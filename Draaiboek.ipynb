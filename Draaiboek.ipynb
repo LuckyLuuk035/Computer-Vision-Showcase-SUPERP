{
 "cells": [
  {
   "cell_type": "code",
   "execution_count": 5,
   "id": "3a665bbd",
   "metadata": {},
   "outputs": [],
   "source": [
    "from IPython.display import FileLink, FileLinks"
   ]
  },
  {
   "cell_type": "markdown",
   "id": "12efe393-c7db-49e7-8d6b-b17fb0d64211",
   "metadata": {},
   "source": [
    "Let op: run `install_requ`"
   ]
  },
  {
   "cell_type": "markdown",
   "id": "08ea0252",
   "metadata": {},
   "source": [
    "# Draaiboek"
   ]
  },
  {
   "cell_type": "markdown",
   "id": "e908afd4",
   "metadata": {},
   "source": [
    "Mijn stage folder staat vol met een hoop Notebooks zonder dat de nuance duidelijk is. Dit bestand geeft de stappen van een Computer Vision project en verwijst je naar de bijhorende bestanden."
   ]
  },
  {
   "cell_type": "markdown",
   "id": "ab8fb90d-a3f8-4df5-be67-cb1c5336489c",
   "metadata": {},
   "source": [
    "In het geval jupyter notebook of programmeren nieuw is voor je druk op onderstaande link"
   ]
  },
  {
   "cell_type": "code",
   "execution_count": 5,
   "id": "a53de191-cc0a-4f60-a071-8a07a754f652",
   "metadata": {},
   "outputs": [
    {
     "data": {
      "text/html": [
       "<a href='Algemene Tips.html' target='_blank'>Algemene Tips.html</a><br>"
      ],
      "text/plain": [
       "E:\\Studie\\Stage\\Notebooks\\Algemene Tips.html"
      ]
     },
     "execution_count": 5,
     "metadata": {},
     "output_type": "execute_result"
    }
   ],
   "source": [
    "FileLink('Algemene Tips.html')"
   ]
  },
  {
   "cell_type": "markdown",
   "id": "bfc81ed6-93c3-4557-adc4-6cb613bfe8d6",
   "metadata": {},
   "source": [
    "## Algemene planning\n",
    "Voor een Computer Vision project is er \n",
    "een algemene planning die vaak (niet persee in detail) wordt gevolgd."
   ]
  },
  {
   "cell_type": "markdown",
   "id": "39d09f92-0c44-4121-88cb-78447ab06f55",
   "metadata": {},
   "source": [
    "## Dataset Samenstellen"
   ]
  },
  {
   "cell_type": "markdown",
   "id": "50476a23-2af5-4c49-8875-2b13d58ab837",
   "metadata": {},
   "source": [
    "Het bouwen van een Computer Vision model begint bijna altijd bij het verzamelen van de data. Wanneer de dataset perfect is is succes van het model zo goed als gegarandeerd. Bestudeer onderstaande notebook voor alle ins en outs."
   ]
  },
  {
   "cell_type": "code",
   "execution_count": 14,
   "id": "6e1ed824-e0b0-432a-a2a8-99dc28d642dc",
   "metadata": {},
   "outputs": [
    {
     "data": {
      "text/html": [
       "<a href='Dataset Samenstellen\\Dataset Samenstellen.ipynb' target='_blank'>Dataset Samenstellen\\Dataset Samenstellen.ipynb</a><br>"
      ],
      "text/plain": [
       "E:\\Studie\\Stage\\Notebooks\\Dataset Samenstellen\\Dataset Samenstellen.ipynb"
      ]
     },
     "execution_count": 14,
     "metadata": {},
     "output_type": "execute_result"
    }
   ],
   "source": [
    "FileLink('Dataset Samenstellen\\\\Dataset Samenstellen.ipynb')"
   ]
  },
  {
   "cell_type": "markdown",
   "id": "dfb8e32d-a7c6-436a-a5f4-60ed66ac5cd9",
   "metadata": {},
   "source": [
    "Voor je de dataset samenstelt moet de keuze tussen de verschillende vormen van computer vision al zijn gedaan. Met als keuzes: Classification, Detection en Segmentation. Als het niet duidelijk is welk type model je wilt maken ga door naar het kopje 'Model Trainen' -> 'Model keuze'."
   ]
  },
  {
   "cell_type": "markdown",
   "id": "ac9d1ed4-6530-4df4-a07a-d46ab2046822",
   "metadata": {},
   "source": [
    "## Data Verwerken"
   ]
  },
  {
   "cell_type": "markdown",
   "id": "abf9185e-cd2b-449e-81e4-e15c290d2e3e",
   "metadata": {},
   "source": [
    "### Gewenste Folder Structuur"
   ]
  },
  {
   "cell_type": "markdown",
   "id": "99460ca1-ff43-4792-abbb-6713354863fe",
   "metadata": {},
   "source": [
    "Afhankelijk van het type model dat je gaat trainen zijn er verschillende soorten aanbevolen structuren. \n",
    "Zorg dat je data op deze manier gestructuurd staat in het geval je gebruik wil maken van libraries (Extreem aan te raden). "
   ]
  },
  {
   "cell_type": "markdown",
   "id": "8f0bfb58-2dc7-436c-836b-94633291835d",
   "metadata": {},
   "source": [
    "#### Image Classification"
   ]
  },
  {
   "attachments": {
    "c1a84018-72fa-48be-a8d4-8436ad8c67a8.png": {
     "image/png": "[encoded data removed]"
    },
    "f353aecd-6157-45b8-bddc-b7aaf950d954.png": {
     "image/png": "[encoded data removed]"
    }
   },
   "cell_type": "markdown",
   "id": "f777128e-b40c-473f-a17a-b150f73acde6",
   "metadata": {
    "jp-MarkdownHeadingCollapsed": true
   },
   "source": [
    "Bij image classification wil je de de afbeeldingen verdeeld per class name:\n",
    "\n",
    "![image.png](attachment:c1a84018-72fa-48be-a8d4-8436ad8c67a8.png)\n",
    "\n",
    "Je zou al de afbeeldingen kunnen verdelen over een test, train en validatie set.\n",
    "\n",
    "![image.png](attachment:f353aecd-6157-45b8-bddc-b7aaf950d954.png)\n",
    "\n",
    "Doe dit op het moment dat je een specifiek idee hebt waar je welke afbeeldingen wilt hebben, zo niet doe het verdelen met code (de aanbevolen methode)."
   ]
  },
  {
   "cell_type": "markdown",
   "id": "1343794c-1886-4755-985d-1a4eb4e8a354",
   "metadata": {},
   "source": [
    "#### Object Detection"
   ]
  },
  {
   "attachments": {
    "fb155931-1fc1-49b5-a914-29d27515b317.png": {
     "image/png": "[encoded data removed]"
    }
   },
   "cell_type": "markdown",
   "id": "891ebefb-6411-4a94-a3d2-e18fe844ceea",
   "metadata": {},
   "source": [
    "Bij Image Detection wil je alle afbeeldingen in de zelfde map hebben. \n",
    "\n",
    "![image.png](attachment:fb155931-1fc1-49b5-a914-29d27515b317.png)\n",
    "\n",
    "Daarnaast wil je een tweede folder met alle label files. \n",
    "\n",
    "De namen van de afbeelding en het label moeten het zelfde zijn zodat de code het herkent als paar. Deze twee folders kunnen ook weer over test, train en validatie worden gesplitst. Let hierbij wel op dat de paren in dit proces niet worden gesplitst."
   ]
  },
  {
   "cell_type": "markdown",
   "id": "3f244034-6d4b-4d4b-943a-cb40fc3d1444",
   "metadata": {},
   "source": [
    "__Splitsen in training, validatie, en testsets__: Dit doen we met een verdeling zoals 70-15-15, waarbij elke set representatief is voor de variatie in de dataset. Deze splitsing moet willekeurig maar evenwichtig per klasse zijn."
   ]
  },
  {
   "cell_type": "markdown",
   "id": "106f4893-a611-42b3-854c-74c672653f13",
   "metadata": {},
   "source": [
    "### Data Augmentatie"
   ]
  },
  {
   "cell_type": "markdown",
   "id": "8d64734a-801a-4fa3-98eb-e06f3313998b",
   "metadata": {},
   "source": [
    "Voor het model getraind gaat worden doen we nog aanpassingen aan de dataset. Dit doen we om: de dataset bruikbaar te maken, het model robuster, klasse balans recht te trekken al met al de dataset te optimaliseren voor het gebruik. "
   ]
  },
  {
   "cell_type": "markdown",
   "id": "8dbcc67d-13b6-446c-9a2c-af332bbec805",
   "metadata": {},
   "source": [
    "#### Normaliseren"
   ]
  },
  {
   "cell_type": "markdown",
   "id": "eb1d08e4-f465-4c41-9cf4-42d76cf515d2",
   "metadata": {},
   "source": [
    "Normaliseren is de schaalveranderingen van de invoerdata zodat het binnen een bepaalde range valt, meestal tussen 0 en 1, of een standaard normaalverdeling met een gemiddelde van 0 en een standaarddeviatie van 1.\n",
    "\n",
    "__Waarom normaliseren?__\n",
    "1. **Consistente Schaal:** Verschillende features kunnen sterk uiteenlopende schalen hebben. Normaliseren brengt ze op een vergelijkbare schaal, waardoor algoritmen zoals SGD beter kunnen werken omdat ze minder tijd verliezen met het omgaan met grote, ongelijke stappen in verschillende richtingen.\n",
    "\n",
    "2. **Snellere Convergentie:** Door data te normaliseren kan het optimalisatieproces sneller en effectiever verlopen, omdat de cost function uitkomsten/resultaten meestal beter behandeld kunnen worden met genormaliseerde data.\n",
    "\n",
    "3. **Voorkomen van Dominantie door Groot-schaalfactoren:** Features met grote waardes kunnen bijdragen aan een onevenredig grote [gradiënt](https://builtin.com/data-science/gradient-descent), wat kan leiden tot instabiliteit in het model. Normalisatie beperkt dit effect.\n",
    "Pas normalisatie toe om de pixelwaardes naar een vergelijkbaar bereik te brengen, dit doen we gestandaardiseerd met het gemiddelde en standaardafwijking van de dataset.\n",
    "\n",
    "\n",
    "__Impact van Normalisatie:__\n",
    "\n",
    "- **Verbeterde Modelprestaties:** Vooral bij modellen die afhankelijk zijn van gradiënt-gebaseerde optimalisatie, zoals neurale netwerken, kan normalisatie leiden tot snellere convergentie en betere prestaties.\n",
    "  \n",
    "- **Verhoogde Stabiliteit:** Het helpt om numerieke instabiliteit te verminderen en voorkomt dat algoritmen worstelen met hoge waarden of afwijkende waarden.\n",
    "\n",
    "- **Betere Generalisatie:** Door ervoor te zorgen dat alle features een gelijke footing hebben, kan normalisatie helpen een betere generalisatie van modellen te behalen op ongeziene data door overfitting te verminderen."
   ]
  },
  {
   "cell_type": "markdown",
   "id": "d2fecb57-d3a3-43e8-a488-fc46e78ec4bc",
   "metadata": {},
   "source": [
    "#### Uniforme afbeeldingsgrootte"
   ]
  },
  {
   "cell_type": "markdown",
   "id": "41852784-efae-419e-81fc-89abc516fd59",
   "metadata": {},
   "source": [
    "Het model verwacht altijd een zelfde input grootte anders is het niet mogelijk om te leren. Omdat de afbeeldingen vaak variëren in grootte, transformeren weze naar een uniforme grootte. (bijvoorbeeld 224x224 pixels, wat standaard is voor veel CNN's zoals ResNet of EfficientNet [verdere uitleg over 224x224](https://www.quora.com/Why-many-deep-learning-models-take-224x224-images-as-input)). Hiervoor gebruiken we een methode zoals cropping, resize (met of zonder padding) of een adaptive pooling laag. De afbeeldingsgrootte is van belangaangezien als deze te klein is het details verliest waardoor het resultaat slechter is, een te hoge afbeeldingsgrootte zorgd voor een langere traintijd (en het upscalen van de afbeeldingen is ook af te raden door gebrek aan detail).\n",
    "\n",
    "Als je gebruik wilt maken van een pre-trained model is de bijhoorende uniforme grootte verplicht. Elke pixel achter elkaar gezet wordt gezien als de input layer. Deze kunnen we dus niet aanpassen aangezien het getrainde model alleen deze grootte kent."
   ]
  },
  {
   "cell_type": "markdown",
   "id": "11ca1947-e1dd-4c6d-8cf2-7c392b4e305b",
   "metadata": {},
   "source": [
    "#### Extra Augmentatie methodes"
   ]
  },
  {
   "cell_type": "markdown",
   "id": "713b91b9-3aa2-4dd9-8d1c-a5997c3e229c",
   "metadata": {},
   "source": [
    "- __Random cropping__: De afbeelding inzoomen zodat een deel van het object vervalt.\n",
    "- __Random Erasing__: In de afbeelding een stuk overlappen zodat niet het hele object meer zichtbaar is.\n",
    "- __Rotaties__: De afbeelding draaien om verschillende hoeken van het object te simuleren.\n",
    "- __Lichtvariaties__: pas helderheid, contrast en kleurveranderingen toe om te trainen op verschillende lichtomstandigheden.\n",
    "- __Shearing en schalen__: Door geometrische vervorming toe te voegen kunnen we de robuustheid vergroten.\n",
    "- __Flippen en spiegelen__: zorgt voor variatie in oriëntatie.\n",
    "- __Occlusie simulatie__: soms zijn objecten gedeeltelijk bedekt. Gebruik augmentaties zoals **Cutout of Gaussian blur**(*verder onderzoeken*) om dit soort scenario’s te simuleren."
   ]
  },
  {
   "cell_type": "markdown",
   "id": "d154a049-e994-4b86-ad9c-1e5f2b342cdf",
   "metadata": {},
   "source": [
    "Onderstaande notebook voert deze methodes handmatig uit om een beter beelt te geven op hoe de set er uit gaat zien."
   ]
  },
  {
   "cell_type": "code",
   "execution_count": 119,
   "id": "9ab609b2-645c-47aa-b783-951767f5c239",
   "metadata": {},
   "outputs": [
    {
     "data": {
      "text/html": [
       "<a href='Dataset Samenstellen\\Image Processing.ipynb' target='_blank'>Dataset Samenstellen\\Image Processing.ipynb</a><br>"
      ],
      "text/plain": [
       "E:\\Studie\\Stage\\Notebooks\\Dataset Samenstellen\\Image Processing.ipynb"
      ]
     },
     "execution_count": 119,
     "metadata": {},
     "output_type": "execute_result"
    }
   ],
   "source": [
    "# Handmatig afbeeldingen aanpassen\n",
    "FileLink('Dataset Samenstellen\\\\Image Processing.ipynb')"
   ]
  },
  {
   "cell_type": "markdown",
   "id": "188a3ac4-5f37-4087-ac43-6055cb89d960",
   "metadata": {},
   "source": [
    "Deze stappen hoef je gelukkig niet allemaal zelf uit te voeren."
   ]
  },
  {
   "cell_type": "markdown",
   "id": "28fc827a-4464-4a5f-9c72-b7008435b46f",
   "metadata": {},
   "source": [
    "#### Dataloader / Transformer"
   ]
  },
  {
   "cell_type": "markdown",
   "id": "2523261f-535d-4951-8e07-bba16463c42e",
   "metadata": {},
   "source": [
    "Het is aanbevolen om gebruik te maken van Dataloaders en Transformers. Hierdoor ben je in het algemeen wel verplicht de bijhorende libraries te gebruiken van de loader. Dit is een kleine opgave aangezien dataloaders het inladen van de data automatisch doet met de juiste structuur (van hier boven). Waarbij de Transformer de meegegeven data augmentatie stappen toepast.\n",
    "\n",
    "Onderstaande notebook laad een dataset in doormiddel van de dataloader"
   ]
  },
  {
   "cell_type": "code",
   "execution_count": 156,
   "id": "f25945e1-ab9d-4e81-bf38-f9e4f776484c",
   "metadata": {},
   "outputs": [
    {
     "data": {
      "text/html": [
       "<a href='Dataset Samenstellen\\PyTorch Data Loading - Vegetable Image Dataset.ipynb' target='_blank'>Dataset Samenstellen\\PyTorch Data Loading - Vegetable Image Dataset.ipynb</a><br>"
      ],
      "text/plain": [
       "E:\\Studie\\Stage\\Notebooks\\Dataset Samenstellen\\PyTorch Data Loading - Vegetable Image Dataset.ipynb"
      ]
     },
     "execution_count": 156,
     "metadata": {},
     "output_type": "execute_result"
    }
   ],
   "source": [
    "FileLink('Dataset Samenstellen\\\\PyTorch Data Loading - Vegetable Image Dataset.ipynb')"
   ]
  },
  {
   "cell_type": "markdown",
   "id": "f9de773f-dac9-4b1c-9ed8-99d0fb39117c",
   "metadata": {},
   "source": [
    "In dit voorbeeld was de Transformer nog minimaal:\n",
    "```\n",
    "# Transformeer de data bij het inladen\n",
    "transform = transforms.Compose([\n",
    "    transforms.Resize((128, 128)), # de afbeeldingen zijn al het zelfde formaat (en niet te groot dus deze stap is niet nodig)\n",
    "    transforms.ToTensor()\n",
    "])\n",
    "```\n",
    "Voor meer informatie over welke methodes toe te passen lees de [transform docs](https://pytorch.org/vision/stable/transforms.html) of Google de taak die je zoekt. *(Kijk eventueel verder bij de happyflow uitvoering hoe de transform is gebruikt voor data augmentation.)*"
   ]
  },
  {
   "cell_type": "markdown",
   "id": "83f343ed-ffab-447f-b575-acba4e922a25",
   "metadata": {},
   "source": [
    "## Model Trainen"
   ]
  },
  {
   "cell_type": "markdown",
   "id": "f805251b-7f5d-40d8-88ed-572d9ce27166",
   "metadata": {},
   "source": [
    "### Model Keuze"
   ]
  },
  {
   "cell_type": "markdown",
   "id": "ef02fbd1-8682-4567-b928-1405294fe1f4",
   "metadata": {},
   "source": [
    "Om te bepalen welk type model je gaat maken kijk je naar het doel van het project.\n",
    "\n",
    "   - Moet het model objecten in een afbeelding classificeren? *(De gehele afbeelding als een klasse zien)* **Classification**\n",
    "   - Moet het model objecten lokaliseren en identificeren? *(Klasse in de afbeelding vinden en de locatie daarvan)* **Detection**\n",
    "   - Moet het model elke pixel van een afbeelding classificeren in een bepaald segment? *(Is elke pixel in de afbeelding van belang?)* **Segmentation**"
   ]
  },
  {
   "cell_type": "markdown",
   "id": "6607e501-fa19-45d1-ae03-ec85dd8dc4ce",
   "metadata": {},
   "source": [
    "Wanneer je een nieuw model wilt opbouwen is het goed om eerst naar soort gelijke projecten te kijken om te zien wat werkt. In het algemeen is de beste keuze om gebruik te maken van een pre-trained model die al kennis heeft over je klasse. Neem als voorbeeld ResNet50, een model wat getraind is op 1000 klasse:"
   ]
  },
  {
   "cell_type": "code",
   "execution_count": 71,
   "id": "4ef1f07f-e4ca-4f68-ae6e-c26509461522",
   "metadata": {},
   "outputs": [
    {
     "data": {
      "text/html": [
       "<a href='..\\Data\\imagenet-classes.txt' target='_blank'>..\\Data\\imagenet-classes.txt</a><br>"
      ],
      "text/plain": [
       "E:\\Studie\\Stage\\Data\\imagenet-classes.txt"
      ]
     },
     "execution_count": 71,
     "metadata": {},
     "output_type": "execute_result"
    }
   ],
   "source": [
    "# ResNet50 classes\n",
    "FileLink('..\\\\Data\\\\imagenet-classes.txt')"
   ]
  },
  {
   "cell_type": "markdown",
   "id": "91038cf5-517d-44e5-8032-b3de61dcc4b2",
   "metadata": {},
   "source": [
    "Door zo'n voorgetraind model te nemen weet je dat de architectuur correct is voor soortgelijke opdrachten. Verder bezitten de weights al informatie over je mogelijke targets/doel klasse, dit kan het train proces een stuk sneller maken doordat het niet vanaf 0 begint. (Dit principe wordt ook transfer learning genoemd.)"
   ]
  },
  {
   "cell_type": "markdown",
   "id": "0cb151b5-f9d0-48f7-afa3-be693d4ee6f8",
   "metadata": {},
   "source": [
    "Bekijk onderstaande notebook voor vragen die kunnen helpen met het maken van een keuze tussen welke pre-trained model / structuur."
   ]
  },
  {
   "cell_type": "code",
   "execution_count": 13,
   "id": "ee6224d2-9ffe-4317-a55c-41b5c9386348",
   "metadata": {},
   "outputs": [
    {
     "data": {
      "text/html": [
       "<a href='Overig\\model keuze.ipynb' target='_blank'>Overig\\model keuze.ipynb</a><br>"
      ],
      "text/plain": [
       "E:\\Studie\\Stage\\Notebooks\\Overig\\model keuze.ipynb"
      ]
     },
     "execution_count": 13,
     "metadata": {},
     "output_type": "execute_result"
    }
   ],
   "source": [
    "FileLink('Overig\\\\model keuze.ipynb')"
   ]
  },
  {
   "cell_type": "markdown",
   "id": "1a7a8d1d-0f09-4207-9074-14bbf70afbb5",
   "metadata": {},
   "source": [
    "### Hyperparameters \n",
    "Loss, optimizers en evaluatiemetrics"
   ]
  },
  {
   "cell_type": "markdown",
   "id": "58345af3-c1f3-49c3-b4be-2ad1a7f082cd",
   "metadata": {},
   "source": [
    "Op het moment dat je de model keuze hebt gemaakt is het tijd voor de hyperparameters, dit zijn de verschillende functies / methodes die het model achter de schermen laten runnen. Dit is vaak ook het deel waar verschillende opties worden geprobeerd voor het behalen van een beter of sneller resultaat. Weet wel dat op het moment dat de data en het resultaat niet goed is dat het aanpassen van de hyperparameters dit niet toch succesvol kan maken. Zie dit meer als het bijsleutelen van het model."
   ]
  },
  {
   "cell_type": "markdown",
   "id": "805b2e0c-fff3-42a6-8736-87268818a0c9",
   "metadata": {},
   "source": [
    "#### Loss Function"
   ]
  },
  {
   "cell_type": "markdown",
   "id": "d18632e3-f93b-4e6e-a9c2-8e2998c507aa",
   "metadata": {},
   "source": [
    "De criterion of vaker genoemde loss function houdt de afwijking van het model bij, specifieker de afstand tussen het voorspelde antwoord en het correcte antwoord op basis van een formule. Modellen en doeleindes verschillen zo dus ook de loss functions. Het is mogelijk onderzoek te doen naar welke loss function optimaal is voor huidige doeleindes maar raad dit af. Dit process is ook goed te doen door middel van het resultaat testen, ChatGPT vragen of na het bepalen van een optimizer een goed bijpassende loss function te kiezen.\n",
    "\n",
    "[Diepere uitleg werking loss-function](https://www.datacamp.com/tutorial/loss-function-in-machine-learning)  -  [Veel voorkomende loss-functions](https://builtin.com/machine-learning/common-loss-functions)"
   ]
  },
  {
   "cell_type": "markdown",
   "id": "2b9517f8-e5cb-4266-81c4-83a49e6e80d2",
   "metadata": {},
   "source": [
    "##### Standaard Loss functions"
   ]
  },
  {
   "cell_type": "markdown",
   "id": "637dc1e1-05f9-4cb5-b7d4-a78a704a8ce9",
   "metadata": {},
   "source": [
    "1. **Image Classification:**\n",
    "   - **Categorical Cross-Entropy:** Wordt vaak gebruikt bij meerklasse-classificatieproblemen.\n",
    "   - **Binary Cross-Entropy:** Wordt gebruikt voor tweetalige classificatieproblemen.\n",
    "\n",
    "[Cross-Entropy](https://365datascience.com/tutorials/machine-learning-tutorials/cross-entropy-loss/)"
   ]
  },
  {
   "cell_type": "markdown",
   "id": "7ecf54e3-9504-4c8d-af68-b4f6f5f250d0",
   "metadata": {},
   "source": [
    "2. **Object Detectie:**\n",
    "   - **Focal Loss:** Helpt bij het omgaan met klassenonevenwicht door moeilijkere voorbeelden te benadrukken.\n",
    "   - **Intersection over Union Loss:** Wordt soms gebruikt om de nauwkeurigheid van boksvoorstellen te verbeteren.\n",
    "   - **Smooth L1 Loss:** Wordt gebruikt in modellen zoals Faster R-CNN voor coördinatieregressie.\n",
    "   - **YOLO Loss en SSD Loss:** Specifieke combinaties van classificatie- en regressieverliezen die worden gebruikt in respectievelijk YOLO- en SSD-modellen.\n",
    "\n",
    "[YOLO Loss Explained](https://stats.stackexchange.com/questions/287486/yolo-loss-function-explanation)"
   ]
  },
  {
   "cell_type": "markdown",
   "id": "be5e3191-f9a5-4ba7-9f6c-5202aab943c8",
   "metadata": {},
   "source": [
    "3. **Segmentatie:**\n",
    "   - **Soft Dice Loss:** Populair in medische beeldsegmentatie, met name bij onevenwichtige klassen.\n",
    "   - **Jaccard Loss (Intersection over Union Loss):** Wordt soms gebruikt voor pixelwijzematchingscores.\n",
    "   - **Cross-Entropy Loss:** Wordt vaak gebruikt in semantische segmentatietaken voor pixelwijze classificatie."
   ]
  },
  {
   "cell_type": "markdown",
   "id": "c81b13b8-a5ba-4fe4-9c3d-bcbc5a20a42c",
   "metadata": {},
   "source": [
    "#### Optimizer"
   ]
  },
  {
   "cell_type": "markdown",
   "id": "1fc152c8-750b-41fa-89e7-271e790aacd8",
   "metadata": {},
   "source": [
    "In Machine Learning projecten spelen optimizers in het algemeen een cruciale rol bij het trainen van modellen. De keuze voor een specifieke optimizer kan afhangen van verschillende factoren, inclusief de aard van de dataset, het model, en de gewenste balans tussen snelheid en nauwkeurigheid. Bekijk onderstaande video's voor een beter begrip over de werking van een optimizer.\n",
    "\n",
    "[3Blue 1Brown: Gradient Descent how Neural Networks learn](https://www.youtube.com/watch?v=IHZwWFHWa-w) - [Gradient Descent - 3 minutes](https://www.youtube.com/watch?v=qg4PchTECck)\n",
    "\n",
    "Hier zijn enkele standaardopties voor optimizers en overwegingen waarom je welke zou gebruiken:\n",
    "\n",
    "**Adam (Adaptive Moment Estimation):**\n",
    "\n",
    "[Adam Explained](https://builtin.com/machine-learning/adam-optimization)\n",
    "   - **Standaard Opties:** Goed gedefinieerde standaard parameters (\\(\\beta_1 = 0.9\\), \\(\\beta_2 = 0.999\\)), die meestal goede prestaties leveren zonder veel tuning.\n",
    "   - **Overwegingen:** Adam is vaak de eerste keuze als je snel resultaten wilt krijgen zonder veel tufines. Het combineert de voordelen van twee andere veelgebruikte methodes: AdaGrad en RMSProp.\n",
    "\n",
    "**Stochastic Gradient Descent (SGD):**\n",
    "\n",
    "[Stochastic Gradient Descent Explained](https://towardsdatascience.com/stochastic-gradient-descent-clearly-explained-53d239905d31)\n",
    "   - **Standaard Opties:** Vaak gebruikt met momentum, wat helpt om oscillaties (het heen en weer bewegen tussen twee uiterste waardes - vaak tezien in de loss) tijdens het trainen te verminderen en een snellere convergentie (het punt waarop de voorspellingen van het model niet meer verbeteren, of de loss constant wordt) te bereiken.\n",
    "   - **Overwegingen:** SGD met momentum is geschikt voor grote datasets en situaties waar je de convergentie fijn wilt afstemmen. Het vereist handmatige tuning van de leersnelheid, wat zowel een nadeel als een voordeel kan zijn.\n",
    "\n",
    "**AdaGrad:**\n",
    "   - **Standaard Opties:** Past de leersnelheid aan voor elke parameter op basis van de som van de vierkanten van alle voorgaande gradients.\n",
    "   - **Overwegingen:** Goed voor zeldzame en sprankelende kenmerken, maar kan problematisch worden als de leersnelheid te veel daalt.\n",
    "\n",
    "**RMSProp:**\n",
    "\n",
    "[RMSProp Explained](https://www.datacamp.com/tutorial/rmsprop-optimizer-tutorial)\n",
    "   - **Standaard Opties:** Houdt een bewegend gemiddelde van de vierkante gradients bij, en deelt door de wortel van deze gemiddelde waarde.\n",
    "   - **Overwegingen:** Ontwikkeld om de valkuilen van AdaGrad op te lossen, en werkt goed voor niet-stationaire doelen, wat vaak het geval is in real-world deep learning.\n",
    "\n",
    "**AdamW:**\n",
    "   - **Standaard Opties:** Een variant van Adam met decoupled weight decay. Dit voorkomt problemen die voortkomen uit de standaard L2 regularisatie in Adam.\n",
    "   - **Overwegingen:** Helpt bij de algemene generalisatie en convergentie en is vaak beter bij het trainen van transformer-gebaseerde modellen.\n",
    "\n",
    "**Nesterov Accelerated Gradient (NAG):**\n",
    "   - **Standaard Opties:** Een variatie van momentum-gebaseerde methodes die verder moet helpen om sneller te convergeren.\n",
    "   - **Overwegingen:** Het kan nuttig zijn voor zeer diepe netwerken vanwege hun abiliteit om zijn horizon van leersnelheden voor elke parameter aan te passen."
   ]
  },
  {
   "cell_type": "markdown",
   "id": "de91c8f6-b3dc-4e0a-a3bb-68557ccf32d4",
   "metadata": {},
   "source": [
    "##### Overwegingen bij het kiezen van een optimizer:"
   ]
  },
  {
   "cell_type": "markdown",
   "id": "92a54da9-f76c-445f-8ebe-93e8e5122dcb",
   "metadata": {
    "jp-MarkdownHeadingCollapsed": true
   },
   "source": [
    "- **Niet-lineaire datasets:** Opties zoals Adam helpen met het leren van complexe patronen door dynamische aanpassingen van de leersnelheid.\n",
    "- **Rekenkosten:** Simpele optimizers zoals SGD kunnen efficiënter zijn in termen van geheugen en snelheid op heel grote datasets.\n",
    "- **Tuning-behoeften:** Sommige optimizers zoals Adam vereisen minder hyperparameter tuning, terwijl optimizers zoals SGD aanzienlijke moeite kunnen vereisen om ze goed te tunen.\n",
    "- **Generalisatie:** Weight decay en optimizerkeuzes zoals AdamW kunnen helpen om overfitting te beperken en beter te generaliseren naar testdata.\n",
    "\n",
    "Bij het kiezen van een optimizer, moet je ook overwegen wat historisch goed heeft gewerkt voor vergelijkbare taken en modellen binnen jouw specifieke domein. Het kan nuttig zijn om met verschillende optimizers te experimenteren om te zien welke het beste presteert in jouw specifieke situatie."
   ]
  },
  {
   "cell_type": "markdown",
   "id": "84dd3e74-6062-447e-8680-4294d600ea6b",
   "metadata": {},
   "source": [
    "#### Metrics"
   ]
  },
  {
   "cell_type": "markdown",
   "id": "cc3e8eae-e727-4e37-b921-a44fd45d5300",
   "metadata": {},
   "source": [
    "Tijdens het trainen zijn er verschillende evaluatie metrics om in de gaten te houden. Bij image detection komen er nog een paar bij, deze worden in het `Image Detection` deel behandeld.\n",
    "Bij image classification zijn verschillende metrics die je kunt gebruiken om de prestaties van je model te evalueren. Hier zijn de meest voorkomende:\n",
    "\n",
    "1. **Accuracy**: Dit meet het percentage correcte voorspellingen over alle voorbeelden. Hoewel het nuttig is, kan het misleidend zijn in geval van een scheve klassenverdeling.\n",
    "\n",
    "2. **Precision**: Dit is het percentage daadwerkelijke positieve voorspellingen uit alle positieve voorspellingen. Het is vooral nuttig als de kosten van vals-positieven hoog zijn.\n",
    "\n",
    "3. **Recall (of Sensitivity)**: Dit is het percentage correcte positieve voorspellingen uit alle daadwerkelijke positieve gevallen. Het is cruciaal wanneer de kosten van gemiste positieve voorbeelden hoog zijn.\n",
    "\n",
    "4. **F1-score**: Dit is het harmonisch gemiddelde van precision en recall. Het is nuttig wanneer je een balans wilt vinden tussen precision en recall, vooral bij een ongelijke klassenverdeling.\n",
    "\n",
    "5. **Confusion Matrix**: Dit is een tabel die de prestaties van een classificatiemodel laat zien, met de werkelijke klassen tegenover de voorspelde klassen. Het geeft inzicht in correct geclassificeerde en verkeerd geclassificeerde voorspellingen.\n",
    "\n",
    "Deze metrics helpen je verschillende aspecten van je modelprestaties te begrijpen, en de keuze van welke te gebruiken hangt vaak af van de specificiteiten en eisen van je project. Zo is voor een toezicht systeem `precision` van hoger belang voor het voorkomen van false positives. Bij het herkennen van tumors is `recall` belangrijker aangezien false negatives veel schadelijker zijn dan false positives. Bepaal opbasis van wat voor jou model het handigst op welke metrics je het meest gaat letten.  In het geval je het zo simpel mogelijk voor jezelf wilt maken let dan op de `F1-score`."
   ]
  },
  {
   "cell_type": "markdown",
   "id": "4f654648-fc3a-4c51-a697-3a8b1ddedda2",
   "metadata": {},
   "source": [
    "#### Trainingsprocedure"
   ]
  },
  {
   "cell_type": "markdown",
   "id": "d8f7b938-c77f-49eb-89c1-d4d53bd89a02",
   "metadata": {},
   "source": [
    "Tijdens het train proces krijg je altijd te maken met batch size en epochs, dit zijn de hoeveelheid afbeeldingen voor het model de weights aanpast en het totaal aantal keer dat het model door de hele trainings data heen gaat. [Verdere uitleg](https://www.sabrepc.com/blog/Deep-Learning-and-AI/Epochs-Batch-Size-Iterations)\n",
    "\n",
    "Om niet zelf het aantal epochs te hoeven bepalen en zo mogelijk het proces te vroeg of laat te stoppen kan je gebruik maken van [early stopping](https://cyborgcodes.medium.com/what-is-early-stopping-in-deep-learning-eeb1e710a3cf) en/of [learning rate scheduler](https://neptune.ai/blog/how-to-choose-a-learning-rate-scheduler)\n",
    "\n",
    "__Kort om__:\n",
    "- __Batch size en epochs__: Kies de juiste batchgrootte die past bij de hoeveelheid beschikbare GPU/CPU-kracht, dit is standaard 32. Dan trainen we met voldoende epochs om een goede generalisatie te bereiken.\n",
    "- __Early stopping__: Dit is het bijhouden van de loss op de validatie set, als deze een aantal epochs niet verbeterd. We gebruiken early stopping om overfitting te voorkomen. \n",
    "- __Learning rate scheduling__: Gebruik een learning rate scheduler (bijv. reduce on plateau) om de learning rate automatisch aan te passen wanneer de prestaties stagneren."
   ]
  },
  {
   "cell_type": "markdown",
   "id": "65bcd335-5d40-4e63-92dd-f54998c80724",
   "metadata": {},
   "source": [
    "## Evaluatie en Implementatie"
   ]
  },
  {
   "cell_type": "markdown",
   "id": "a37be93a-050e-4144-be0c-76a52ddb4618",
   "metadata": {},
   "source": [
    "Nadat het trainen van het model is voltooid is het tijd de resultaten te evalueren. Het balanceren van de complexiteit van een model is essentieel om een goed generaliserend model te ontwikkelen dat even goed presteert op zowel trainings- als testdata."
   ]
  },
  {
   "cell_type": "markdown",
   "id": "966b4937-052d-43e7-8802-84da0d102aff",
   "metadata": {},
   "source": [
    "#### Underfitting"
   ]
  },
  {
   "cell_type": "markdown",
   "id": "79f2a943-178b-44a7-8441-894c574f77cf",
   "metadata": {},
   "source": [
    "**Definitie:** Underfitting treedt op wanneer een model te simpel is om de onderliggende patronen in de trainingsdata vast te leggen. Het model presteert slecht op zowel de trainingsdata als de nieuwe, ongeziene data.\n",
    "  \n",
    "**Oorzaken:**\n",
    "  - Een te eenvoudig model kiezen (bijvoorbeeld een lineair model voor een niet-lineaire dataset).\n",
    "  - Onvoldoende trainingsdata of te veel noise in de data.\n",
    "  - Te sterke regularisatie die de complexiteit van het model vermindert.\n",
    "\n",
    "**Gevolgen:** \n",
    "\n",
    "Het model heeft een hoge bias maar een lage variantie, wat resulteert in slechte voorspellingen en generalisering.\n",
    "\n",
    "**Oplossing:**\n",
    "  - Gebruik een complexer model dat rijkere patronen kan vasthouden.\n",
    "  - Gebruik meer relevante features.\n",
    "  - Train langer of met een andere optimizer/hogere leersnelheid."
   ]
  },
  {
   "cell_type": "markdown",
   "id": "905a7271-3004-4325-99b9-f5cbd5360a5c",
   "metadata": {},
   "source": [
    "#### Overfitting"
   ]
  },
  {
   "cell_type": "markdown",
   "id": "1eb79c6d-7962-42c6-ab5c-9f112269c69a",
   "metadata": {},
   "source": [
    "**Definitie:** Overfitting treedt op wanneer een model te complex is en niet alleen de onderliggende patronen in de trainingsdata leert, maar ook de ruis en specifieke details ervan. Hierdoor presteert het uitstekend op de trainingsdata maar slecht op nieuwe, ongeziene data.\n",
    "  \n",
    "**Oorzaken:**\n",
    "  - Een te complex model kiezen (zoals een diep neuraal netwerk zonder voldoende data).\n",
    "  - Te weinig trainingsdata in verhouding tot de complexiteit van het model.\n",
    "  - Gebrek aan regularisatie.\n",
    "\n",
    "**Gevolgen:** \n",
    "\n",
    "Het model heeft een lage bias maar een hoge variantie, wat resulteert in slechte generalisatie naar nieuwe data.\n",
    "\n",
    "**Oplossing:**\n",
    "  - Voeg [regularisatie](https://www.pinecone.io/learn/regularization-in-neural-networks/) toe (zoals [L1 of L2 regularisatie](https://www.analyticsvidhya.com/blog/2018/04/fundamentals-deep-learning-regularization-techniques/)).\n",
    "  - Gebruik technieken zoals dropout in neurale netwerken. [Dropout Basics](https://www.dremio.com/wiki/dropout-in-neural-networks/#:~:text=Dropout%20in%20Neural%20Networks%20operates,to%20generalize%20to%20new%20data.) - [Dropout Advanced](https://towardsdatascience.com/dropout-in-neural-networks-47a162d621d9)\n",
    "  - Verzamel meer data of verrijk de dataset door data augmentatie.\n",
    "  - Eenvoudiger model gebruiken dat beter bij de dataset past."
   ]
  },
  {
   "cell_type": "markdown",
   "id": "cea6bde9-1004-49ba-85ab-196e502cb8c7",
   "metadata": {},
   "source": [
    "### Implementatie"
   ]
  },
  {
   "cell_type": "markdown",
   "id": "1f95c23b-3f55-4662-8bfa-0592191cf159",
   "metadata": {},
   "source": [
    "#### Mendix Implementatie"
   ]
  },
  {
   "cell_type": "markdown",
   "id": "54c9f9d2-3a51-4e52-a091-d0eb691002a0",
   "metadata": {},
   "source": [
    "Aangezien MxBlue zich richt op (je had het vast niet geraden) Mendix gaan we de implementatie ook alleen uitwerken voor in Mendix.\n",
    "Er zijn andere mogelijkheden, echter is vaak het eindpunt in python of een .pt /.pth bestand.\n",
    "\n",
    "In het geval je met `Pytorch` werkt (waar ik wel vanuit ga) is het opslaan van je model vrij simpel\n",
    "\n",
    "``` Python\n",
    "torch.save(model.state_dict(), 'name_model.pth')\n",
    "```\n",
    "\n",
    "Dit .pth bestand zijn alle weights en biases voor elke layer. En deze kan op zelfde wijze worden gebruikt als de andere pre-trained models. *(Je zet de gewenste model structuur op laad het bestand in)*\n",
    "\n",
    "Vanaf dit punt kan je het __model omzetten__ voor het gebruik in mendix. Onderstaande notebook gaat hier over."
   ]
  },
  {
   "cell_type": "code",
   "execution_count": 72,
   "id": "00ab0226-cfb0-4143-a6fb-45b6188dafd5",
   "metadata": {},
   "outputs": [
    {
     "data": {
      "text/html": [
       "<a href='Model to mendix\\torch_to_onnx.ipynb' target='_blank'>Model to mendix\\torch_to_onnx.ipynb</a><br>"
      ],
      "text/plain": [
       "E:\\Studie\\Stage\\Notebooks\\Model to mendix\\torch_to_onnx.ipynb"
      ]
     },
     "execution_count": 72,
     "metadata": {},
     "output_type": "execute_result"
    }
   ],
   "source": [
    "FileLink('Model to mendix\\\\torch_to_onnx.ipynb')"
   ]
  },
  {
   "cell_type": "raw",
   "id": "9bd8e384-50ee-4e83-855e-9ee1bbf0ad3f",
   "metadata": {},
   "source": [
    "- __Preprocessing__: Zorg dat de java preproccesing in de mendix omgeving het zelfde is als waarmee het model is getraind.\n",
    "- __Mendix omgeving__: Het model importeren en zorgen dat alle boxen in mendix correct zijn ingesteld met de juiste bestanden."
   ]
  },
  {
   "cell_type": "markdown",
   "id": "f1222a4e-deb0-4425-a1f9-13b549305cc2",
   "metadata": {},
   "source": [
    "# Happy Flow"
   ]
  },
  {
   "cell_type": "markdown",
   "id": "bc2ce0bf-4b52-45a3-b4a6-af5a026436e8",
   "metadata": {},
   "source": [
    "Nu alle stappen zijn behandeld is het tijd om naar een voorbeeld te krijgen. Door middel van onderstaande notebook hebben we de demo voor het herkennen van fruit uit de FruitBox gemaakt:"
   ]
  },
  {
   "cell_type": "code",
   "execution_count": 7,
   "id": "77e24367-3e2f-4b0b-964e-4a925f6c12c7",
   "metadata": {},
   "outputs": [
    {
     "data": {
      "text/html": [
       "<a href='Happy Flow.ipynb' target='_blank'>Happy Flow.ipynb</a><br>"
      ],
      "text/plain": [
       "E:\\Studie\\Stage\\Notebooks\\Happy Flow.ipynb"
      ]
     },
     "execution_count": 7,
     "metadata": {},
     "output_type": "execute_result"
    }
   ],
   "source": [
    "FileLink('Happy Flow.ipynb')"
   ]
  },
  {
   "cell_type": "markdown",
   "id": "63234a0c-60b9-4278-b4fc-95854029c188",
   "metadata": {},
   "source": [
    "# Uitvoering Demo Fruitbox 'Happy flow'\n",
    "Als proof of concept is een model gemaakt wat verschillende soorten fruit uit de wekelijkse fruitbox herkent. De code gemaakt voor het verwezelijken van dit resultaat is verspreid over verschillende notebooks."
   ]
  },
  {
   "cell_type": "markdown",
   "id": "67fc9136-ea10-4402-95df-4f3afae17105",
   "metadata": {},
   "source": [
    "## Dataset Samenstellen\n",
    "Het bouwen van een Computer Vision model begint bijna altijd bij het verzamelen van de data. Stel eerst de vraag:\n",
    "\n",
    "`Wat is het doel van dit model?` / `Hoe gaat het model gebruikt worden?`\n",
    "\n",
    "Dit geeft een beeld van hoeveel afbeeldingen per klasse nodig zijn."
   ]
  },
  {
   "cell_type": "markdown",
   "id": "2c291c5d-c4c8-43e7-af69-7ff1eff68252",
   "metadata": {},
   "source": [
    "#### Aantal Afbeeldingen op basis van Complexiteit"
   ]
  },
  {
   "cell_type": "markdown",
   "id": "89629c9b-a47f-40b3-96b8-9ea8671ac602",
   "metadata": {},
   "source": [
    "1. **Basale objectherkenning** (bijv. herkenning van simpele objecten zoals dagelijkse voorwerpen):\n",
    "   - **Aantal afbeeldingen per klasse:** 100 - 1.000\n",
    "   - Hoe complexer of veelzijdiger de objecten, hoe meer afbeeldingen nodig zijn.\n",
    "\n",
    "2. **Complexe objectherkenning** (bijv. herkenning van objecten in wisselende omstandigheden of veel gelijkenis tussen klassen):\n",
    "   - **Aantal afbeeldingen per klasse:** 1.000 - 10.000\n",
    "   - Meer gegevens zijn nodig om de variabiliteit goed te dekken.\n",
    "\n",
    "3. **Fijnmazige classificatie** (bijv. onderscheiding van verschillende soorten vogels of automerken):\n",
    "   - **Aantal afbeeldingen per klasse:** 1.000 - 5.000\n",
    "   - Hoe dichterbij de klassen liggen, hoe meer afbeeldingen je nodig hebt.\n",
    "\n",
    "4. **Gezichtsherkenning of speciale toepassingen** (bijv. identificatie van gezichten, medische diagnose):\n",
    "   - **Aantal afbeeldingen per klasse:** Enkele honderden tot duizenden, afhankelijk van het vereiste detailniveau.\n",
    "   - Vaak zijn datasets in deze categorie zeer groot door de benodigde precisie.\n",
    "\n",
    "5. **Generalisatietesten** (voor toepassingen zoals augmentatie en transfer learning):\n",
    "   - **Aantal afbeeldingen per klasse:** 50 - 200 om een model van een grotere dataset te verfijnen."
   ]
  },
  {
   "cell_type": "markdown",
   "id": "6d2f0871-ce08-4ea3-86bd-5e68498a088d",
   "metadata": {},
   "source": [
    "Bij elk type model is het van belang een gebalanceerde dataset te hebben om een bias te voorkomen. Dit houdt in dat het aantal afbeeldingen per klasse zo gelijk mogelijk moeten zijn, wanneer een klasse meer afbeeldingen heeft wordt deze mogelijk ook eerder gekozen als uitkomst ongeacht wat bij de andere stappen van het project gebeurd.\n",
    "\n",
    "Bij het samenstellen van de dataset voor de demo zijn drie verschillende methodes gebruikt. Eigen afbeeldingen, scraped images en online datasets (van Kaggle)."
   ]
  },
  {
   "cell_type": "markdown",
   "id": "078cb73d-ed20-4fff-83b2-7975ce6aadd3",
   "metadata": {},
   "source": [
    "### Externe Dataset"
   ]
  },
  {
   "cell_type": "markdown",
   "id": "4322bb61-56d8-4770-8952-1472c3320ee3",
   "metadata": {},
   "source": [
    "Bij het opbouwen van een dataset is de eerste stap vaak het kijken wat voor data al beschikbaar is. Waarom duizenden afbeeldingen maken als iemand anders dit al heeft gedaan. Gelukkig bestaan er een hoop gratis online databanks zoals: [Kaggle](https://www.kaggle.com/), [Googles: Open Images](https://storage.googleapis.com/openimages/web/index.html) en [COCO](https://cocodataset.org/#home)."
   ]
  },
  {
   "cell_type": "code",
   "execution_count": 25,
   "id": "c4ea8ea5-fa50-4ce5-82e1-628a2da07511",
   "metadata": {},
   "outputs": [
    {
     "data": {
      "text/html": [
       "Path (<tt>F:\\Studie\\Stage\\Overig\\Datasets.gsheet</tt>) doesn't exist. It may still be in the process of being generated, or you may have the incorrect path."
      ],
      "text/plain": [
       "F:\\Studie\\Stage\\Overig\\Datasets.gsheet"
      ]
     },
     "execution_count": 25,
     "metadata": {},
     "output_type": "execute_result"
    }
   ],
   "source": [
    "# Nog toegang en omzetten van dit bestand\n",
    "FileLink('F:\\\\Studie\\\\Stage\\\\Overig\\\\Datasets.gsheet')"
   ]
  },
  {
   "cell_type": "markdown",
   "id": "0e3beeb5-80d4-488a-81ce-d0bc1f2afbb6",
   "metadata": {},
   "source": [
    "Het inladen van de data is op meerdere manier te doen, mijn aanrading is om dit met `PyTorch` te doen. Dit is een Python library die ook gebruikt kan worden voor het trainen van modellen dus komen we later nog verder op terug. Mijn aanbeveling is dat als je 1 library goed wilt leren voor AI modellen leer dan `PyTorch` of `TensorFlow`, in dit project gaan we vooral tewerk met PyTorch."
   ]
  },
  {
   "cell_type": "code",
   "execution_count": 27,
   "id": "5d439d36-ba09-434e-b01c-b80284a0dd1a",
   "metadata": {},
   "outputs": [
    {
     "data": {
      "text/html": [
       "<a href='Dataset Samenstellen\\PyTorch Data Loading - Vegetable Image Dataset.ipynb' target='_blank'>Dataset Samenstellen\\PyTorch Data Loading - Vegetable Image Dataset.ipynb</a><br>"
      ],
      "text/plain": [
       "E:\\Studie\\Stage\\Notebooks\\Dataset Samenstellen\\PyTorch Data Loading - Vegetable Image Dataset.ipynb"
      ]
     },
     "execution_count": 27,
     "metadata": {},
     "output_type": "execute_result"
    }
   ],
   "source": [
    "FileLink('Dataset Samenstellen\\\\PyTorch Data Loading - Vegetable Image Dataset.ipynb')"
   ]
  },
  {
   "cell_type": "markdown",
   "id": "c1a633b2-aca6-4891-ab55-e7485ff22bfb",
   "metadata": {},
   "source": [
    "### Eigen Afbeeldingen\n",
    "Hoewel het verzamelen van eigen data niet altijd noodzakelijk is is het zeker aan te raden. Stel jezelf de vraag: \n",
    "\n",
    "`Is de huidige dataset representatief voor de implementatie?`\n",
    "\n",
    "In het algemeen wil je dat minimaal **30-50%** van de afbeeldingen overeenkomen met de input die het model kan verwachten."
   ]
  },
  {
   "attachments": {
    "0abe7b69-ca01-49f1-b175-5ebc3927424d.png": {
     "image/png": "[encoded data removed]"
    },
    "c7dec3b5-a08f-40c1-b111-423e2bf82ea7.png": {
     "image/png": "[encoded data removed]"
    }
   },
   "cell_type": "markdown",
   "id": "3fff0bca-a95a-4612-90e7-f5d2b03ee7f3",
   "metadata": {},
   "source": [
    "Neem als voorbeeld onderstaande afbeeldingen uit de [Kaggle: Fruit detection YOLOv4 dataset](https://www.kaggle.com/datasets/kvnpatel/fruits-vegetable-detection-for-yolov4). \n",
    "\n",
    "![image.png](attachment:0abe7b69-ca01-49f1-b175-5ebc3927424d.png)\n",
    "![image.png](attachment:c7dec3b5-a08f-40c1-b111-423e2bf82ea7.png)\n",
    "\n",
    "Wanneer het model alleen dit soort afbeeldingen op een weegschaal zou krijgen als input heb je daarnaast geen eigen data nodig. Als de implementatie wisselende omstandigheden heeft moet eigen data worden toegevoegd (als geen representatieve set bestaat). "
   ]
  },
  {
   "cell_type": "code",
   "execution_count": 30,
   "id": "8e0a32f9-3749-4169-ae27-dc0317a31626",
   "metadata": {},
   "outputs": [
    {
     "data": {
      "text/html": [
       "<a href='Dataset Samenstellen\\PILLOW Data Loading - Fruits &amp; Vegetable Detection for YOLOv4.ipynb' target='_blank'>Dataset Samenstellen\\PILLOW Data Loading - Fruits &amp; Vegetable Detection for YOLOv4.ipynb</a><br>"
      ],
      "text/plain": [
       "E:\\Studie\\Stage\\Notebooks\\Dataset Samenstellen\\PILLOW Data Loading - Fruits & Vegetable Detection for YOLOv4.ipynb"
      ]
     },
     "execution_count": 30,
     "metadata": {},
     "output_type": "execute_result"
    }
   ],
   "source": [
    "# Notebook waar genoemde dataset wordt ingeladen (opschonen mogelijk)\n",
    "FileLink('Dataset Samenstellen\\\\PILLOW Data Loading - Fruits & Vegetable Detection for YOLOv4.ipynb')"
   ]
  },
  {
   "cell_type": "markdown",
   "id": "837f76ba-3c9e-42e6-bd30-e3dccf471115",
   "metadata": {},
   "source": [
    "*[Het verschil tussen PILLOW en OpenCV](https://learningdaily.dev/what-is-the-difference-between-opencv-and-pillow-457e37b7d530)*"
   ]
  },
  {
   "cell_type": "markdown",
   "id": "8280a891-d241-40f4-a3fb-cc64fc034eeb",
   "metadata": {},
   "source": [
    "#### **Overwegingen bij maken eigen Dataset**"
   ]
  },
  {
   "cell_type": "markdown",
   "id": "1708022e-1119-4342-a7c8-82cbb851a830",
   "metadata": {
    "jp-MarkdownHeadingCollapsed": true
   },
   "source": [
    "In het geval je de keuze maakt een eigen dataset te maken zijn er een paar dingen om rekening mee te houden:\n",
    "\n",
    "**Variatie in Omstandigheden:**\n",
    "   - **Licht:** Fotografeer onder verschillende lichtomstandigheden (zowel binnen als buiten, bij daglicht en kunstlicht) om de robuustheid van het model te verbeteren.\n",
    "   - **Hoeken en Perspectieven:** Neem afbeeldingen vanuit verschillende hoeken en perspectieven om ervoor te zorgen dat het model objecten vanuit diverse gezichtspunten kan herkennen.\n",
    "   - **Achtergronden:** Gebruik verschillende achtergronden om het model te helpen zich te concentreren op het object in plaats van op de achtergrond.\n",
    "\n",
    "**Diversiteit van Objecten:**\n",
    "   - **Verschillende Exemplaren:** Zorg voor foto's van verschillende exemplaren binnen dezelfde klasse om modeloverfit te vermijden en de generalisatie te bevorderen.\n",
    "   - **Afwisseling in Maat en Vorm:** Variatie in de grootte en vorm van objecten binnen dezelfde klasse kan nuttig zijn om de veelzijdigheid van het model te verbeteren.\n",
    "\n",
    "**Consistentie en Resolutie:**\n",
    "   - **Resolutie:** Zorg dat alle afbeeldingen een consistente en voldoende hoge resolutie hebben om belangrijke details vast te leggen.\n",
    "   - **Aspect Ratio:** Houd een consistente aspectverhouding aan om voorbereidingstijd te verminderen tijdens de preprocessing.\n",
    "\n",
    "**Balans Tussen Klassen:**\n",
    "   - **Gelijk Aantal Afbeeldingen per Klasse:** Verzamel een gelijk aantal afbeeldingen voor elke klasse om een gebalanceerd model te trainen zonder bias.\n",
    "\n",
    "\n",
    "**(Bij Object Detection) Metadata en Labeling:**\n",
    "   - **Nauwkeurige Labeling:** Zorg voor een nauwkeurige en consistente labeling van afbeeldingen. Overweeg het gebruik van tools voor het annoteren om dit proces te stroomlijnen.\n",
    "   - **Metadata Vastleggen:** Houd eventueel aanvullende metadata bij, zoals locatie, tijdstip, en gebruikte apparatuur, wat nuttig kan zijn voor verdere analyse en verbetering van het model."
   ]
  },
  {
   "cell_type": "markdown",
   "id": "f0b384ad-cf16-4694-a869-f52c3f2f9857",
   "metadata": {},
   "source": [
    "#### Web-Scraper"
   ]
  },
  {
   "cell_type": "markdown",
   "id": "abe9bff9-9229-4112-9852-ad4ed0e23c60",
   "metadata": {},
   "source": [
    "Als je voor welke reden dan ook extra afbeeldingen van het internet wilt halen. (Waarschijnlijk om de hoeveelheid afbeeldingen per klasse gelijk te maken.) Kan je dit doen door middel van een webscraper."
   ]
  },
  {
   "cell_type": "code",
   "execution_count": 36,
   "id": "abb7f9ee-31ce-44b6-9698-edd71703dd27",
   "metadata": {},
   "outputs": [
    {
     "data": {
      "text/html": [
       "<a href='Dataset Samenstellen\\webscraper.ipynb' target='_blank'>Dataset Samenstellen\\webscraper.ipynb</a><br>"
      ],
      "text/plain": [
       "E:\\Studie\\Stage\\Notebooks\\Dataset Samenstellen\\webscraper.ipynb"
      ]
     },
     "execution_count": 36,
     "metadata": {},
     "output_type": "execute_result"
    }
   ],
   "source": [
    "FileLink('Dataset Samenstellen\\\\webscraper.ipynb')"
   ]
  },
  {
   "cell_type": "markdown",
   "id": "4e090bee-8fee-4795-bda3-dbc60d7cc00f",
   "metadata": {},
   "source": [
    "## Data Verwerken"
   ]
  },
  {
   "cell_type": "markdown",
   "id": "6783b081-6554-4a6d-80ac-d4f04824e688",
   "metadata": {},
   "source": [
    "### Gewenste Folder Structuur"
   ]
  },
  {
   "cell_type": "markdown",
   "id": "48be3d88-ee2f-441b-bd77-8c0f1e51ceb9",
   "metadata": {},
   "source": [
    "Nu je alle data heb is het tijd om deze te verwerken. Dit kan zo simpel zijn als ze bij elkaar gooien of verdelen over verschillende folders, helaas is dit vaak niet het geval.\n",
    "\n",
    "Vanaf dit punt is het ook erg belangrijk om te weten wat voor een model je gaat maken. Kies je voor Object Detection (modellen als YOLO) of voor Image Classification (modellen als ResNet).\n",
    "\n",
    "In het geval je gebruik maakt van een Pre-Trained model verwacht het model een standaard input grootte, dus alle afbeeldingen moeten naar die \n",
    "\n",
    "Voor object detection is het ook van belang goed naar de label bestanden te kijken, hoe worden de hoeken van de bounding box aangegeven en is dit over alle data constistent? "
   ]
  },
  {
   "cell_type": "markdown",
   "id": "2736a392-45f7-440e-aca3-d161641f7663",
   "metadata": {},
   "source": [
    "Afhankelijk van het type model dat je gaat trainen zijn er verschillende soorten aanbevolen structuren. Zorg dat je data op deze manier gestructuurd staat in het geval je gebruik wil maken van libraries (Extreem aan te raden). "
   ]
  },
  {
   "attachments": {
    "c1a84018-72fa-48be-a8d4-8436ad8c67a8.png": {
     "image/png": "[encoded data removed]"
    },
    "f353aecd-6157-45b8-bddc-b7aaf950d954.png": {
     "image/png": "[encoded data removed]"
    }
   },
   "cell_type": "markdown",
   "id": "5dbeab09-4c97-4fc6-b8bc-c2a03a87f98b",
   "metadata": {},
   "source": [
    "#### Image Classification\n",
    "Bij image classification wil je de de afbeeldingen verdeeld per class name:\n",
    "\n",
    "![image.png](attachment:c1a84018-72fa-48be-a8d4-8436ad8c67a8.png)\n",
    "\n",
    "Je zou al de afbeeldingen kunnen verdelen over een test, train en validatie set.\n",
    "\n",
    "![image.png](attachment:f353aecd-6157-45b8-bddc-b7aaf950d954.png)\n",
    "\n",
    "Doe dit op het moment dat je een specifiek idee hebt waar je welke afbeeldingen wilt hebben, zo niet doe het verdelen met code (de aanbevolen methode)."
   ]
  },
  {
   "cell_type": "markdown",
   "id": "585d1f6c-c4dd-4269-8ec2-01c523195e2a",
   "metadata": {},
   "source": [
    "#### Image Detection"
   ]
  },
  {
   "attachments": {
    "fb155931-1fc1-49b5-a914-29d27515b317.png": {
     "image/png": "[encoded data removed]"
    }
   },
   "cell_type": "markdown",
   "id": "cd44d366-86aa-44e6-baf3-5bfbabadafbb",
   "metadata": {},
   "source": [
    "Bij image detection wil je alle afbeeldingen in de zelfde map hebben. \n",
    "\n",
    "![image.png](attachment:fb155931-1fc1-49b5-a914-29d27515b317.png)\n",
    "\n",
    "Daarnaast wil je een tweede folder met alle label files. \n",
    "\n",
    "De namen moeten het zelfde zijn zodat de code het herkent als paar. Deze twee folders kunnen ook weer over test, train en validatie worden gesplitst. Let hierbij wel op dat je de paren in dit proces niet splitst."
   ]
  },
  {
   "cell_type": "markdown",
   "id": "99e75402-7530-483a-878f-e81cdd77ff63",
   "metadata": {},
   "source": [
    "*Mogelijk nog stukje over andere structuur eigen dataloader*"
   ]
  },
  {
   "cell_type": "markdown",
   "id": "ec2672a8-76d0-48ce-8676-b31d2b8255bb",
   "metadata": {},
   "source": [
    "### Zelf augmentatie toepassen"
   ]
  },
  {
   "cell_type": "code",
   "execution_count": 46,
   "id": "13931b75-7d1d-4b0b-b63e-a0a97a324344",
   "metadata": {},
   "outputs": [
    {
     "data": {
      "text/html": [
       "<a href='Dataset Samenstellen\\Image Processing.ipynb' target='_blank'>Dataset Samenstellen\\Image Processing.ipynb</a><br>"
      ],
      "text/plain": [
       "E:\\Studie\\Stage\\Notebooks\\Dataset Samenstellen\\Image Processing.ipynb"
      ]
     },
     "execution_count": 46,
     "metadata": {},
     "output_type": "execute_result"
    }
   ],
   "source": [
    "FileLink('Dataset Samenstellen\\\\Image Processing.ipynb')"
   ]
  },
  {
   "cell_type": "markdown",
   "id": "820fd5d9-2aa3-4bb6-b296-88e4a18ab942",
   "metadata": {},
   "source": [
    "Voor de meeste projecten wil je dit waarschijnlijk niet zelf doen tenzij je tijdens het data processen heel graag wilt zien wat met elke afbeelding gebeurd voor deze het model in gaat. Het bestand is dus vooral ook om dit te kunnen zien dus klooi er even mee voor een beter beeld en de noodzaak van bepaalde stappen."
   ]
  },
  {
   "cell_type": "markdown",
   "id": "768cacca-fc35-48a5-88cc-07f3d875327f",
   "metadata": {},
   "source": [
    "### Dataloader / Transformer"
   ]
  },
  {
   "cell_type": "markdown",
   "id": "528d09ff-964c-42e5-be12-1be8b8690027",
   "metadata": {},
   "source": [
    "Het is aanbevolen om gebruik te maken van Dataloaders en Transformers. Hierdoor ben in het algemeen wel verplicht de bijhorende libraries te gebruiken van de loaderDit is een kleine opgave aangezien dataloaders het inladen van de data automatisch doet met de juiste structuur (van hier boven). Waarbij de Transformer de meegegeven aanpassingen "
   ]
  },
  {
   "cell_type": "markdown",
   "id": "25010962-8818-49fe-ab17-c8d845162d3b",
   "metadata": {},
   "source": [
    "Eerder heb je al kunnen zien hoe we door middel van pytorch de afbeeldingen kunnen inladen."
   ]
  },
  {
   "cell_type": "code",
   "execution_count": 51,
   "id": "689cd4d4-b67f-4930-9a34-fa98f24a684f",
   "metadata": {},
   "outputs": [
    {
     "data": {
      "text/html": [
       "<a href='Dataset Samenstellen\\PyTorch Data Loading - Vegetable Image Dataset.ipynb' target='_blank'>Dataset Samenstellen\\PyTorch Data Loading - Vegetable Image Dataset.ipynb</a><br>"
      ],
      "text/plain": [
       "E:\\Studie\\Stage\\Notebooks\\Dataset Samenstellen\\PyTorch Data Loading - Vegetable Image Dataset.ipynb"
      ]
     },
     "execution_count": 51,
     "metadata": {},
     "output_type": "execute_result"
    }
   ],
   "source": [
    "FileLink('Dataset Samenstellen\\\\PyTorch Data Loading - Vegetable Image Dataset.ipynb')"
   ]
  },
  {
   "cell_type": "markdown",
   "id": "af4b28f6-1dba-4e87-936f-63cdab07d227",
   "metadata": {},
   "source": [
    "Echter was hier de Transformer nog minimaal:\n",
    "```\n",
    "# Transformeer de data bij het inladen\n",
    "transform = transforms.Compose([\n",
    "#     transforms.Resize((128, 128)), # de afbeeldingen zijn al het zelfde formaat (en niet te groot dus deze stap is niet nodig)\n",
    "    transforms.ToTensor()\n",
    "])\n",
    "```\n",
    "Deze transform was (te) minimaal, voor meer informatie lees de [transform docs](https://pytorch.org/vision/stable/transforms.html) of Google de taak die je zoekt. Of kijk verder bij model trainen naar hoe de transform is gebruikt voor data augmentation."
   ]
  },
  {
   "cell_type": "markdown",
   "id": "6e8e780b-fdc0-4998-a23e-e61854772d4b",
   "metadata": {},
   "source": [
    "## Model Trainen"
   ]
  },
  {
   "cell_type": "markdown",
   "id": "c614c391-f0a9-4bac-aa06-fa02b526a771",
   "metadata": {},
   "source": [
    "Voor het trainen van een Computer Vision model heb je al een keuze gemaakt tussen Image Detection en Image Classification. Je kan nog de keuze maken tussen pre-trained en een eigen model structuur zonder weights en biases."
   ]
  },
  {
   "cell_type": "markdown",
   "id": "8395595d-bb7b-4f01-808a-36ee57c71daf",
   "metadata": {},
   "source": [
    "#### Optimizer"
   ]
  },
  {
   "cell_type": "markdown",
   "id": "1fd4f568-60f9-4151-8b41-55c32e1a63e6",
   "metadata": {},
   "source": [
    "De optimizer is verantwoordelijk voor het aanpassen van kenmerken van het neurale netwerk, zoals gewichten en leersnelheden.\n",
    "Zoals de naam al doet denken is dit gericht op het optimaliseren van het train process.\n",
    "Vaak is het oke (vooral voor een eerste model) om te beginnen met een Adam Optimizer om later een andere te kiezen.\n",
    "Als dit model een slecht resultaat geeft is het zeer aannemelijk dat het probleem ergens anders ligt en raad ik aan de andere stappen eerst te controleren.\n",
    "\n",
    "[Meer weten over optimizers?](https://www.analyticsvidhya.com/blog/2021/10/a-comprehensive-guide-on-deep-learning-optimizers/)\n",
    "\n",
    "Voor het geval je een specifieke optimizer zoekt bekijk onderstaande notebook voor een overzicht waarom wel of niet te gebruiken voor de huidige klus. "
   ]
  },
  {
   "cell_type": "code",
   "execution_count": 58,
   "id": "ffc8247d-9333-4219-9149-416e09aede5f",
   "metadata": {},
   "outputs": [],
   "source": [
    "# Nog maken\n",
    "# FileLink('OptimizerFile.ipynb')"
   ]
  },
  {
   "cell_type": "markdown",
   "id": "33d59a18-b5ef-4c14-8544-798e33615d4d",
   "metadata": {},
   "source": [
    "#### Metrics"
   ]
  },
  {
   "cell_type": "markdown",
   "id": "31653740-add1-48ed-ab29-eb85ffa1ab58",
   "metadata": {},
   "source": [
    "Tijdens het trainen zijn er verschillende metrics om in de gaten te houden. Bij image detection komen er nog een paar bij, deze worden in het `Image Detection` deel behandeld.\n",
    "Bij image classification zijn verschillende metrics die je kunt gebruiken om de prestaties van je model te evalueren. Hier zijn de meest voorkomende:\n",
    "\n",
    "1. **Accuracy**: Dit meet het percentage correcte voorspellingen over alle voorbeelden. Hoewel het nuttig is, kan het misleidend zijn in geval van een scheve klassenverdeling.\n",
    "\n",
    "2. **Precision**: Dit is het percentage daadwerkelijke positieve voorspellingen uit alle positieve voorspellingen. Het is vooral nuttig als de kosten van vals-positieven hoog zijn.\n",
    "\n",
    "3. **Recall (of Sensitivity)**: Dit is het percentage correcte positieve voorspellingen uit alle daadwerkelijke positieve gevallen. Het is cruciaal wanneer de kosten van gemiste positieve voorbeelden hoog zijn.\n",
    "\n",
    "4. **F1-score**: Dit is het harmonisch gemiddelde van precision en recall. Het is nuttig wanneer je een balans wilt vinden tussen precision en recall, vooral bij een ongelijke klassenverdeling.\n",
    "\n",
    "5. **Confusion Matrix**: Dit is een tabel die de prestaties van een classificatiemodel laat zien, met de werkelijke klassen tegenover de voorspelde klassen. Het geeft inzicht in correct geclassificeerde en verkeerd geclassificeerde voorspellingen.\n",
    "\n",
    "Deze metrics helpen je verschillende aspecten van je modelprestaties te begrijpen, en de keuze van welke te gebruiken hangt vaak af van de specificiteiten en eisen van je project. Bepaal opbasis van wat voor jou model het handigst op welke metrics je het meest gaat letten. In het geval je het zo simpel mogelijk voor jezelf wilt maken let dan op de `F1-score`."
   ]
  },
  {
   "cell_type": "markdown",
   "id": "d0a04978-1052-441c-9028-2fb91f0ab229",
   "metadata": {},
   "source": [
    "### Image Classification"
   ]
  },
  {
   "cell_type": "markdown",
   "id": "e38fb083",
   "metadata": {},
   "source": [
    "Dit type modellen zoals de naam al zegt probeert verschillende klasse te kunnen herkennen. Dit doet het door naar heel de afbeelding te kijken en op basis hiervan geeft het een voorspelling voor elke classen.\n",
    "\n",
    "Bekijk zo eerst een vd minimale modellen om de structuur door te krijgen voor we meer geavanceerde methodes gaan gebruiken."
   ]
  },
  {
   "cell_type": "code",
   "execution_count": 63,
   "id": "25910a2d-daed-4791-a5ea-f2d6b95ad75b",
   "metadata": {},
   "outputs": [
    {
     "data": {
      "text/html": [
       "<a href='Model Training\\ResNet50_basics.ipynb' target='_blank'>Model Training\\ResNet50_basics.ipynb</a><br>"
      ],
      "text/plain": [
       "E:\\Studie\\Stage\\Notebooks\\Model Training\\ResNet50_basics.ipynb"
      ]
     },
     "execution_count": 63,
     "metadata": {},
     "output_type": "execute_result"
    }
   ],
   "source": [
    "# Pre-trained ResNet50 - Zonder extra toevoegingen\n",
    "FileLink('Model Training\\\\ResNet50_basics.ipynb')"
   ]
  },
  {
   "cell_type": "markdown",
   "id": "69dc04d9",
   "metadata": {},
   "source": [
    "In onderstaande notebook werken we ook een ResNet50 model uit. Maar in dit geval hebben we toevoegingen gedaan om overfitting tegen te gaan."
   ]
  },
  {
   "cell_type": "code",
   "execution_count": 65,
   "id": "18131157-50e1-4d0c-b822-4774b064f78b",
   "metadata": {},
   "outputs": [
    {
     "data": {
      "text/html": [
       "<a href='Model Training\\ResNet50.ipynb' target='_blank'>Model Training\\ResNet50.ipynb</a><br>"
      ],
      "text/plain": [
       "E:\\Studie\\Stage\\Notebooks\\Model Training\\ResNet50.ipynb"
      ]
     },
     "execution_count": 65,
     "metadata": {},
     "output_type": "execute_result"
    }
   ],
   "source": [
    "# Pre-trained ResNet50 - Onderbouw keuzes \n",
    "FileLink('Model Training\\\\ResNet50.ipynb')"
   ]
  },
  {
   "cell_type": "markdown",
   "id": "f0c9f098-0e6d-490a-8231-ba1325975eb8",
   "metadata": {},
   "source": [
    "### Image Detection"
   ]
  },
  {
   "cell_type": "markdown",
   "id": "afef1e5e-c43e-4190-afe8-e406469afc6f",
   "metadata": {},
   "source": [
    "Hierbij wordt een object in de afbeelding gevonden ipv dat de hele afbeelding als het object of de klasse wordt gezien. Dit heeft verschillende effecten als een andere structuur voor de data en het model, de benodigde hoeveelheid data, trainingstijd maar vooral ook het resultaat van het model."
   ]
  },
  {
   "cell_type": "raw",
   "id": "8ea40aad-9ed1-4a04-b337-b30ab41c18b2",
   "metadata": {},
   "source": [
    "### Algemene Image Detection Uitleg\n",
    "- Hoe Image Detection werkt\n",
    "- Bounding Boxes\n",
    "- Exclusieve metrics"
   ]
  },
  {
   "cell_type": "code",
   "execution_count": 67,
   "id": "96d48f16-cb34-421e-bfdc-29fe00af2ed5",
   "metadata": {},
   "outputs": [
    {
     "data": {
      "text/html": [
       "<a href='Model Training\\Training YOLO model.ipynb' target='_blank'>Model Training\\Training YOLO model.ipynb</a><br>"
      ],
      "text/plain": [
       "E:\\Studie\\Stage\\Notebooks\\Model Training\\Training YOLO model.ipynb"
      ]
     },
     "execution_count": 67,
     "metadata": {},
     "output_type": "execute_result"
    }
   ],
   "source": [
    "FileLink('Model Training\\\\Training YOLO model.ipynb')"
   ]
  },
  {
   "cell_type": "markdown",
   "id": "626e2070-e7e4-4d7c-9d20-e7edac31cb91",
   "metadata": {},
   "source": [
    "## Evaluatie\n",
    "\n",
    "Als het goed is heb je nu een eerste getrainde model! Gefeliciteerd, helaas is de kans groot dat het niet gelijk doet wat je wilt. Daardoor gaan we nu de resulaten analyseren, in het algemeen zijn de problemen te ver eenvoudigen tot Overfitting en Underfitting.\n",
    "- **Underfitting:** Het model heeft niet genoeg capaciteit om patronen in de data te herkennen. Dit kan liggen aan gebrek van data of een te simpel model.\n",
    "- **Overfitting:** Het model werkt uitstekend op de trainingsdata maar faalt op nieuwe data. Te lange train tijd, te complex model voor de taak, te weinig diversiteit in en buiten de classe of verkeerde hyper-parameters zijn allemaal mogelijkheden voor overfitting. (In mijn ervaring) heb je vaak ook meer te maken met overfitting dan met underfitting. Overfitting is vaak ook moeilijker te herkennen en kan ook tijdens het train proces niet op lijken te duiken tot het in de implementatie te laat is. (Door bijvoorbeeld indentiek of bijna identieke afbeeldingen in de validatie set te hebben.)\n",
    "    In de voorgaande notebooks zijn al verschillende counter measures te zien.\n",
    "  (*Misschien is het handig om een specifieke notebook voor overfitting te maken?*)\n",
    "\n"
   ]
  },
  {
   "cell_type": "markdown",
   "id": "8817bdd5-a08c-4895-872d-5478962c8fcb",
   "metadata": {},
   "source": [
    "## Implementatie"
   ]
  },
  {
   "cell_type": "markdown",
   "id": "1b5bcf8c-3005-4ccc-99a1-9aaf9d5c27d5",
   "metadata": {},
   "source": [
    "Het getrainde model kan op verschillende manieren geimplementeerd worden, aangezien de kans groot is dat het model in Mendix gedraaid zal worden zullen we dit uitvoeren. Hiervoor moet het model omgezet worden naar het bestandtype .onnx om in Mendix bruikbaar te zijn. Dit kunnen beide onderstaande bestanden doen."
   ]
  },
  {
   "cell_type": "code",
   "execution_count": 71,
   "id": "08a935a6-cdaa-49c1-8ce7-addbfd2cbe4c",
   "metadata": {},
   "outputs": [
    {
     "data": {
      "text/html": [
       "<a href='Model to mendix\\torch_to_onnx - stepbystep.ipynb' target='_blank'>Model to mendix\\torch_to_onnx - stepbystep.ipynb</a><br>"
      ],
      "text/plain": [
       "E:\\Studie\\Stage\\Notebooks\\Model to mendix\\torch_to_onnx - stepbystep.ipynb"
      ]
     },
     "execution_count": 71,
     "metadata": {},
     "output_type": "execute_result"
    }
   ],
   "source": [
    "FileLink('Model to mendix\\\\torch_to_onnx - stepbystep.ipynb')"
   ]
  },
  {
   "cell_type": "code",
   "execution_count": 72,
   "id": "3de33b87-17b9-4eee-8a33-2c231d1f9ee0",
   "metadata": {},
   "outputs": [
    {
     "data": {
      "text/html": [
       "<a href='Model to mendix\\torch_to_onnx.ipynb' target='_blank'>Model to mendix\\torch_to_onnx.ipynb</a><br>"
      ],
      "text/plain": [
       "E:\\Studie\\Stage\\Notebooks\\Model to mendix\\torch_to_onnx.ipynb"
      ]
     },
     "execution_count": 72,
     "metadata": {},
     "output_type": "execute_result"
    }
   ],
   "source": [
    "FileLink('Model to mendix\\\\torch_to_onnx.ipynb')"
   ]
  },
  {
   "cell_type": "markdown",
   "id": "a1835a83",
   "metadata": {},
   "source": [
    "Nu je het correcte bestandstype hebt gaat de rest van je project door in Mendix. Hier moet je het model importeren als ML_model_mapping, het moeilijke gedeelde zit m in de pre en post processing. Je moet deze zo aanpassen zodat **de preprocessing stappen exact de zelfde output geeft als het model als input verwacht**. Waarna de post processing de output moet omzetten naar een bruikbaar resultaat.\n",
    "\n",
    "(*Maak een FileLink voor het aanpassen van de pre en post processing of alle stappen van het in mendix implementeren op basis van screenshots*)"
   ]
  },
  {
   "cell_type": "code",
   "execution_count": null,
   "id": "8ae37620-56f7-4689-999d-8d4813f64a2b",
   "metadata": {},
   "outputs": [],
   "source": []
  }
 ],
 "metadata": {
  "kernelspec": {
   "display_name": "Python 3 (ipykernel)",
   "language": "python",
   "name": "python3"
  },
  "language_info": {
   "codemirror_mode": {
    "name": "ipython",
    "version": 3
   },
   "file_extension": ".py",
   "mimetype": "text/x-python",
   "name": "python",
   "nbconvert_exporter": "python",
   "pygments_lexer": "ipython3",
   "version": "3.9.20"
  }
 },
 "nbformat": 4,
 "nbformat_minor": 5
}
