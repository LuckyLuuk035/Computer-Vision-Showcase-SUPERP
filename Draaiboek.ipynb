{
 "cells": [
  {
   "cell_type": "markdown",
   "id": "08ea0252",
   "metadata": {},
   "source": [
    "# Draaiboek"
   ]
  },
  {
   "cell_type": "markdown",
   "id": "e908afd4",
   "metadata": {},
   "source": [
    "Mijn stage folder staat vol met een hoop Notebooks zonder dat de nuance duidelijk is. Dit bestand geeft de stappen van een Computer Vision project en verwijst je naar de bijhorende bestanden."
   ]
  },
  {
   "cell_type": "markdown",
   "id": "b9b05df9-870e-4125-82bf-87ddecd56501",
   "metadata": {},
   "source": [
    "Run `!pip install -r requirements.txt` of \n",
    "vul `python -m pip install -r requirements.txt` in een cmd in de folder van de locatie van dit bestand, dit geeft zicht op het download proces."
   ]
  },
  {
   "cell_type": "code",
   "execution_count": 4,
   "id": "c751983a-f2d9-49d8-9d22-14a72ff576c8",
   "metadata": {},
   "outputs": [],
   "source": [
    "# !pip install -r requirements.txt"
   ]
  },
  {
   "cell_type": "code",
   "execution_count": 5,
   "id": "3a665bbd",
   "metadata": {},
   "outputs": [],
   "source": [
    "from IPython.display import FileLink, FileLinks"
   ]
  },
  {
   "cell_type": "markdown",
   "id": "39d09f92-0c44-4121-88cb-78447ab06f55",
   "metadata": {},
   "source": [
    "## Dataset Samenstellen"
   ]
  },
  {
   "cell_type": "markdown",
   "id": "50476a23-2af5-4c49-8875-2b13d58ab837",
   "metadata": {},
   "source": [
    "Het bouwen van een Computer Vision model begint bijna altijd bij het verzamelen van de data. Wanneer de dataset perfect is is succes van het model zo goed als gegarandeerd. Bestudeer onderstaande notebook voor alle ins en outs."
   ]
  },
  {
   "cell_type": "code",
   "execution_count": 8,
   "id": "6e1ed824-e0b0-432a-a2a8-99dc28d642dc",
   "metadata": {},
   "outputs": [
    {
     "data": {
      "text/html": [
       "<a href='informatie\\dataset samenstellen.ipynb' target='_blank'>informatie\\dataset samenstellen.ipynb</a><br>"
      ],
      "text/plain": [
       "E:\\Studie\\Stage\\Computer-Vision-Showcase-SUPERP\\informatie\\dataset samenstellen.ipynb"
      ]
     },
     "execution_count": 8,
     "metadata": {},
     "output_type": "execute_result"
    }
   ],
   "source": [
    "FileLink('informatie\\\\dataset samenstellen.ipynb')"
   ]
  },
  {
   "cell_type": "markdown",
   "id": "dfb8e32d-a7c6-436a-a5f4-60ed66ac5cd9",
   "metadata": {},
   "source": [
    "Voor je de dataset samenstelt moet de keuze tussen de verschillende vormen van computer vision al zijn gedaan. Met als keuzes: Classification, Detection en Segmentation. Als het niet duidelijk is welk type model je wilt maken ga door naar het kopje 'Model Trainen' -> 'Model keuze'."
   ]
  },
  {
   "cell_type": "markdown",
   "id": "ac9d1ed4-6530-4df4-a07a-d46ab2046822",
   "metadata": {},
   "source": [
    "## Data Verwerken"
   ]
  },
  {
   "cell_type": "markdown",
   "id": "d4eaa4d0-cf9d-4837-8213-750d6fe867a1",
   "metadata": {},
   "source": [
    "Het alleen hebben van een dataset is vaak niet genoeg, om hier een goed model op te kunnen trainen moet vaak de dataset op verchillende manieren worden aangepast."
   ]
  },
  {
   "cell_type": "code",
   "execution_count": 12,
   "id": "6e64081c-7f00-45fe-bbc7-654a9e51623d",
   "metadata": {},
   "outputs": [
    {
     "data": {
      "text/html": [
       "<a href='informatie\\Data Verwerken.ipynb' target='_blank'>informatie\\Data Verwerken.ipynb</a><br>"
      ],
      "text/plain": [
       "E:\\Studie\\Stage\\Computer-Vision-Showcase-SUPERP\\informatie\\Data Verwerken.ipynb"
      ]
     },
     "execution_count": 12,
     "metadata": {},
     "output_type": "execute_result"
    }
   ],
   "source": [
    "FileLink('informatie\\\\Data Verwerken.ipynb')"
   ]
  },
  {
   "cell_type": "markdown",
   "id": "51c4097e-4009-4daa-8d32-8fd3c851b71d",
   "metadata": {},
   "source": [
    "## Model Trainen"
   ]
  },
  {
   "cell_type": "markdown",
   "id": "135e802e-11c1-4e35-ab64-0f0e520630d0",
   "metadata": {},
   "source": [
    "In onderstaande notebook vindd je de informatie vinden over het train process en de gerelateerde onderwerpen."
   ]
  },
  {
   "cell_type": "code",
   "execution_count": 15,
   "id": "8ae37620-56f7-4689-999d-8d4813f64a2b",
   "metadata": {},
   "outputs": [
    {
     "data": {
      "text/html": [
       "<a href='informatie\\Model Trainen.ipynb' target='_blank'>informatie\\Model Trainen.ipynb</a><br>"
      ],
      "text/plain": [
       "E:\\Studie\\Stage\\Computer-Vision-Showcase-SUPERP\\informatie\\Model Trainen.ipynb"
      ]
     },
     "execution_count": 15,
     "metadata": {},
     "output_type": "execute_result"
    }
   ],
   "source": [
    "FileLink('informatie\\\\Model Trainen.ipynb')"
   ]
  },
  {
   "cell_type": "markdown",
   "id": "cc86b8c2-c1ee-47b6-8531-5b87e7550fdb",
   "metadata": {},
   "source": [
    "#### Happy Flow\n",
    "In het geval vooral de uitvoering van het trainings proces van belang is bekijk dan dit notebook waarmee het model is getraind voor de demo van op kantoor."
   ]
  },
  {
   "cell_type": "code",
   "execution_count": 17,
   "id": "0feaa312-f398-434b-8a89-ab8a7a30a958",
   "metadata": {},
   "outputs": [
    {
     "data": {
      "text/html": [
       "<a href='code\\ResNet50_model_trainen.ipynb' target='_blank'>code\\ResNet50_model_trainen.ipynb</a><br>"
      ],
      "text/plain": [
       "E:\\Studie\\Stage\\Computer-Vision-Showcase-SUPERP\\code\\ResNet50_model_trainen.ipynb"
      ]
     },
     "execution_count": 17,
     "metadata": {},
     "output_type": "execute_result"
    }
   ],
   "source": [
    "# Hier het train process\n",
    "FileLink('code\\\\ResNet50_model_trainen.ipynb')"
   ]
  },
  {
   "cell_type": "markdown",
   "id": "8ba3c07c-b0f9-4879-b8f6-9c934914fb2c",
   "metadata": {},
   "source": [
    "#### Model Gebruiken\n",
    "Waarna in onderstaande notebook je het zelf getrainde of meegeleverde model kan gebruiken."
   ]
  },
  {
   "cell_type": "code",
   "execution_count": 19,
   "id": "1b483ed2-8382-4445-9bc7-5eae0aa5ec1e",
   "metadata": {},
   "outputs": [
    {
     "data": {
      "text/html": [
       "<a href='code\\ResNet50_model_gebruiken.ipynb' target='_blank'>code\\ResNet50_model_gebruiken.ipynb</a><br>"
      ],
      "text/plain": [
       "E:\\Studie\\Stage\\Computer-Vision-Showcase-SUPERP\\code\\ResNet50_model_gebruiken.ipynb"
      ]
     },
     "execution_count": 19,
     "metadata": {},
     "output_type": "execute_result"
    }
   ],
   "source": [
    "# Gebruiken van model\n",
    "FileLink('code\\\\ResNet50_model_gebruiken.ipynb')"
   ]
  },
  {
   "cell_type": "markdown",
   "id": "65bcd335-5d40-4e63-92dd-f54998c80724",
   "metadata": {},
   "source": [
    "## Evaluatie en Implementatie"
   ]
  },
  {
   "cell_type": "markdown",
   "id": "a37be93a-050e-4144-be0c-76a52ddb4618",
   "metadata": {},
   "source": [
    "Nadat het trainen van het model is voltooid is het tijd de resultaten te evalueren. Het balanceren van de complexiteit van een model is essentieel om een goed generaliserend model te ontwikkelen dat even goed presteert op zowel trainings- als testdata."
   ]
  },
  {
   "cell_type": "code",
   "execution_count": 22,
   "id": "e72b259b-a047-4a52-8a7f-49c0e82252cf",
   "metadata": {},
   "outputs": [
    {
     "data": {
      "text/html": [
       "<a href='informatie\\under-overfitting.ipynb' target='_blank'>informatie\\under-overfitting.ipynb</a><br>"
      ],
      "text/plain": [
       "E:\\Studie\\Stage\\Computer-Vision-Showcase-SUPERP\\informatie\\under-overfitting.ipynb"
      ]
     },
     "execution_count": 22,
     "metadata": {},
     "output_type": "execute_result"
    }
   ],
   "source": [
    "FileLink('informatie\\\\under-overfitting.ipynb')"
   ]
  },
  {
   "cell_type": "markdown",
   "id": "cea6bde9-1004-49ba-85ab-196e502cb8c7",
   "metadata": {},
   "source": [
    "### Implementatie"
   ]
  },
  {
   "cell_type": "markdown",
   "id": "1f95c23b-3f55-4662-8bfa-0592191cf159",
   "metadata": {},
   "source": [
    "#### Mendix Implementatie"
   ]
  },
  {
   "cell_type": "markdown",
   "id": "54c9f9d2-3a51-4e52-a091-d0eb691002a0",
   "metadata": {},
   "source": [
    "Aangezien MxBlue zich richt op (je had het vast niet geraden) Mendix gaan we de implementatie ook alleen uitwerken voor in Mendix.\n",
    "Er zijn andere mogelijkheden, echter is vaak het eindpunt in python of een .pt /.pth bestand.\n",
    "\n",
    "In het geval je met `Pytorch` werkt (waar ik wel vanuit ga) is het opslaan van je model vrij simpel\n",
    "\n",
    "``` Python\n",
    "torch.save(model.state_dict(), 'name_model.pth')\n",
    "```\n",
    "\n",
    "Dit .pth bestand zijn alle weights en biases voor elke layer. En deze kan op zelfde wijze worden gebruikt als de andere pre-trained models. *(Je zet de gewenste model structuur op laad het bestand in)*\n",
    "\n",
    "Vanaf dit punt kan je het __model omzetten__ voor het gebruik in mendix. Onderstaande notebook gaat hier over."
   ]
  },
  {
   "cell_type": "code",
   "execution_count": 26,
   "id": "00ab0226-cfb0-4143-a6fb-45b6188dafd5",
   "metadata": {},
   "outputs": [
    {
     "data": {
      "text/html": [
       "<a href='code\\pth_to_onnx.ipynb' target='_blank'>code\\pth_to_onnx.ipynb</a><br>"
      ],
      "text/plain": [
       "E:\\Studie\\Stage\\Computer-Vision-Showcase-SUPERP\\code\\pth_to_onnx.ipynb"
      ]
     },
     "execution_count": 26,
     "metadata": {},
     "output_type": "execute_result"
    }
   ],
   "source": [
    "FileLink('code\\\\pth_to_onnx.ipynb')"
   ]
  }
 ],
 "metadata": {
  "kernelspec": {
   "display_name": "Python 3 (ipykernel)",
   "language": "python",
   "name": "python3"
  },
  "language_info": {
   "codemirror_mode": {
    "name": "ipython",
    "version": 3
   },
   "file_extension": ".py",
   "mimetype": "text/x-python",
   "name": "python",
   "nbconvert_exporter": "python",
   "pygments_lexer": "ipython3",
   "version": "3.9.20"
  }
 },
 "nbformat": 4,
 "nbformat_minor": 5
}
