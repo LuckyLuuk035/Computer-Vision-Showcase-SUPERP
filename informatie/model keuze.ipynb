{
 "cells": [
  {
   "cell_type": "markdown",
   "id": "0a378c71-e930-42eb-93ac-83784ce4e9f5",
   "metadata": {},
   "source": [
    "# Ondersteuning Model keuze"
   ]
  },
  {
   "cell_type": "markdown",
   "id": "274dd5b6-751a-4c81-b34c-8265d6e62831",
   "metadata": {},
   "source": [
    "1. **Doel van het project**:\n",
    "   - **Classificatie**: Moet het model objecten in een afbeelding classificeren?\n",
    "   - **Detectie**: Moet het model objecten lokaliseren en identificeren?\n",
    "   - **Segmentatie**: Moet het model elke pixel van een afbeelding classificeren in een bepaald segment?"
   ]
  },
  {
   "cell_type": "markdown",
   "id": "452bf527-205e-4ca6-a544-022288c6a8b4",
   "metadata": {},
   "source": [
    "2. **Type data**:\n",
    "   - **Geannoteerde datasets**: Heb je toegang tot een goed gelabelde dataset, of moet je er een creëren?\n",
    "   - **Afbeeldingsresolutie en schaal**: Zijn de afbeeldingen van hoge resolutie, en moet het model op meerdere schalen presteren?"
   ]
  },
  {
   "cell_type": "markdown",
   "id": "af24701e-e1f6-4474-a1df-637908a80f37",
   "metadata": {},
   "source": [
    "3. **Complexiteit en rekenkracht**:\n",
    "   - **Beschikbare hardware**: Heb je toegang tot GPU's of TPUs?\n",
    "   - **Snelheid versus nauwkeurigheid**: Is real-time verwerking belangrijk, of is nauwkeurigheid het belangrijkste criterium?"
   ]
  },
  {
   "cell_type": "markdown",
   "id": "73a7fbfa-4551-48a5-bed4-9d6ac00113b8",
   "metadata": {},
   "source": [
    "4. **Bekende benaderingen**:\n",
    "   - **Classificatie modellen**: Overweeg modellen zoals ResNet, VGG, Inception, of EfficientNet.\n",
    "   - **Objectdetectie modellen**: Overweeg SSD, YOLO, of Faster R-CNN.\n",
    "   - **Segmentatie modellen**: Overweeg U-Net, Mask R-CNN, of DeepLab."
   ]
  },
  {
   "cell_type": "markdown",
   "id": "f95ac0ef-06d4-4266-bd5d-f71d10f4c281",
   "metadata": {},
   "source": [
    "5. **Beschikbare frameworks en tools**:\n",
    "   - **Deep learning frameworks**: TensorFlow, PyTorch, enz.\n",
    "   - **Pre-getrainde modellen en transfer learning**: Kun je profiteren van bestaande pre-getrainde modellen?"
   ]
  },
  {
   "cell_type": "markdown",
   "id": "44c349c4-92c6-4aee-b08b-af13dc29c894",
   "metadata": {},
   "source": [
    "6. **Evaluatiemetrieken**:\n",
    "   - **Precision en recall**: Wat zijn de vereisten voor deze metriek?\n",
    "   - **F1-score en IoU**: Welke metriek is het meest geschikt voor het meten van succes in jouw specifieke project?"
   ]
  },
  {
   "cell_type": "raw",
   "id": "70395982-2a01-4535-8282-2f745e8189f2",
   "metadata": {},
   "source": [
    "# Decision Tree van ChatGPT\n",
    "Start\n",
    "|\n",
    "|-- Wat is het doel van het project?\n",
    "|   |  \n",
    "|   |-- Classificatie\n",
    "|   |   |-- Gebruik je een geannoteerde dataset?\n",
    "|   |       |-- Ja -> Overweeg: ResNet, VGG, Inception, EfficientNet\n",
    "|   |       |-- Nee -> Maak gebruik van transfer learning of overweeg dataset-annotatie\n",
    "|   |\n",
    "|   |-- Objectdetectie\n",
    "|   |   |-- Is real-time snelheid belangrijk?\n",
    "|   |       |-- Ja -> Overweeg: YOLO, SSD\n",
    "|   |       |-- Nee -> Overweeg: Faster R-CNN\n",
    "|   |\n",
    "|   |-- Segmentatie\n",
    "|       |-- Is nauwkeurigheid van elke pixel belangrijk?\n",
    "|           |-- Ja -> Overweeg: Mask R-CNN, U-Net, DeepLab\n",
    "|           |-- Nee -> Overweeg snellere maar minder nauwkeurige modellen\n",
    "|\n",
    "|-- Wat is de resolutie en schaal van de afbeeldingen?\n",
    "|   |-- Hoge resolutie en meerdere schalen nodig\n",
    "|       |-- Zorg voor high-performance hardware (GPUs/TPUs)\n",
    "|       |-- Pas model-architectuur aan om schaling te ondersteunen\n",
    "|\n",
    "|-- Wat zijn de hardware- en rekenmogelijkheden?\n",
    "|   |-- Toegang tot GPU of TPU?\n",
    "|       |-- Ja -> Optimale modellen gebruiken met hogere rekenkracht\n",
    "|       |-- Nee -> Lichtgewicht modellen overwegen zoals MobileNet\n",
    "|\n",
    "|-- Welke deep learning frameworks en tools gebruik je?\n",
    "|   |-- TensorFlow of PyTorch gekozen?\n",
    "|       |-- Kies modelimplementatie die optimaal presteert met gekozen framework\n",
    "|\n",
    "|-- Heb je een pre-getraind model nodig?\n",
    "|   |-- Ja -> Transfer learning gebruiken voor snellere ontwikkeltijd\n",
    "|   |-- Nee -> Overweeg training vanaf nul als je een grote dataset hebt\n",
    "|\n",
    "|-- Welke evaluatiemetrieken zijn belangrijk?\n",
    "|   |-- Precision en recall doelen vastgesteld?\n",
    "|   |   |-- Ja -> Gebruik evaluatiemetrieken om modelprestaties te meten en te optimaliseren\n",
    "|   |\n",
    "|   |-- Is Intersection over Union (IoU) relevant?\n",
    "|       |-- Ja -> Belangrijk bij segmentatie- en detectieprojecten\n",
    "|\n",
    "|-- Iteratieve verbetering mogelijk?\n",
    "|   |-- Ja -> Voer periodieke hyperparametertuning en modelverbetering uit\n",
    "|   |-- Nee -> Evalueer consistent met de basisvereisten\n",
    "\n",
    "Einde"
   ]
  },
  {
   "cell_type": "code",
   "execution_count": null,
   "id": "d5640aba-03fa-4b80-b8b0-07e2a4cf7f2c",
   "metadata": {},
   "outputs": [],
   "source": []
  }
 ],
 "metadata": {
  "kernelspec": {
   "display_name": "Python 3 (ipykernel)",
   "language": "python",
   "name": "python3"
  },
  "language_info": {
   "codemirror_mode": {
    "name": "ipython",
    "version": 3
   },
   "file_extension": ".py",
   "mimetype": "text/x-python",
   "name": "python",
   "nbconvert_exporter": "python",
   "pygments_lexer": "ipython3",
   "version": "3.9.20"
  }
 },
 "nbformat": 4,
 "nbformat_minor": 5
}
