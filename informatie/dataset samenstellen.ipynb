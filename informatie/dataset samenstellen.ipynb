{
 "cells": [
  {
   "cell_type": "code",
   "execution_count": 1,
   "id": "55c569c7-4723-4998-a2e6-c32d2ac0c088",
   "metadata": {},
   "outputs": [],
   "source": [
    "from IPython.display import FileLink, FileLinks # Links moeten nog worden aangepast"
   ]
  },
  {
   "cell_type": "markdown",
   "id": "e0a633a4-f3a4-4d0b-9924-71c869c9c3bd",
   "metadata": {},
   "source": [
    "# Dataset Samenstellen"
   ]
  },
  {
   "cell_type": "markdown",
   "id": "3ce6f474-0857-4a6e-aff7-f9b485c3faaa",
   "metadata": {},
   "source": [
    "Het bouwen van een Computer Vision model begint bijna altijd bij het verzamelen van de data. Stel eerst de vraag:\n",
    "\n",
    "`Wat is het doel van dit model?` / `Hoe gaat het model gebruikt worden?`\n",
    "\n",
    "Dit geeft een beeld van hoeveel afbeeldingen per klasse nodig zijn."
   ]
  },
  {
   "cell_type": "markdown",
   "id": "eca0c040-e757-403d-8eea-cd7a4649511f",
   "metadata": {},
   "source": [
    "### Aantal Afbeeldingen op basis van Complexiteit"
   ]
  },
  {
   "cell_type": "markdown",
   "id": "71c224f8-225b-4637-9f7e-d0031cccdf03",
   "metadata": {},
   "source": [
    "1. **Basale objectherkenning** (bijv. herkenning van simpele objecten zoals dagelijkse voorwerpen):\n",
    "   - **Aantal afbeeldingen per klasse:** 100 - 1.000\n",
    "   - Hoe complexer of veelzijdiger de objecten, hoe meer afbeeldingen nodig zijn.\n",
    "\n",
    "2. **Complexe objectherkenning** (bijv. herkenning van objecten in wisselende omstandigheden of veel gelijkenis tussen klassen):\n",
    "   - **Aantal afbeeldingen per klasse:** 1.000 - 10.000\n",
    "   - Meer gegevens zijn nodig om de variabiliteit goed te dekken.\n",
    "\n",
    "3. **Fijnmazige classificatie** (bijv. onderscheiding van verschillende soorten vogels of automerken):\n",
    "   - **Aantal afbeeldingen per klasse:** 1.000 - 5.000\n",
    "   - Hoe dichterbij de klassen liggen, hoe meer afbeeldingen je nodig hebt.\n",
    "\n",
    "4. **Gezichtsherkenning of speciale toepassingen** (bijv. identificatie van gezichten, medische diagnose):\n",
    "   - **Aantal afbeeldingen per klasse:** Enkele honderden tot duizenden, afhankelijk van het vereiste detailniveau.\n",
    "   - Vaak zijn datasets in deze categorie zeer groot door de benodigde precisie.\n",
    "\n",
    "5. **Generalisatietesten** (voor toepassingen zoals augmentatie en transfer learning):\n",
    "   - **Aantal afbeeldingen per klasse:** 50 - 200 om een model van een grotere dataset te verfijnen."
   ]
  },
  {
   "cell_type": "markdown",
   "id": "d9f90f43-1b81-4f90-b48d-26cd9739de8a",
   "metadata": {},
   "source": [
    "Er zijn drie verschillende methode van data verzamelen: Online Databases, eigen afbeeldingen maken en een webscraper gebruiken. Onafhankelijk van welke methode je gebruikt is de kwaliteit van invloed op het resultaat van het model."
   ]
  },
  {
   "cell_type": "markdown",
   "id": "e25f1a6e-6221-4add-8895-cf833fe950c4",
   "metadata": {},
   "source": [
    "### Afbeeldings Kwaliteit\n",
    "Afhankelijk van het doeleinde en methode van verzamelen zijn bepaalde kwaliteits controles van hoger of lager belang. \n",
    "\n",
    "Let hierbij goed op de vraag: `Hoe gaat het model gebruikt worden?`"
   ]
  },
  {
   "cell_type": "markdown",
   "id": "f24059a0-e057-4456-abff-65835cd262a3",
   "metadata": {},
   "source": [
    "**Variatie in Omstandigheden:**\n",
    "   - **Licht:** Fotografeer onder verschillende lichtomstandigheden (zowel binnen als buiten, bij daglicht en kunstlicht) om de robuustheid van het model te verbeteren.\n",
    "   - **Hoeken en Perspectieven:** Neem afbeeldingen vanuit verschillende hoeken en perspectieven om ervoor te zorgen dat het model objecten vanuit diverse gezichtspunten kan herkennen.\n",
    "   - **Achtergronden:** Gebruik verschillende achtergronden om het model te helpen zich te concentreren op het object in plaats van op de achtergrond.\n",
    "\n",
    "    Let op! Deze variatie moet zo consistent mogelijk zijn tussen de klasse. (Niet 1 klasse met veel meer afbeeldingen van de zelfde achtergrond dan de rest.) De achtergrond heeft een lager belang bij een implementatie die consistent de zelfde achtergrond heeft.\n",
    "\n",
    "**Diversiteit van Objecten:**\n",
    "   - **Verschillende Exemplaren:** Zorg voor foto's van verschillende exemplaren binnen dezelfde klasse om model overfitting te vermijden en de generalisatie te bevorderen.\n",
    "   - **Afwisseling in Maat en Vorm:** Variatie in de grootte en vorm van objecten binnen dezelfde klasse kan nuttig zijn om de veelzijdigheid van het model te verbeteren.\n",
    "\n",
    "    Hou dit goed in de gaten bij het maken van eigen afbeelding, als je geen toegang hebt tot veel verschilende exemplaren heb je een goede externe datasets nodig om deze aan te vullen.\n",
    "\n",
    "**Consistentie en Resolutie:**\n",
    "   - **Resolutie:** Zorg dat alle afbeeldingen een consistente en voldoende hoge resolutie hebben om belangrijke details vast te leggen.\n",
    "   - **Aspect Ratio:** Houd een consistente aspectverhouding aan om voorbereidingstijd te verminderen tijdens de preprocessing.\n",
    "\n",
    "    Let op dat de afbeeldingen minimaal de gewenste resolutie hebben, upscalen is zwaar af te raden door het gebrek aan detail waar het model klasse aan kan herkennen. Hou ook het aspect ratio in de gaten, dit is niet problematisch maar een plan is nodig voor een goede integratie. Vooral bij webscaping heb je hier veel mee te maken.\n",
    "    \n",
    "**Balans Tussen Klassen:**\n",
    "   - **Gelijk Aantal Afbeeldingen per Klasse:** Verzamel een gelijk aantal afbeeldingen voor elke klasse om een gebalanceerd model te trainen zonder bias.\n",
    "\n",
    "    Uiteindelijk moet elke klasse ongeveer even veel afbeeldingen hebben, let goed op deze hoeveelheden bij het samenstellen van een dataset aangezien de externe datasets waarschijnlijk niet alle klasse bezitten. Dus als je deze samen gaat voegen kan de hoeveelheid correct zijn maar veroorzaak je gegarandeerd overfitting.\n",
    "\n",
    "**(Bij Object Detection) Metadata en Labeling:**\n",
    "   - **Nauwkeurige Labeling:** Zorg voor een nauwkeurige en consistente labeling van afbeeldingen. Overweeg het gebruik van tools voor het annoteren om dit proces te stroomlijnen.\n",
    "   - **Metadata Vastleggen:** Houd eventueel aanvullende metadata bij, zoals locatie, tijdstip, en gebruikte apparatuur, wat nuttig kan zijn voor verdere analyse en verbetering van het model.\n",
    "\n",
    "    Voor het labellen van data heb ik gebruik gemaakt van: https://www.makesense.ai/ er bestaan veel andere tools maar zijn vaak stiekem toch betaald of te ingewikkeld om aan de gang te krijgen."
   ]
  },
  {
   "cell_type": "markdown",
   "id": "78a12805-797d-4222-9546-f09dbb0af87f",
   "metadata": {},
   "source": [
    "## Externe Dataset"
   ]
  },
  {
   "cell_type": "markdown",
   "id": "ea338958-b19a-4b7a-8b70-3d5013a1b9e8",
   "metadata": {},
   "source": [
    "Bij het opbouwen van een dataset is de eerste stap vaak het kijken wat voor data al beschikbaar is.  Waarom duizenden afbeeldingen maken als iemand anders dit al heeft gedaan. Gelukkig bestaan er een hoop gratis online databanks zoals: [Kaggle](https://www.kaggle.com/), [Googles: Open Images](https://storage.googleapis.com/openimages/web/index.html) en [COCO](https://cocodataset.org/#home). \n",
    "[Googles: Open Images](https://storage.googleapis.com/openimages/web/index.html) en [COCO](https://cocodataset.org/#home) zijn beide 1 grote dataset waar je onderdelen van kan gebruiken terwijl [Kaggle](https://www.kaggle.com/datasets) een losse dataset zijn geupload door gebruikers. Het is vrij makkelijk te [instaleren en werkend krijgen](https://pypi.org/project/opendatasets/), [extra informatie & datasets](https://pypi.org/project/opendatasets/).\n",
    "\n",
    "Hieronder staat een excelsheet met de overwogen Kaggle datasets."
   ]
  },
  {
   "cell_type": "code",
   "execution_count": 11,
   "id": "00045046-a38f-4c92-b55c-8b10f3ba092f",
   "metadata": {},
   "outputs": [],
   "source": [
    "# # Commentaar over kwaliteit datasets mag beter\n",
    "# FileLink(\"..\\\\..\\\\Data\\\\Datasets Excelsheet.pdf\")"
   ]
  },
  {
   "cell_type": "markdown",
   "id": "837a4e02-1a5b-4c86-893e-f21697e908fc",
   "metadata": {},
   "source": [
    "#### \n",
    "Bekijk [Kaggle: Fruit detection YOLOv4 dataset](https://www.kaggle.com/datasets/kvnpatel/fruits-vegetable-detection-for-yolov4).\n",
    "\n",
    "Overweeg waarom dit wel of niet een goede set kan zijn."
   ]
  },
  {
   "cell_type": "markdown",
   "id": "e9a34b69-230c-446b-96ef-73b940e5e936",
   "metadata": {},
   "source": [
    "##### Onderbouwing:\n",
    "*(Verander of maak hier een bestand voor aan die de dataset checkt)*"
   ]
  },
  {
   "cell_type": "markdown",
   "id": "77ed2f78-530d-432f-b8c9-80fc8ee76757",
   "metadata": {},
   "source": [
    "- **Variatie in Omstandigheden:** De omstandigheden waren vrijwel identiek, echter maakt dit de set nog niet slecht. Als de implementatie bijvoorbeeld in de supermarkt kassa of bon apparaat was zijn dit goede afbeeldingen ter ondersteuning.\n",
    "- **Diversiteit van Objecten:** Dit is goed genoeg, het heeft meerdere objecten per klasse die soms alleen of samen op de zelfde afbeelding staan.\n",
    "- **Consistentie en Resolutie:** Aangezien alle afbeeldingen door de zelfde persoon zijn gemaakt met de zelde camera is de consistentie goed, de resolutie is ook groot genoeg om met de meeste andere sets samen te kunnen werken en geen problemen op te leveren met downscalen. (Dit zou alleen een probleem zijn als je een stuk hogere resolutie nodig hebt.)\n",
    "- **Balans Tussen Klassen:** Het is moeilijk te zien of dit goed is aangezien de afbeeldingen niet verdeeld zijn over verschillende afbeeldingen, in dit soort gevallen is het aan te raden om dit te checken. *(Voeg nog code toe waar dit wordt gecheckt)*\n",
    "- **Metadata en Labeling:** Door alleen naar de afbeeldingen te kijken is niet te zien dat dit correct is. Echter na het printen van de afbeeldingen wel:\n",
    "\n",
    "![image.png](attachment:0abe7b69-ca01-49f1-b175-5ebc3927424d.png)\n",
    "![image.png](attachment:c7dec3b5-a08f-40c1-b111-423e2bf82ea7.png) *(Nog opnieuw maken / in bestand aantonen)*\n",
    "\n",
    "In het geval dat je deze klasse wilt gebruiken zou dit een erg goede dataset zijn. Maar op het moment dat een paar klasse ontbreken is dit toch af te raden op basis van variatie en balans."
   ]
  },
  {
   "cell_type": "markdown",
   "id": "eba15766-95b6-48c3-9260-fb4a9d454704",
   "metadata": {},
   "source": [
    "#### \n",
    "Bekijk ook: [Kaggle: Fresh and rotten fruits](https://www.kaggle.com/datasets/sriramr/fruits-fresh-and-rotten-for-classification)"
   ]
  },
  {
   "cell_type": "markdown",
   "id": "42f72121-db5b-4399-b010-b650c7d42764",
   "metadata": {},
   "source": [
    "##### Onderbouwing:"
   ]
  },
  {
   "cell_type": "markdown",
   "id": "d39c3d54-aa48-460d-92c5-1dc89ab112cb",
   "metadata": {},
   "source": [
    "- **Variatie in Omstandigheden:** Er is bijna geen variatie, wat het slechter maakt is dat een paar afbeeldingen dit wel heeft wat de kans op overfitting vergroot.\n",
    "- **Diversiteit van Objecten:** Deze dataset heeft wel meer dan genoeg diversiteit(, ondanks dat een deel van de afbeeldingen nep zijn). \n",
    "- **Consistentie en Resolutie:** Het lijkt alsof veel afbeeldingen van het internet zijn geplukt, door naar verschillende afbeeldingen te kijken (of de grootte) kan je zien dat de resolutie niet consistent is. Dat zorgd vaak voor geen problemen zolang de aspect ratio correct is.\n",
    "- **Balans Tussen Klassen:** Het is moeilijk te zien of dit goed is aangezien de afbeeldingen niet verdeeld zijn over verschillende afbeeldingen, in dit soort gevallen is het aan te raden om dit te checken. *(Voeg nog code toe waar dit wordt gecheckt)*\n",
    "- **Metadata en Labeling:** Dit is een dataset voor image classification.\n",
    "\n",
    "Al met al is het zwaar af te raden deze dataset te gebruiken. (Tenzij je toevallig nog een paar extra afbeeldingen moet toevoegen voor balans.)"
   ]
  },
  {
   "cell_type": "markdown",
   "id": "254aa36e-33a4-4241-8728-1149ea6e8374",
   "metadata": {},
   "source": [
    "## Eigen Afbeeldingen"
   ]
  },
  {
   "cell_type": "markdown",
   "id": "1ecfde98-40f4-42b2-9857-94a94dd98b61",
   "metadata": {},
   "source": [
    "Hoewel het verzamelen van eigen data niet altijd noodzakelijk is is het zeker aan te raden. Stel jezelf de vraag: \n",
    "\n",
    "`Is de huidige dataset representatief voor de implementatie?`\n",
    "\n",
    "In het algemeen wil je dat minimaal **30-50%** van de afbeeldingen overeenkomen met de input die het model kan verwachten."
   ]
  },
  {
   "cell_type": "markdown",
   "id": "ab2a95cc-6583-47f1-b340-e55d8ebe6c2b",
   "metadata": {},
   "source": [
    "    Vooral bij het maken van eigen afbeeldingen zijn de kwaliteits eisen van hoog belang. Mijn advies is om een tabel te maken om tijdens de fotoshoot goed grip op deze eisen te kunnen houden."
   ]
  },
  {
   "cell_type": "markdown",
   "id": "f0bd5396-306b-4e31-804d-f909f86bae40",
   "metadata": {},
   "source": [
    "#### Image Detection"
   ]
  },
  {
   "cell_type": "markdown",
   "id": "fd7419a5-8492-4c06-8a2b-d18a2b16cca1",
   "metadata": {},
   "source": [
    "In het geval je met Image Detection wilt werken moet je rekening houden met de hoeveelheid tijd die het kost om alle afbeeldingen te labelen. De simpele tool die ik aanbeveel is [MakeSense](https://www.makesense.ai/). \n",
    "Hier is ook een hotkey voor gemaakt:"
   ]
  },
  {
   "cell_type": "code",
   "execution_count": 23,
   "id": "b96f8aed-c804-4cb2-a658-b98bd68fc338",
   "metadata": {},
   "outputs": [
    {
     "data": {
      "text/html": [
       "<a href='..\\code\\MakeSenseHotkey.ahk' target='_blank'>..\\code\\MakeSenseHotkey.ahk</a><br>"
      ],
      "text/plain": [
       "E:\\Studie\\Stage\\Computer-Vision-Showcase-SUPERP\\code\\MakeSenseHotkey.ahk"
      ]
     },
     "execution_count": 23,
     "metadata": {},
     "output_type": "execute_result"
    }
   ],
   "source": [
    "FileLink(\"..\\\\code\\\\MakeSenseHotkey.ahk\")"
   ]
  },
  {
   "cell_type": "markdown",
   "id": "ca33f964-bb01-4cbb-b7eb-f02bed109f9f",
   "metadata": {},
   "source": [
    "    (Momenteel is de hotkey gezet op extra muisknoppen maar dit kan ook op andere knoppen worden gezet, verder is het nu een .ahk maar zou hier ook een .exe van kunnen maken - met een klein beetje uitzoek werk)"
   ]
  },
  {
   "cell_type": "markdown",
   "id": "d12696c5-33f1-412d-9c85-c1dba8fb8312",
   "metadata": {},
   "source": [
    "## Web-Scraper"
   ]
  },
  {
   "cell_type": "markdown",
   "id": "f99dd48e-a43d-4b56-8e38-4b4426157a83",
   "metadata": {},
   "source": [
    "Een dataset opgebouwd door afbeeldingen van een web scraper kan vrijwel nooit de kwaliteits eisen halen, dus in het geval je dit wel doet zorg dat je goed zicht houdt op wat er in je dataset bevind. (Voor beginners zwaar af te raden.)\n",
    "Je kan overwegen de web-scraper te gebruiken op het moment dat:\n",
    "- De klasse nog ongelijk zijn en afbeeldings kwaliteit geen verschil zou maken. (Dus een klein percentage afbeeldingen niet 30% van de klasse.)\n",
    "- Wanneer je al een grote set hebt en extra \"ruis\" wilt toevoegen.\n",
    "- Andere opties niet beschikbaar zijn.\n",
    "- Het model moet werken op nieuwe afbeeldingen van het internet.\n",
    "\n",
    "Hieronder de webscraper:"
   ]
  },
  {
   "cell_type": "code",
   "execution_count": 27,
   "id": "55463ea9-f0dd-4a15-8386-6aca5f8a0525",
   "metadata": {},
   "outputs": [
    {
     "data": {
      "text/html": [
       "<a href='..\\code\\Webscraper.ipynb' target='_blank'>..\\code\\Webscraper.ipynb</a><br>"
      ],
      "text/plain": [
       "E:\\Studie\\Stage\\Computer-Vision-Showcase-SUPERP\\code\\Webscraper.ipynb"
      ]
     },
     "execution_count": 27,
     "metadata": {},
     "output_type": "execute_result"
    }
   ],
   "source": [
    "FileLink('..\\\\code\\\\Webscraper.ipynb')"
   ]
  },
  {
   "cell_type": "markdown",
   "id": "99b99404-1e8f-4012-8494-9dc0941548c9",
   "metadata": {},
   "source": [
    "### Blik op Dataset\n",
    "Om een goed beeld te kunnen krijgen van wat je in de dataset heb kan je door de folders kijken om te zien wat voor data je nou echt hebt maar dit zegt nog niet alles. In onderstaande notebook gebruiken we een paar functies om te kijken naar wat er nu in je dataset bevind."
   ]
  },
  {
   "cell_type": "code",
   "execution_count": 29,
   "id": "540ca561-3b7c-41df-b94d-452122c05f01",
   "metadata": {},
   "outputs": [
    {
     "data": {
      "text/html": [
       "<a href='..\\code\\Data Understanding.ipynb' target='_blank'>..\\code\\Data Understanding.ipynb</a><br>"
      ],
      "text/plain": [
       "E:\\Studie\\Stage\\Computer-Vision-Showcase-SUPERP\\code\\Data Understanding.ipynb"
      ]
     },
     "execution_count": 29,
     "metadata": {},
     "output_type": "execute_result"
    }
   ],
   "source": [
    "FileLink('..\\\\code\\\\Data Understanding.ipynb')"
   ]
  }
 ],
 "metadata": {
  "kernelspec": {
   "display_name": "Python 3 (ipykernel)",
   "language": "python",
   "name": "python3"
  },
  "language_info": {
   "codemirror_mode": {
    "name": "ipython",
    "version": 3
   },
   "file_extension": ".py",
   "mimetype": "text/x-python",
   "name": "python",
   "nbconvert_exporter": "python",
   "pygments_lexer": "ipython3",
   "version": "3.9.20"
  }
 },
 "nbformat": 4,
 "nbformat_minor": 5
}
