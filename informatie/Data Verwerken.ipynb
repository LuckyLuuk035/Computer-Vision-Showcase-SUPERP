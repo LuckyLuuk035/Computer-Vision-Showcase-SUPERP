{
 "cells": [
  {
   "cell_type": "markdown",
   "id": "dfb8e32d-a7c6-436a-a5f4-60ed66ac5cd9",
   "metadata": {},
   "source": [
    "Voor je de dataset samenstelt moet de keuze tussen de verschillende vormen van computer vision al zijn gedaan. Met als keuzes: Classification, Detection en Segmentation. Als het niet duidelijk is welk type model je wilt maken ga door naar het kopje 'Model Trainen' -> 'Model keuze'.\n",
    "\n",
    "    'Model Trainen' -> 'Model keuze' -staat nog niet in de github repo"
   ]
  },
  {
   "cell_type": "code",
   "execution_count": 2,
   "id": "b19b75de-1202-45eb-85a1-3f8232325452",
   "metadata": {},
   "outputs": [],
   "source": [
    "from IPython.display import FileLink, FileLinks"
   ]
  },
  {
   "cell_type": "markdown",
   "id": "ac9d1ed4-6530-4df4-a07a-d46ab2046822",
   "metadata": {},
   "source": [
    "# Data Verwerken"
   ]
  },
  {
   "cell_type": "markdown",
   "id": "abf9185e-cd2b-449e-81e4-e15c290d2e3e",
   "metadata": {},
   "source": [
    "### Gewenste Folder Structuur"
   ]
  },
  {
   "cell_type": "markdown",
   "id": "99460ca1-ff43-4792-abbb-6713354863fe",
   "metadata": {},
   "source": [
    "Afhankelijk van het type model dat je gaat trainen zijn er verschillende soorten aanbevolen structuren. \n",
    "Zorg dat je data op deze manier gestructuurd staat in het geval je gebruik wil maken van libraries (Extreem aan te raden). "
   ]
  },
  {
   "cell_type": "markdown",
   "id": "8f0bfb58-2dc7-436c-836b-94633291835d",
   "metadata": {},
   "source": [
    "#### Image Classification"
   ]
  },
  {
   "attachments": {
    "c1a84018-72fa-48be-a8d4-8436ad8c67a8.png": {
     "image/png": "[encoded data removed]"
    },
    "f353aecd-6157-45b8-bddc-b7aaf950d954.png": {
     "image/png": "[encoded data removed]"
    }
   },
   "cell_type": "markdown",
   "id": "f777128e-b40c-473f-a17a-b150f73acde6",
   "metadata": {
    "jp-MarkdownHeadingCollapsed": true
   },
   "source": [
    "Bij image classification wil je de de afbeeldingen verdeeld per class name:\n",
    "\n",
    "![image.png](attachment:c1a84018-72fa-48be-a8d4-8436ad8c67a8.png)\n",
    "\n",
    "Je zou al de afbeeldingen kunnen verdelen over een test, train en validatie set.\n",
    "\n",
    "![image.png](attachment:f353aecd-6157-45b8-bddc-b7aaf950d954.png)\n",
    "\n",
    "Doe dit op het moment dat je een specifiek idee hebt waar je welke afbeeldingen wilt hebben, zo niet doe het verdelen met code (de aanbevolen methode)."
   ]
  },
  {
   "cell_type": "markdown",
   "id": "1343794c-1886-4755-985d-1a4eb4e8a354",
   "metadata": {},
   "source": [
    "#### Object Detection"
   ]
  },
  {
   "attachments": {
    "fb155931-1fc1-49b5-a914-29d27515b317.png": {
     "image/png": "[encoded data removed]"
    }
   },
   "cell_type": "markdown",
   "id": "891ebefb-6411-4a94-a3d2-e18fe844ceea",
   "metadata": {},
   "source": [
    "Bij Image Detection wil je alle afbeeldingen in de zelfde map hebben. \n",
    "\n",
    "![image.png](attachment:fb155931-1fc1-49b5-a914-29d27515b317.png)\n",
    "\n",
    "Daarnaast wil je een tweede folder met alle label files. \n",
    "\n",
    "De namen van de afbeelding en het label moeten het zelfde zijn zodat de code het herkent als paar. Deze twee folders kunnen ook weer over test, train en validatie worden gesplitst. Let hierbij wel op dat de paren in dit proces niet worden gesplitst."
   ]
  },
  {
   "cell_type": "markdown",
   "id": "3f244034-6d4b-4d4b-943a-cb40fc3d1444",
   "metadata": {},
   "source": [
    "__Splitsen in training, validatie, en testsets__: Dit doen we met een verdeling zoals 70-15-15, waarbij elke set representatief is voor de variatie in de dataset. Deze splitsing moet willekeurig maar evenwichtig per klasse zijn."
   ]
  },
  {
   "cell_type": "markdown",
   "id": "106f4893-a611-42b3-854c-74c672653f13",
   "metadata": {},
   "source": [
    "## Data Augmentatie"
   ]
  },
  {
   "cell_type": "markdown",
   "id": "8d64734a-801a-4fa3-98eb-e06f3313998b",
   "metadata": {},
   "source": [
    "Voor het model getraind gaat worden doen we nog aanpassingen aan de dataset. Dit doen we om: de dataset bruikbaar te maken, het model robuster, klasse balans recht te trekken al met al de dataset te optimaliseren voor het gebruik. "
   ]
  },
  {
   "cell_type": "markdown",
   "id": "8dbcc67d-13b6-446c-9a2c-af332bbec805",
   "metadata": {},
   "source": [
    "#### Normaliseren"
   ]
  },
  {
   "cell_type": "markdown",
   "id": "eb1d08e4-f465-4c41-9cf4-42d76cf515d2",
   "metadata": {},
   "source": [
    "Normaliseren is de schaalveranderingen van de invoerdata zodat het binnen een bepaalde range valt, meestal tussen 0 en 1, of een standaard normaalverdeling met een gemiddelde van 0 en een standaarddeviatie van 1.\n",
    "\n",
    "__Waarom normaliseren?__\n",
    "1. **Consistente Schaal:** Verschillende features kunnen sterk uiteenlopende schalen hebben. Normaliseren brengt ze op een vergelijkbare schaal, waardoor algoritmen zoals SGD beter kunnen werken omdat ze minder tijd verliezen met het omgaan met grote, ongelijke stappen in verschillende richtingen.\n",
    "\n",
    "2. **Snellere Convergentie:** Door data te normaliseren kan het optimalisatieproces sneller en effectiever verlopen, omdat de cost function uitkomsten/resultaten meestal beter behandeld kunnen worden met genormaliseerde data.\n",
    "\n",
    "3. **Voorkomen van Dominantie door Groot-schaalfactoren:** Features met grote waardes kunnen bijdragen aan een onevenredig grote [gradiënt](https://builtin.com/data-science/gradient-descent), wat kan leiden tot instabiliteit in het model. Normalisatie beperkt dit effect.\n",
    "Pas normalisatie toe om de pixelwaardes naar een vergelijkbaar bereik te brengen, dit doen we gestandaardiseerd met het gemiddelde en standaardafwijking van de dataset.\n",
    "\n",
    "\n",
    "__Impact van Normalisatie:__\n",
    "\n",
    "- **Verbeterde Modelprestaties:** Vooral bij modellen die afhankelijk zijn van gradiënt-gebaseerde optimalisatie, zoals neurale netwerken, kan normalisatie leiden tot snellere convergentie en betere prestaties.\n",
    "  \n",
    "- **Verhoogde Stabiliteit:** Het helpt om numerieke instabiliteit te verminderen en voorkomt dat algoritmen worstelen met hoge waarden of afwijkende waarden.\n",
    "\n",
    "- **Betere Generalisatie:** Door ervoor te zorgen dat alle features een gelijke footing hebben, kan normalisatie helpen een betere generalisatie van modellen te behalen op ongeziene data door overfitting te verminderen."
   ]
  },
  {
   "cell_type": "markdown",
   "id": "d2fecb57-d3a3-43e8-a488-fc46e78ec4bc",
   "metadata": {},
   "source": [
    "#### Uniforme afbeeldingsgrootte"
   ]
  },
  {
   "cell_type": "markdown",
   "id": "41852784-efae-419e-81fc-89abc516fd59",
   "metadata": {},
   "source": [
    "Het model verwacht altijd een zelfde input grootte anders is het niet mogelijk om te leren. Omdat de afbeeldingen vaak variëren in grootte, transformeren weze naar een uniforme grootte. (bijvoorbeeld 224x224 pixels, wat standaard is voor veel CNN's zoals ResNet of EfficientNet [verdere uitleg over 224x224](https://www.quora.com/Why-many-deep-learning-models-take-224x224-images-as-input)). Hiervoor gebruiken we een methode zoals cropping, resize (met of zonder padding) of een adaptive pooling laag. De afbeeldingsgrootte is van belangaangezien als deze te klein is het details verliest waardoor het resultaat slechter is, een te hoge afbeeldingsgrootte zorgd voor een langere traintijd (en het upscalen van de afbeeldingen is ook af te raden door gebrek aan detail).\n",
    "\n",
    "Als je gebruik wilt maken van een pre-trained model is de bijhoorende uniforme grootte verplicht. Elke pixel achter elkaar gezet wordt gezien als de input layer. Deze kunnen we dus niet aanpassen aangezien het getrainde model alleen deze grootte kent."
   ]
  },
  {
   "cell_type": "markdown",
   "id": "20107341-4ac3-49b0-aaf7-22ff177922f2",
   "metadata": {},
   "source": [
    "### Correcte klasse verdeling"
   ]
  },
  {
   "cell_type": "markdown",
   "id": "1e4c8a0f-d576-4895-8c2e-bf440c5f922d",
   "metadata": {},
   "source": [
    "Om overfitting te voorkomen is het van belang een gelijke klasse verdeling te hebben. Hieronder is een eenvoudige methode om over- of undersampling toe te voegen."
   ]
  },
  {
   "cell_type": "code",
   "execution_count": 18,
   "id": "38d8029d-ba18-478f-9e9f-054f3a8e6747",
   "metadata": {},
   "outputs": [
    {
     "data": {
      "text/html": [
       "<a href='..\\code\\over-under sampling.ipynb' target='_blank'>..\\code\\over-under sampling.ipynb</a><br>"
      ],
      "text/plain": [
       "E:\\Studie\\Stage\\Computer-Vision-Showcase-SUPERP\\code\\over-under sampling.ipynb"
      ]
     },
     "execution_count": 18,
     "metadata": {},
     "output_type": "execute_result"
    }
   ],
   "source": [
    "FileLink(\"..\\\\code\\\\over-under sampling.ipynb\")"
   ]
  },
  {
   "cell_type": "markdown",
   "id": "11ca1947-e1dd-4c6d-8cf2-7c392b4e305b",
   "metadata": {},
   "source": [
    "#### Extra Augmentatie methodes"
   ]
  },
  {
   "cell_type": "markdown",
   "id": "713b91b9-3aa2-4dd9-8d1c-a5997c3e229c",
   "metadata": {},
   "source": [
    "- __Random cropping__: De afbeelding inzoomen zodat een deel van het object vervalt.\n",
    "- __Random Erasing__: In de afbeelding een stuk overlappen zodat niet het hele object meer zichtbaar is.\n",
    "- __Rotaties__: De afbeelding draaien om verschillende hoeken van het object te simuleren.\n",
    "- __Lichtvariaties__: pas helderheid, contrast en kleurveranderingen toe om te trainen op verschillende lichtomstandigheden.\n",
    "- __Shearing en schalen__: Door geometrische vervorming toe te voegen kunnen we de robuustheid vergroten.\n",
    "- __Flippen en spiegelen__: zorgt voor variatie in oriëntatie.\n",
    "- __Occlusie simulatie__: soms zijn objecten gedeeltelijk bedekt. Gebruik augmentaties zoals **Cutout of Gaussian blur**(*verder onderzoeken*) om dit soort scenario’s te simuleren."
   ]
  },
  {
   "cell_type": "markdown",
   "id": "188a3ac4-5f37-4087-ac43-6055cb89d960",
   "metadata": {},
   "source": [
    "Deze stappen hoef je gelukkig niet allemaal zelf uit te voeren."
   ]
  },
  {
   "cell_type": "markdown",
   "id": "28fc827a-4464-4a5f-9c72-b7008435b46f",
   "metadata": {},
   "source": [
    "#### Dataloader / Transformer"
   ]
  },
  {
   "cell_type": "markdown",
   "id": "2523261f-535d-4951-8e07-bba16463c42e",
   "metadata": {},
   "source": [
    "Het is aanbevolen om gebruik te maken van Dataloaders en Transformers. Hierdoor ben je in het algemeen wel verplicht de bijhorende libraries te gebruiken van de loader. Dit is een kleine opgave aangezien dataloaders het inladen van de data automatisch doet met de juiste structuur (van hier boven). Waarbij de Transformer de meegegeven data augmentatie stappen toepast."
   ]
  },
  {
   "cell_type": "markdown",
   "id": "f9de773f-dac9-4b1c-9ed8-99d0fb39117c",
   "metadata": {},
   "source": [
    "Voorbeeld van hoe zo'n Transformer er uit ziet.\n",
    "```\n",
    "# Datatransformaties\n",
    "transform = transforms.Compose([\n",
    "    transforms.Resize((224, 224)),\n",
    "    transforms.RandomHorizontalFlip(),\n",
    "    transforms.RandomRotation(15),\n",
    "    transforms.ToTensor(),\n",
    "    transforms.Normalize(mean=[0.485, 0.456, 0.406], std=[0.229, 0.224, 0.225])\n",
    "])\n",
    "```\n",
    "Voor meer informatie over welke methodes toe te passen lees de [transform docs](https://pytorch.org/vision/stable/transforms.html) of Google de taak die je zoekt. *(Kijk eventueel verder bij de happyflow uitvoering hoe de transform is gebruikt voor data augmentation.)*"
   ]
  },
  {
   "cell_type": "code",
   "execution_count": 22,
   "id": "9ab609b2-645c-47aa-b783-951767f5c239",
   "metadata": {},
   "outputs": [
    {
     "data": {
      "text/html": [
       "<a href='..\\code\\Image Processing.ipynb' target='_blank'>..\\code\\Image Processing.ipynb</a><br>"
      ],
      "text/plain": [
       "E:\\Studie\\Stage\\Computer-Vision-Showcase-SUPERP\\code\\Image Processing.ipynb"
      ]
     },
     "execution_count": 22,
     "metadata": {},
     "output_type": "execute_result"
    }
   ],
   "source": [
    "# Handmatig afbeeldingen aanpassen\n",
    "FileLink('..\\\\code\\\\Image Processing.ipynb')"
   ]
  },
  {
   "cell_type": "code",
   "execution_count": 26,
   "id": "f25945e1-ab9d-4e81-bf38-f9e4f776484c",
   "metadata": {},
   "outputs": [
    {
     "data": {
      "text/html": [
       "Path (<tt>Dataset Samenstellen\\PyTorch Data Loading - Vegetable Image Dataset.ipynb</tt>) doesn't exist. It may still be in the process of being generated, or you may have the incorrect path."
      ],
      "text/plain": [
       "E:\\Studie\\Stage\\Computer-Vision-Showcase-SUPERP\\informatie\\Dataset Samenstellen\\PyTorch Data Loading - Vegetable Image Dataset.ipynb"
      ]
     },
     "execution_count": 26,
     "metadata": {},
     "output_type": "execute_result"
    }
   ],
   "source": [
    "# FileLink('Dataset Samenstellen\\\\PyTorch Data Loading - Vegetable Image Dataset.ipynb') # Mogelijk nog toevoegen"
   ]
  }
 ],
 "metadata": {
  "kernelspec": {
   "display_name": "Python 3 (ipykernel)",
   "language": "python",
   "name": "python3"
  },
  "language_info": {
   "codemirror_mode": {
    "name": "ipython",
    "version": 3
   },
   "file_extension": ".py",
   "mimetype": "text/x-python",
   "name": "python",
   "nbconvert_exporter": "python",
   "pygments_lexer": "ipython3",
   "version": "3.9.20"
  }
 },
 "nbformat": 4,
 "nbformat_minor": 5
}
