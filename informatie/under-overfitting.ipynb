{
 "cells": [
  {
   "cell_type": "markdown",
   "id": "65bcd335-5d40-4e63-92dd-f54998c80724",
   "metadata": {},
   "source": [
    "# Underfitting en Overfitting"
   ]
  },
  {
   "cell_type": "markdown",
   "id": "a37be93a-050e-4144-be0c-76a52ddb4618",
   "metadata": {},
   "source": [
    "Vooral wanneer je het model voor de eerste keer hebt getraind is de kans groot dat je te maken krijgen met of under of over-fitting. Dit proberen te voorkomen of overkomen is vaak de laatste horde van het train proces. [Hoe weet je of het model underfit of overfit?](https://www.linkedin.com/advice/0/what-some-methods-detect-overfitting-underfitting-rcqde)"
   ]
  },
  {
   "cell_type": "markdown",
   "id": "966b4937-052d-43e7-8802-84da0d102aff",
   "metadata": {},
   "source": [
    "### Underfitting"
   ]
  },
  {
   "cell_type": "markdown",
   "id": "79f2a943-178b-44a7-8441-894c574f77cf",
   "metadata": {},
   "source": [
    "**Definitie:** Underfitting treedt op wanneer een model te simpel is om de onderliggende patronen in de trainingsdata vast te leggen. Het model presteert slecht op zowel de trainingsdata als de nieuwe, ongeziene data.\n",
    "  \n",
    "**Oorzaken:**\n",
    "  - Een te eenvoudig model kiezen (bijvoorbeeld een lineair model voor een niet-lineaire dataset).\n",
    "  - Onvoldoende trainingsdata of te veel noise in de data.\n",
    "  - Te sterke regularisatie die de complexiteit van het model vermindert.\n",
    "\n",
    "**Gevolgen:** \n",
    "\n",
    "Het model heeft een hoge bias maar een lage variantie, wat resulteert in slechte voorspellingen en generalisering.\n",
    "\n",
    "**Oplossing:**\n",
    "  - Gebruik een complexer model dat rijkere patronen kan vasthouden.\n",
    "  - Gebruik meer relevante features.\n",
    "  - Train langer of met een andere optimizer/hogere leersnelheid."
   ]
  },
  {
   "cell_type": "markdown",
   "id": "905a7271-3004-4325-99b9-f5cbd5360a5c",
   "metadata": {},
   "source": [
    "### Overfitting"
   ]
  },
  {
   "cell_type": "markdown",
   "id": "1eb79c6d-7962-42c6-ab5c-9f112269c69a",
   "metadata": {},
   "source": [
    "**Definitie:** Overfitting treedt op wanneer een model te complex is en niet alleen de onderliggende patronen in de trainingsdata leert, maar ook de ruis en specifieke details ervan. Hierdoor presteert het uitstekend op de trainingsdata maar slecht op nieuwe, ongeziene data.\n",
    "  \n",
    "**Oorzaken:**\n",
    "  - Een te complex model kiezen (zoals een diep neuraal netwerk zonder voldoende data).\n",
    "  - Te weinig trainingsdata in verhouding tot de complexiteit van het model.\n",
    "  - Gebrek aan regularisatie.\n",
    "\n",
    "**Gevolgen:** \n",
    "\n",
    "Het model heeft een lage bias maar een hoge variantie, wat resulteert in slechte generalisatie naar nieuwe data.\n",
    "\n",
    "**Oplossing:**\n",
    "  - Voeg [regularisatie](https://www.pinecone.io/learn/regularization-in-neural-networks/) toe (zoals [L1 of L2 regularisatie](https://www.analyticsvidhya.com/blog/2018/04/fundamentals-deep-learning-regularization-techniques/)).\n",
    "  - Gebruik technieken zoals dropout in neurale netwerken. [Dropout Basics](https://www.dremio.com/wiki/dropout-in-neural-networks/#:~:text=Dropout%20in%20Neural%20Networks%20operates,to%20generalize%20to%20new%20data.) - [Dropout Advanced](https://towardsdatascience.com/dropout-in-neural-networks-47a162d621d9)\n",
    "  - Verzamel meer data of verrijk de dataset door data augmentatie.\n",
    "  - Eenvoudiger model gebruiken dat beter bij de dataset past."
   ]
  }
 ],
 "metadata": {
  "kernelspec": {
   "display_name": "Python 3 (ipykernel)",
   "language": "python",
   "name": "python3"
  },
  "language_info": {
   "codemirror_mode": {
    "name": "ipython",
    "version": 3
   },
   "file_extension": ".py",
   "mimetype": "text/x-python",
   "name": "python",
   "nbconvert_exporter": "python",
   "pygments_lexer": "ipython3",
   "version": "3.9.20"
  }
 },
 "nbformat": 4,
 "nbformat_minor": 5
}
