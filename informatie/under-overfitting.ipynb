{
 "cells": [
  {
   "cell_type": "markdown",
   "id": "08ea0252",
   "metadata": {},
   "source": [
    "# Draaiboek"
   ]
  },
  {
   "cell_type": "markdown",
   "id": "e908afd4",
   "metadata": {},
   "source": [
    "Mijn stage folder staat vol met een hoop Notebooks zonder dat de nuance duidelijk is. Dit bestand geeft de stappen van een Computer Vision project en verwijst je naar de bijhorende bestanden."
   ]
  },
  {
   "cell_type": "markdown",
   "id": "b9b05df9-870e-4125-82bf-87ddecd56501",
   "metadata": {},
   "source": [
    "Run `!pip install -r requirements.txt` of \n",
    "vul `python -m pip install -r requirements.txt` in een cmd in de folder van de locatie van dit bestand, dit geeft zicht op het download proces."
   ]
  },
  {
   "cell_type": "code",
   "execution_count": 4,
   "id": "c751983a-f2d9-49d8-9d22-14a72ff576c8",
   "metadata": {},
   "outputs": [],
   "source": [
    "# !pip install -r requirements.txt"
   ]
  },
  {
   "cell_type": "code",
   "execution_count": 5,
   "id": "3a665bbd",
   "metadata": {},
   "outputs": [],
   "source": [
    "from IPython.display import FileLink, FileLinks"
   ]
  },
  {
   "cell_type": "markdown",
   "id": "39d09f92-0c44-4121-88cb-78447ab06f55",
   "metadata": {},
   "source": [
    "## Dataset Samenstellen"
   ]
  },
  {
   "cell_type": "markdown",
   "id": "50476a23-2af5-4c49-8875-2b13d58ab837",
   "metadata": {},
   "source": [
    "Het bouwen van een Computer Vision model begint bijna altijd bij het verzamelen van de data. Wanneer de dataset perfect is is succes van het model zo goed als gegarandeerd. Bestudeer onderstaande notebook voor alle ins en outs."
   ]
  },
  {
   "cell_type": "code",
   "execution_count": 8,
   "id": "6e1ed824-e0b0-432a-a2a8-99dc28d642dc",
   "metadata": {},
   "outputs": [
    {
     "data": {
      "text/html": [
       "<a href='informatie\\dataset samenstellen.ipynb' target='_blank'>informatie\\dataset samenstellen.ipynb</a><br>"
      ],
      "text/plain": [
       "E:\\Studie\\Stage\\Computer-Vision-Showcase-SUPERP\\informatie\\dataset samenstellen.ipynb"
      ]
     },
     "execution_count": 8,
     "metadata": {},
     "output_type": "execute_result"
    }
   ],
   "source": [
    "FileLink('informatie\\\\dataset samenstellen.ipynb')"
   ]
  },
  {
   "cell_type": "markdown",
   "id": "dfb8e32d-a7c6-436a-a5f4-60ed66ac5cd9",
   "metadata": {},
   "source": [
    "Voor je de dataset samenstelt moet de keuze tussen de verschillende vormen van computer vision al zijn gedaan. Met als keuzes: Classification, Detection en Segmentation. Als het niet duidelijk is welk type model je wilt maken ga door naar het kopje 'Model Trainen' -> 'Model keuze'."
   ]
  },
  {
   "cell_type": "markdown",
   "id": "ac9d1ed4-6530-4df4-a07a-d46ab2046822",
   "metadata": {},
   "source": [
    "## Data Verwerken"
   ]
  },
  {
   "cell_type": "markdown",
   "id": "d4eaa4d0-cf9d-4837-8213-750d6fe867a1",
   "metadata": {},
   "source": [
    "Voor dat de data wordt gebruikt om het model te trainen"
   ]
  },
  {
   "cell_type": "code",
   "execution_count": 12,
   "id": "6e64081c-7f00-45fe-bbc7-654a9e51623d",
   "metadata": {},
   "outputs": [
    {
     "data": {
      "text/html": [
       "<a href='informatie\\Data Verwerken.ipynb' target='_blank'>informatie\\Data Verwerken.ipynb</a><br>"
      ],
      "text/plain": [
       "E:\\Studie\\Stage\\Computer-Vision-Showcase-SUPERP\\informatie\\Data Verwerken.ipynb"
      ]
     },
     "execution_count": 12,
     "metadata": {},
     "output_type": "execute_result"
    }
   ],
   "source": [
    "FileLink('informatie\\\\Data Verwerken.ipynb')"
   ]
  },
  {
   "cell_type": "markdown",
   "id": "51c4097e-4009-4daa-8d32-8fd3c851b71d",
   "metadata": {},
   "source": [
    "## Model Trainen"
   ]
  },
  {
   "cell_type": "markdown",
   "id": "135e802e-11c1-4e35-ab64-0f0e520630d0",
   "metadata": {},
   "source": [
    "Bekijk onderstaande notebook voor meer informatie over het train proces."
   ]
  },
  {
   "cell_type": "code",
   "execution_count": 15,
   "id": "8ae37620-56f7-4689-999d-8d4813f64a2b",
   "metadata": {},
   "outputs": [
    {
     "data": {
      "text/html": [
       "<a href='informatie\\Model Trainen.ipynb' target='_blank'>informatie\\Model Trainen.ipynb</a><br>"
      ],
      "text/plain": [
       "E:\\Studie\\Stage\\Computer-Vision-Showcase-SUPERP\\informatie\\Model Trainen.ipynb"
      ]
     },
     "execution_count": 15,
     "metadata": {},
     "output_type": "execute_result"
    }
   ],
   "source": [
    "FileLink('informatie\\\\Model Trainen.ipynb')"
   ]
  },
  {
   "cell_type": "markdown",
   "id": "cc86b8c2-c1ee-47b6-8531-5b87e7550fdb",
   "metadata": {},
   "source": [
    "#### Happy Flow"
   ]
  },
  {
   "cell_type": "code",
   "execution_count": 39,
   "id": "0feaa312-f398-434b-8a89-ab8a7a30a958",
   "metadata": {},
   "outputs": [
    {
     "data": {
      "text/html": [
       "<a href='code\\ResNet50_model_trainen.ipynb' target='_blank'>code\\ResNet50_model_trainen.ipynb</a><br>"
      ],
      "text/plain": [
       "E:\\Studie\\Stage\\Computer-Vision-Showcase-SUPERP\\code\\ResNet50_model_trainen.ipynb"
      ]
     },
     "execution_count": 39,
     "metadata": {},
     "output_type": "execute_result"
    }
   ],
   "source": [
    "# Hier het train process\n",
    "FileLink('code\\\\ResNet50_model_trainen.ipynb')"
   ]
  },
  {
   "cell_type": "markdown",
   "id": "8ba3c07c-b0f9-4879-b8f6-9c934914fb2c",
   "metadata": {},
   "source": [
    "#### Model Gebruiken"
   ]
  },
  {
   "cell_type": "code",
   "execution_count": 25,
   "id": "1b483ed2-8382-4445-9bc7-5eae0aa5ec1e",
   "metadata": {},
   "outputs": [
    {
     "data": {
      "text/html": [
       "<a href='code\\ResNet50_model_gebruiken.ipynb' target='_blank'>code\\ResNet50_model_gebruiken.ipynb</a><br>"
      ],
      "text/plain": [
       "E:\\Studie\\Stage\\Computer-Vision-Showcase-SUPERP\\code\\ResNet50_model_gebruiken.ipynb"
      ]
     },
     "execution_count": 25,
     "metadata": {},
     "output_type": "execute_result"
    }
   ],
   "source": [
    "# Gebruiken van model\n",
    "FileLink('code\\\\ResNet50_model_gebruiken.ipynb')"
   ]
  },
  {
   "cell_type": "markdown",
   "id": "65bcd335-5d40-4e63-92dd-f54998c80724",
   "metadata": {},
   "source": [
    "## Evaluatie en Implementatie"
   ]
  },
  {
   "cell_type": "markdown",
   "id": "a37be93a-050e-4144-be0c-76a52ddb4618",
   "metadata": {},
   "source": [
    "Nadat het trainen van het model is voltooid is het tijd de resultaten te evalueren. Het balanceren van de complexiteit van een model is essentieel om een goed generaliserend model te ontwikkelen dat even goed presteert op zowel trainings- als testdata."
   ]
  },
  {
   "cell_type": "markdown",
   "id": "966b4937-052d-43e7-8802-84da0d102aff",
   "metadata": {
    "jp-MarkdownHeadingCollapsed": true
   },
   "source": [
    "#### Underfitting"
   ]
  },
  {
   "cell_type": "markdown",
   "id": "79f2a943-178b-44a7-8441-894c574f77cf",
   "metadata": {},
   "source": [
    "**Definitie:** Underfitting treedt op wanneer een model te simpel is om de onderliggende patronen in de trainingsdata vast te leggen. Het model presteert slecht op zowel de trainingsdata als de nieuwe, ongeziene data.\n",
    "  \n",
    "**Oorzaken:**\n",
    "  - Een te eenvoudig model kiezen (bijvoorbeeld een lineair model voor een niet-lineaire dataset).\n",
    "  - Onvoldoende trainingsdata of te veel noise in de data.\n",
    "  - Te sterke regularisatie die de complexiteit van het model vermindert.\n",
    "\n",
    "**Gevolgen:** \n",
    "\n",
    "Het model heeft een hoge bias maar een lage variantie, wat resulteert in slechte voorspellingen en generalisering.\n",
    "\n",
    "**Oplossing:**\n",
    "  - Gebruik een complexer model dat rijkere patronen kan vasthouden.\n",
    "  - Gebruik meer relevante features.\n",
    "  - Train langer of met een andere optimizer/hogere leersnelheid."
   ]
  },
  {
   "cell_type": "markdown",
   "id": "905a7271-3004-4325-99b9-f5cbd5360a5c",
   "metadata": {
    "jp-MarkdownHeadingCollapsed": true
   },
   "source": [
    "#### Overfitting"
   ]
  },
  {
   "cell_type": "markdown",
   "id": "1eb79c6d-7962-42c6-ab5c-9f112269c69a",
   "metadata": {},
   "source": [
    "**Definitie:** Overfitting treedt op wanneer een model te complex is en niet alleen de onderliggende patronen in de trainingsdata leert, maar ook de ruis en specifieke details ervan. Hierdoor presteert het uitstekend op de trainingsdata maar slecht op nieuwe, ongeziene data.\n",
    "  \n",
    "**Oorzaken:**\n",
    "  - Een te complex model kiezen (zoals een diep neuraal netwerk zonder voldoende data).\n",
    "  - Te weinig trainingsdata in verhouding tot de complexiteit van het model.\n",
    "  - Gebrek aan regularisatie.\n",
    "\n",
    "**Gevolgen:** \n",
    "\n",
    "Het model heeft een lage bias maar een hoge variantie, wat resulteert in slechte generalisatie naar nieuwe data.\n",
    "\n",
    "**Oplossing:**\n",
    "  - Voeg [regularisatie](https://www.pinecone.io/learn/regularization-in-neural-networks/) toe (zoals [L1 of L2 regularisatie](https://www.analyticsvidhya.com/blog/2018/04/fundamentals-deep-learning-regularization-techniques/)).\n",
    "  - Gebruik technieken zoals dropout in neurale netwerken. [Dropout Basics](https://www.dremio.com/wiki/dropout-in-neural-networks/#:~:text=Dropout%20in%20Neural%20Networks%20operates,to%20generalize%20to%20new%20data.) - [Dropout Advanced](https://towardsdatascience.com/dropout-in-neural-networks-47a162d621d9)\n",
    "  - Verzamel meer data of verrijk de dataset door data augmentatie.\n",
    "  - Eenvoudiger model gebruiken dat beter bij de dataset past."
   ]
  },
  {
   "cell_type": "markdown",
   "id": "cea6bde9-1004-49ba-85ab-196e502cb8c7",
   "metadata": {},
   "source": [
    "### Implementatie"
   ]
  },
  {
   "cell_type": "markdown",
   "id": "1f95c23b-3f55-4662-8bfa-0592191cf159",
   "metadata": {},
   "source": [
    "#### Mendix Implementatie"
   ]
  },
  {
   "cell_type": "markdown",
   "id": "54c9f9d2-3a51-4e52-a091-d0eb691002a0",
   "metadata": {},
   "source": [
    "Aangezien MxBlue zich richt op (je had het vast niet geraden) Mendix gaan we de implementatie ook alleen uitwerken voor in Mendix.\n",
    "Er zijn andere mogelijkheden, echter is vaak het eindpunt in python of een .pt /.pth bestand.\n",
    "\n",
    "In het geval je met `Pytorch` werkt (waar ik wel vanuit ga) is het opslaan van je model vrij simpel\n",
    "\n",
    "``` Python\n",
    "torch.save(model.state_dict(), 'name_model.pth')\n",
    "```\n",
    "\n",
    "Dit .pth bestand zijn alle weights en biases voor elke layer. En deze kan op zelfde wijze worden gebruikt als de andere pre-trained models. *(Je zet de gewenste model structuur op laad het bestand in)*\n",
    "\n",
    "Vanaf dit punt kan je het __model omzetten__ voor het gebruik in mendix. Onderstaande notebook gaat hier over."
   ]
  },
  {
   "cell_type": "code",
   "execution_count": 28,
   "id": "00ab0226-cfb0-4143-a6fb-45b6188dafd5",
   "metadata": {},
   "outputs": [],
   "source": [
    "# FileLink('Model to mendix\\\\torch_to_onnx.ipynb')"
   ]
  }
 ],
 "metadata": {
  "kernelspec": {
   "display_name": "Python 3 (ipykernel)",
   "language": "python",
   "name": "python3"
  },
  "language_info": {
   "codemirror_mode": {
    "name": "ipython",
    "version": 3
   },
   "file_extension": ".py",
   "mimetype": "text/x-python",
   "name": "python",
   "nbconvert_exporter": "python",
   "pygments_lexer": "ipython3",
   "version": "3.9.20"
  }
 },
 "nbformat": 4,
 "nbformat_minor": 5
}
